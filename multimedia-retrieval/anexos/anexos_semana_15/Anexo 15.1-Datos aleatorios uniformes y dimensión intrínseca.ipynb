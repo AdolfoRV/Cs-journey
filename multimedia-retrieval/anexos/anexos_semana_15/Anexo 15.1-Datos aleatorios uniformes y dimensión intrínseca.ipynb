{
 "cells": [
  {
   "cell_type": "markdown",
   "id": "f850c1b3",
   "metadata": {},
   "source": [
    "# Ejemplo datos aleatorios uniformes y dimensión intrínseca\n",
    "\n",
    "**Curso**: CC5213 - Recuperación de Información Multimedia  \n",
    "**Profesor**: Juan Manuel Barrios  \n",
    "**Fecha**: 21 de junio de 2025"
   ]
  },
  {
   "cell_type": "markdown",
   "id": "ba933b32",
   "metadata": {},
   "source": [
    "Se va a probar qué sucede si el dataset se compone de vectores aleatorios uniformes.   \n",
    "¿los índices podrán acelerar las búsquedas?\n",
    "\n",
    "1. Se genera un dataset con vectores aleatorios de 128-dimensiones.\n",
    "\n",
    "2. Se resuelve la búsqueda exacta usando un k-d tree, que resulta ser mucho más lenta que el linear scan.\n",
    "\n",
    "3. Se resuelven búsquedas aproximadas con k-d tree, que muestra poca ganancia en tiempo.\n",
    "\n",
    "4. Al graficar el histograma de distancias del dataset, se ve que es simétrico con distancias cercanas al promedio, y al calcular la dimensión intrínseca da un valor grande, cercano a la dimensión real.\n",
    "\n",
    "5. Finalmente se compara con el histograma de distancias de datos reales, donde se ve un histograma con una forma distinta al anterior. Al calcular la dimensión intrínseca se observa que entrega un valor mucho menor a su dimensión real.\n"
   ]
  },
  {
   "cell_type": "markdown",
   "id": "092d81ca-dfc2-492b-bc87-54a148373ab7",
   "metadata": {},
   "source": [
    "## Generar dataset aleatorio uniforme de 128-d"
   ]
  },
  {
   "cell_type": "code",
   "execution_count": null,
   "id": "847769ae",
   "metadata": {},
   "outputs": [],
   "source": [
    "import numpy\n",
    "\n",
    "numpy.random.seed(4)\n",
    "\n",
    "\n",
    "def generar_random_datasets(num_vectores_r, num_vectores_q, dimensiones):\n",
    "    dataset_r = numpy.random.rand(num_vectores_r, dimensiones).astype(numpy.float32)\n",
    "    dataset_q = numpy.random.rand(num_vectores_q, dimensiones).astype(numpy.float32)\n",
    "    print(\"R={} Q={}\".format(dataset_r.shape, dataset_q.shape))\n",
    "    return dataset_r, dataset_q\n",
    "\n",
    "\n",
    "dataset_r, dataset_q = generar_random_datasets(100000, 1000, 128)\n",
    "# para que los valores queden entre 0 y 100\n",
    "dataset_q *= 100\n",
    "dataset_r *= 100\n",
    "print(dataset_r)"
   ]
  },
  {
   "cell_type": "markdown",
   "id": "d9ce792a-139a-4e7b-ad93-d7104f2419e8",
   "metadata": {},
   "source": [
    "## Funciones para evaluar búsquedas"
   ]
  },
  {
   "cell_type": "code",
   "execution_count": null,
   "id": "561ee051",
   "metadata": {},
   "outputs": [],
   "source": [
    "import time\n",
    "\n",
    "\n",
    "# calcular la calidad de la respuesta contra el resultado \"ideal\" dado por el linear scan\n",
    "class Resultado:\n",
    "    def __init__(self, nns_ideal, distancias_ideal, tiempo_ideal):\n",
    "        self.nns_ideal = nns_ideal\n",
    "        self.distancias_ideal = distancias_ideal\n",
    "        self.tiempo_ideal = tiempo_ideal\n",
    "        self.correctas = 0\n",
    "        self.incorrectas = 0\n",
    "        self.tiempo = 0\n",
    "        self.precision = 0\n",
    "        self.eficiencia = 0\n",
    "\n",
    "    def evaluar_busqueda(self, nns, distancias, segundos):\n",
    "        self.correctas = 0\n",
    "        self.incorrectas = 0\n",
    "        for i in range(len(self.nns_ideal)):\n",
    "            if nns[i] == self.nns_ideal[i] or distancias[i] == self.distancias_ideal[i]:\n",
    "                self.correctas += 1\n",
    "            else:\n",
    "                self.incorrectas += 1\n",
    "        self.tiempo = segundos\n",
    "        self.precision = self.correctas / (self.correctas + self.incorrectas)\n",
    "        self.eficiencia = self.tiempo / self.tiempo_ideal"
   ]
  },
  {
   "cell_type": "markdown",
   "id": "4367e74c-ff83-4efa-855c-c9445a56f751",
   "metadata": {},
   "source": [
    "## Medir el tiempo que toma el Linear scan"
   ]
  },
  {
   "cell_type": "code",
   "execution_count": null,
   "id": "cd66d4dd",
   "metadata": {},
   "outputs": [],
   "source": [
    "import pyflann\n",
    "import time\n",
    "\n",
    "# crear un objeto flann\n",
    "flann = pyflann.FLANN()\n",
    "flann.build_index(dataset_r, algorithm=\"linear\")\n",
    "\n",
    "t0 = time.time()\n",
    "nns_LS, dists_LS = flann.nn_index(dataset_q, num_neighbors=1, cores=1)\n",
    "segundos_LS = time.time() - t0\n",
    "print(\"Linear scan toma {:.1f} segundos\".format(segundos_LS))\n",
    "\n",
    "# objeto para evaluar las busquedas posteriores\n",
    "r = Resultado(nns_LS, dists_LS, segundos_LS)"
   ]
  },
  {
   "cell_type": "markdown",
   "id": "75fba648-2a23-40ab-be84-ae944a39d1b4",
   "metadata": {},
   "source": [
    "## Construir un índice kdtree"
   ]
  },
  {
   "cell_type": "code",
   "execution_count": null,
   "id": "03bc2eb0",
   "metadata": {},
   "outputs": [],
   "source": [
    "# construir el indice kdtree\n",
    "t0 = time.time()\n",
    "flann.build_index(dataset_r, algorithm=\"kdtree\", trees=1)\n",
    "segundos_construccion = time.time() - t0\n",
    "\n",
    "print(\"construcción kd tree={:.2f} segundos\".format(segundos_construccion))"
   ]
  },
  {
   "cell_type": "markdown",
   "id": "8f7bfd74-8f7b-466e-b534-8f9b179c64c6",
   "metadata": {},
   "source": [
    "## Búsqueda exacta usando el índice\n",
    "\n",
    "En los datos aleatorios, la búsqueda exacta con un kd tree es mucho más lenta que linear scan.   "
   ]
  },
  {
   "cell_type": "code",
   "execution_count": null,
   "id": "bb316d82",
   "metadata": {},
   "outputs": [],
   "source": [
    "# busqueda exacta del 1-NN usando el indice construido\n",
    "t0 = time.time()\n",
    "nn, dist = flann.nn_index(dataset_q, num_neighbors=1, cores=1, checks=-1)\n",
    "segundos = time.time() - t0\n",
    "r.evaluar_busqueda(nn, dist, segundos)\n",
    "\n",
    "print(\n",
    "    \"kd tree EXACTO precision={:.1%} segundos={:.1f} ({:.1%})\".format(\n",
    "        r.precision, r.tiempo, r.eficiencia\n",
    "    )\n",
    ")"
   ]
  },
  {
   "cell_type": "markdown",
   "id": "16e8904d-0583-49a9-ac9e-7626da53c930",
   "metadata": {},
   "source": [
    "## Búsqueda aproximada con distintos niveles de aproximación\n",
    "\n",
    "Notar que la calidad de las aproximaciones son muy malas (comparado con lo que se obtenía en los datasets reales).  \n",
    "Esto es porque son datos aleatorios uniformes donde las distancias entre elementos son muy parecidas."
   ]
  },
  {
   "cell_type": "code",
   "execution_count": null,
   "id": "21fcacf9",
   "metadata": {},
   "outputs": [],
   "source": [
    "for checks in (1, 10, 100, 500, 1000, 3000, 5000, 10000, 20000, 30000):\n",
    "    t0 = time.time()\n",
    "    nn, dist = flann.nn_index(dataset_q, num_neighbors=1, cores=1, checks=checks)\n",
    "    segundos = time.time() - t0\n",
    "    r.evaluar_busqueda(nn, dist, segundos)\n",
    "    print(\n",
    "        \"kd tree checks={:5} precision={:5.1%} segundos={:4.2f} ({:6.1%})\".format(\n",
    "            checks, r.precision, r.tiempo, r.eficiencia\n",
    "        )\n",
    "    )"
   ]
  },
  {
   "cell_type": "markdown",
   "id": "048a036e",
   "metadata": {},
   "source": [
    "## Dimensión intrínseca del dataset aleatorio\n",
    "\n",
    "Calcular un histograma con las distancias entre pares de elementos del dataset.   \n",
    "Se calcula el valor de dimensión intrínseca que es igual o superior a la dimensionalidad del dataset."
   ]
  },
  {
   "cell_type": "code",
   "execution_count": null,
   "id": "14ca3163",
   "metadata": {},
   "outputs": [],
   "source": [
    "import random\n",
    "import matplotlib.pyplot as plt\n",
    "\n",
    "\n",
    "def muestra_de_distancias(dataset_r, cantidad):\n",
    "    print(\n",
    "        \"calculando una muestra de {} distancias del conjunto {} vectores...\".format(\n",
    "            cantidad, dataset_r.shape\n",
    "        )\n",
    "    )\n",
    "    distancias = list()\n",
    "    num_vectors = dataset_r.shape[0]\n",
    "    while len(distancias) < cantidad:\n",
    "        pos1 = random.randint(0, num_vectors - 1)\n",
    "        pos2 = random.randint(0, num_vectors - 1)\n",
    "        if pos1 == pos2:\n",
    "            continue\n",
    "        vector1 = dataset_r[pos1]\n",
    "        vector2 = dataset_r[pos2]\n",
    "        distancia = numpy.linalg.norm(vector1 - vector2)\n",
    "        distancias.append(distancia)\n",
    "    print(\n",
    "        \"obtenidas {} distancias entre {} vectores (un {:.3%} del total de pares)\".format(\n",
    "            len(distancias),\n",
    "            num_vectors,\n",
    "            len(distancias) / (num_vectors * (num_vectors - 1)),\n",
    "        )\n",
    "    )\n",
    "    return distancias\n",
    "\n",
    "\n",
    "def histograma_distancias(dataset_r, cantidad):\n",
    "    distancias = muestra_de_distancias(dataset_r, cantidad)\n",
    "    plt.hist(distancias, bins=100)\n",
    "    plt.xlabel(\"distancia\")\n",
    "    plt.ylabel(\"cantidad\")\n",
    "    plt.title(\"histograma de distancias\")\n",
    "    plt.show()\n",
    "    media = numpy.average(distancias)\n",
    "    varianza = numpy.var(distancias, ddof=1)\n",
    "    print(\"distancia promedio entre pares = {:.3f}\".format(media))\n",
    "    print(\"varianza de distancias = {:.3f}\".format(varianza))\n",
    "    print(\n",
    "        \"dimension intrinseca del conjunto, rho = {:.1f}\".format(\n",
    "            (media * media) / (2 * varianza)\n",
    "        )\n",
    "    )\n",
    "\n",
    "\n",
    "histograma_distancias(dataset_r, 1000000)"
   ]
  },
  {
   "cell_type": "markdown",
   "id": "d8335b22",
   "metadata": {},
   "source": [
    "## Distancias entre datos reales (dataset_a)\n",
    "\n",
    "Notar que la dimensión intrínseca de este dataset es mucho menor que su dimensionalidad, por lo que los índices lograrán buenos resultados (como se vio en semanas anteriores).\n"
   ]
  },
  {
   "cell_type": "code",
   "execution_count": null,
   "id": "d6c9579f",
   "metadata": {},
   "outputs": [],
   "source": [
    "datasetA_r = numpy.load(\"dataset_a_r.npy\")\n",
    "print(\"dataset A={}\".format(datasetA_r.shape))\n",
    "\n",
    "histograma_distancias(datasetA_r, 1000000)\n"
   ]
  },
  {
   "cell_type": "markdown",
   "id": "5c51a4fd-8993-4cf4-8551-0df7f8511c70",
   "metadata": {},
   "source": [
    "## Comparar con datos reales (dataset_b)\n",
    "\n",
    "La dimensión intrínseca de este dataset es menor que su dimensionalidad.\n",
    "\n",
    "Notar que es incluso menor que la del dataset_a, pero en los ejemplos anteriores se veía que kdtree lograba mejores aproximaciones en dataset_a que en dataset_b."
   ]
  },
  {
   "cell_type": "code",
   "execution_count": null,
   "id": "bfe48922",
   "metadata": {},
   "outputs": [],
   "source": [
    "datasetB_r = numpy.load(\"dataset_b_r.npy\")\n",
    "print(\"dataset B={}\".format(datasetB_r.shape))\n",
    "\n",
    "histograma_distancias(datasetB_r, 1000000)"
   ]
  },
  {
   "cell_type": "markdown",
   "id": "7705a851",
   "metadata": {},
   "source": [
    "## Conclusión\n",
    "\n",
    "Los datos aleatorios uniformes tienen una dimensión intrínseca muy alta, mucho mayor que la de los datos reales.\n",
    "\n",
    "Una dimensión intrínseca alta significa que todos los vectores están a la misma distancia entre sí, por lo que el vecino más cercano se hace indistinguible del resto de vectores.\n",
    "\n",
    "La búsqueda con índices no logra acelerar las búsquedas, porque hay muchos vectores a una distancia muy cercana a la del vecino cercano y deberá visitar prácticamente todos los nodos del árbol para asegurar que es el vecino más cercano.\n",
    "\n",
    "Este comportamiento es llamado **\"maldición de la dimensionalidad\"** (que más bien podríamos llamar **\"maldición de la uniformidad\"**) que hace que los índices no funcionen bien en alta dimensión y que dificulta el análisis de datos con vectores de alta dimensión."
   ]
  }
 ],
 "metadata": {
  "kernelspec": {
   "display_name": "Python 3 (ipykernel)",
   "language": "python",
   "name": "python3"
  },
  "language_info": {
   "codemirror_mode": {
    "name": "ipython",
    "version": 3
   },
   "file_extension": ".py",
   "mimetype": "text/x-python",
   "name": "python",
   "nbconvert_exporter": "python",
   "pygments_lexer": "ipython3",
   "version": "3.13.3"
  }
 },
 "nbformat": 4,
 "nbformat_minor": 5
}
