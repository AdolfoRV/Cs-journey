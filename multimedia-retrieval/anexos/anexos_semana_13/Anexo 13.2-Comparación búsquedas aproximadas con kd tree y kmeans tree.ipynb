{
 "cells": [
  {
   "cell_type": "markdown",
   "metadata": {},
   "source": [
    "# Comparación búsquedas aproximadas con k-d tree y k-means tree\n",
    "\n",
    "**Curso**: CC5213 - Recuperación de Información Multimedia  \n",
    "**Profesor**: Juan Manuel Barrios  \n",
    "**Fecha**: 21 de junio de 2025  "
   ]
  },
  {
   "cell_type": "markdown",
   "metadata": {},
   "source": [
    "### Gráficos interactivos\n",
    "\n",
    "Para los gráficos se usa matplotlib:\n",
    "```\n",
    "pip install matplotlib\n",
    "```\n",
    "\n",
    "Para gráficos interactivos (por ej. hacer zoom):\n",
    "\n",
    "  1. Instalar ipympl:  `pip install ipympl`\n",
    "  2. Reiniciar jupyter \n",
    "  3. Reemplazar `%matplotlib inline` por `%matplotlib widget`\n"
   ]
  },
  {
   "cell_type": "code",
   "execution_count": null,
   "metadata": {},
   "outputs": [],
   "source": [
    "import matplotlib.pyplot as plt\n",
    "\n",
    "%matplotlib inline\n",
    "\n",
    "## Descomentar esta linea para graficos interactivos\n",
    "## %matplotlib widget\n"
   ]
  },
  {
   "cell_type": "markdown",
   "metadata": {},
   "source": [
    "### Clases para hacer los experimentos y la comparación"
   ]
  },
  {
   "cell_type": "code",
   "execution_count": null,
   "metadata": {},
   "outputs": [],
   "source": [
    "import numpy\n",
    "import time\n",
    "import pyflann\n",
    "\n",
    "\n",
    "class Curva:\n",
    "    def __init__(self):\n",
    "        self.precisiones = []\n",
    "        self.eficiencias = []\n",
    "\n",
    "\n",
    "class Experimento:\n",
    "    def __init__(self, nombre, archivo_dataset_q, archivo_dataset_r):\n",
    "        self.nombre = nombre\n",
    "        # cargar conjuntos de vectores Q y R\n",
    "        self.dataset_q = numpy.load(archivo_dataset_q)\n",
    "        self.dataset_r = numpy.load(archivo_dataset_r)\n",
    "        print(\n",
    "            \"{}: conjunto_Q={} conjunto_R={}\".format(\n",
    "                nombre, self.dataset_q.shape, self.dataset_r.shape\n",
    "            )\n",
    "        )\n",
    "        # para crear indices\n",
    "        self.flann = pyflann.FLANN()\n",
    "\n",
    "    def linear_scan(self):\n",
    "        print(\n",
    "            \"linear scan {} de Q={} x R={}\".format(\n",
    "                self.nombre, self.dataset_q.shape, self.dataset_r.shape\n",
    "            )\n",
    "        )\n",
    "        self.flann.build_index(self.dataset_r, algorithm=\"linear\")\n",
    "        t0 = time.time()\n",
    "        self.gt_nns, self.gt_dists = self.flann.nn_index(\n",
    "            self.dataset_q, num_neighbors=1, cores=4\n",
    "        )\n",
    "        self.gt_segundos = time.time() - t0\n",
    "        print(\"linear scan = {:.1f} segundos\".format(self.gt_segundos))\n",
    "\n",
    "    def evaluar_busqueda(self, nns, dists, tiempo):\n",
    "        correctas = 0\n",
    "        incorrectas = 0\n",
    "        for i in range(len(self.gt_nns)):\n",
    "            if nns[i] == self.gt_nns[i] or dists[i] == self.gt_dists[i]:\n",
    "                correctas += 1\n",
    "            else:\n",
    "                incorrectas += 1\n",
    "        precision = correctas / (correctas + incorrectas)\n",
    "        eficiencia = tiempo / self.gt_segundos\n",
    "        return precision, eficiencia\n",
    "\n",
    "    def evaluar_arbol(self, algorithm, trees=0, branching=0):\n",
    "        t0 = time.time()\n",
    "        self.flann.build_index(\n",
    "            self.dataset_r, algorithm=algorithm, trees=trees, branching=branching\n",
    "        )\n",
    "        nombre_arbol = \"{}-{}\".format(algorithm, max(trees, branching))\n",
    "        print(\n",
    "            \"construcción {} = {:.2f} segundos\".format(nombre_arbol, time.time() - t0)\n",
    "        )\n",
    "        curva = Curva()\n",
    "        for checks in (1, 10, 20, 40, 60, 80, 100, 200, 400, 500, 600, 700, 800, 900, 1000, 2000, 4000):\n",
    "            t0 = time.time()\n",
    "            nn, dist = self.flann.nn_index(\n",
    "                self.dataset_q, num_neighbors=1, cores=4, checks=checks\n",
    "            )\n",
    "            precision, eficiencia = self.evaluar_busqueda(nn, dist, time.time() - t0)\n",
    "            print(\"  {:<10} precision={:>6.1%}  tiempo={:>5.1%}  checks={:>4}\".format(\n",
    "                    nombre_arbol, precision, eficiencia, checks) )\n",
    "            curva.precisiones.append(precision)\n",
    "            curva.eficiencias.append(eficiencia)\n",
    "        return curva"
   ]
  },
  {
   "cell_type": "markdown",
   "metadata": {},
   "source": [
    "# Parte 1: Comparación en Dataset_A\n"
   ]
  },
  {
   "cell_type": "code",
   "execution_count": null,
   "metadata": {},
   "outputs": [],
   "source": [
    "ev1 = Experimento(\"DATASET_A\", \"dataset_a_q.npy\", \"dataset_a_r.npy\")\n",
    "ev1.linear_scan()\n",
    "curva_kd1 = ev1.evaluar_arbol(algorithm=\"kdtree\", trees=1)\n",
    "curva_kd10 = ev1.evaluar_arbol(algorithm=\"kdtree\", trees=10)\n",
    "curva_kd30 = ev1.evaluar_arbol(algorithm=\"kdtree\", trees=30)\n",
    "curva_km3 = ev1.evaluar_arbol(algorithm=\"kmeans\", branching=3)\n",
    "curva_km30 = ev1.evaluar_arbol(algorithm=\"kmeans\", branching=30)\n",
    "curva_km90 = ev1.evaluar_arbol(algorithm=\"kmeans\", branching=90)"
   ]
  },
  {
   "cell_type": "markdown",
   "metadata": {},
   "source": [
    "### Graficar resultados k-d trees"
   ]
  },
  {
   "cell_type": "code",
   "execution_count": null,
   "metadata": {},
   "outputs": [],
   "source": [
    "\n",
    "plt.plot(curva_kd1.precisiones,  curva_kd1.eficiencias,  label='kdtree-1',  color='r', linestyle='--', marker='o', markerfacecolor='c', markersize=8)\n",
    "plt.plot(curva_kd10.precisiones, curva_kd10.eficiencias, label='kdtree-10', color='g', linestyle='--', marker='o', markerfacecolor='m', markersize=8)\n",
    "plt.plot(curva_kd30.precisiones, curva_kd30.eficiencias, label='kdtree-30', color='b', linestyle='--', marker='o', markerfacecolor='y', markersize=8)\n",
    "plt.plot(curva_km3.precisiones,  curva_km3.eficiencias,  label='kmeans-3',  color='c', linestyle='-.', marker='^', markerfacecolor='r', markersize=8)\n",
    "plt.plot(curva_km30.precisiones, curva_km30.eficiencias, label='kmeans-30', color='m', linestyle='-.', marker='^', markerfacecolor='g', markersize=8)\n",
    "plt.plot(curva_km90.precisiones, curva_km90.eficiencias, label='kmeans-90', color='y', linestyle='-.', marker='^', markerfacecolor='b', markersize=8)\n",
    "plt.title(ev1.nombre)\n",
    "plt.xlabel('Precisión NN [comparado con LS]')\n",
    "plt.ylabel('Tiempo [comparado con LS]')\n",
    "plt.xlim(0,1)\n",
    "plt.ylim(0,1)\n",
    "plt.legend()\n",
    "plt.plot([0.95, 0.95], [0.48, 0], linewidth=1, linestyle='-', marker=' ', color='r')\n",
    "plt.text(0.88, 0.50, \"95% precisión\", ha='center', fontsize=9, color='red')\n",
    "plt.plot([0.5, 0.5], [0.48, 0], linewidth=1, linestyle='-', marker=' ', color='r')\n",
    "plt.text(0.5, 0.5, \"50% precisión\", ha='center', fontsize=9, color='red')\n",
    "plt.show()"
   ]
  },
  {
   "cell_type": "markdown",
   "metadata": {},
   "source": [
    "# Parte 2: Repetir el experimento con Dataset_B"
   ]
  },
  {
   "cell_type": "code",
   "execution_count": null,
   "metadata": {},
   "outputs": [],
   "source": [
    "ev2 = Experimento(\"DATASET_B\", \"dataset_b_q.npy\", \"dataset_b_r.npy\")\n",
    "ev2.linear_scan()\n",
    "curva2_kd1 = ev2.evaluar_arbol(algorithm=\"kdtree\", trees=1)\n",
    "curva2_kd10 = ev2.evaluar_arbol(algorithm=\"kdtree\", trees=10)\n",
    "curva2_kd30 = ev2.evaluar_arbol(algorithm=\"kdtree\", trees=30)\n",
    "curva2_km3 = ev2.evaluar_arbol(algorithm=\"kmeans\", branching=3)\n",
    "curva2_km30 = ev2.evaluar_arbol(algorithm=\"kmeans\", branching=30)\n",
    "curva2_km90 = ev2.evaluar_arbol(algorithm=\"kmeans\", branching=90)"
   ]
  },
  {
   "cell_type": "markdown",
   "metadata": {},
   "source": [
    "### Graficar resultados"
   ]
  },
  {
   "cell_type": "code",
   "execution_count": null,
   "metadata": {},
   "outputs": [],
   "source": [
    "plt.plot(\n",
    "    curva2_kd1.precisiones,\n",
    "    curva2_kd1.eficiencias,\n",
    "    label=\"kdtree-1\",\n",
    "    color=\"r\",\n",
    "    linestyle=\"--\",\n",
    "    marker=\"o\",\n",
    "    markerfacecolor=\"c\",\n",
    "    markersize=8,\n",
    ")\n",
    "plt.plot(\n",
    "    curva2_kd10.precisiones,\n",
    "    curva2_kd10.eficiencias,\n",
    "    label=\"kdtree-10\",\n",
    "    color=\"g\",\n",
    "    linestyle=\"--\",\n",
    "    marker=\"o\",\n",
    "    markerfacecolor=\"m\",\n",
    "    markersize=8,\n",
    ")\n",
    "plt.plot(\n",
    "    curva2_kd30.precisiones,\n",
    "    curva2_kd30.eficiencias,\n",
    "    label=\"kdtree-30\",\n",
    "    color=\"b\",\n",
    "    linestyle=\"--\",\n",
    "    marker=\"o\",\n",
    "    markerfacecolor=\"y\",\n",
    "    markersize=8,\n",
    ")\n",
    "plt.plot(\n",
    "    curva2_km3.precisiones,\n",
    "    curva2_km3.eficiencias,\n",
    "    label=\"kmeans-3\",\n",
    "    color=\"c\",\n",
    "    linestyle=\"-.\",\n",
    "    marker=\"^\",\n",
    "    markerfacecolor=\"r\",\n",
    "    markersize=8,\n",
    ")\n",
    "plt.plot(\n",
    "    curva2_km30.precisiones,\n",
    "    curva2_km30.eficiencias,\n",
    "    label=\"kmeans-30\",\n",
    "    color=\"m\",\n",
    "    linestyle=\"-.\",\n",
    "    marker=\"^\",\n",
    "    markerfacecolor=\"g\",\n",
    "    markersize=8,\n",
    ")\n",
    "plt.plot(\n",
    "    curva2_km90.precisiones,\n",
    "    curva2_km90.eficiencias,\n",
    "    label=\"kmeans-90\",\n",
    "    color=\"y\",\n",
    "    linestyle=\"-.\",\n",
    "    marker=\"^\",\n",
    "    markerfacecolor=\"b\",\n",
    "    markersize=8,\n",
    ")\n",
    "plt.title(ev2.nombre)\n",
    "plt.xlabel(\"Precisión NN [comparado con LS]\")\n",
    "plt.ylabel(\"Tiempo [comparado con LS]\")\n",
    "plt.xlim(0, 1)\n",
    "plt.ylim(0, 1)\n",
    "plt.legend()\n",
    "plt.plot([0.95, 0.95], [0.48, 0], linewidth=1, linestyle=\"-\", marker=\" \", color=\"r\")\n",
    "plt.text(0.88, 0.5, \"95% precisión\", ha=\"center\", fontsize=9, color=\"red\")\n",
    "plt.plot([0.5, 0.5], [0.48, 0], linewidth=1, linestyle=\"-\", marker=\" \", color=\"r\")\n",
    "plt.text(0.5, 0.5, \"50% precisión\", ha=\"center\", fontsize=9, color=\"red\")\n",
    "plt.show()"
   ]
  },
  {
   "cell_type": "markdown",
   "metadata": {},
   "source": [
    "En los gráficos anteriores se muestra una comparación de k-d trees y k-means trees con varios parámetros. Al igual que en el anexo anterior, es interesante identificar la configuración (índice y número de checks) que logra un 95% de precisión en el menor tiempo.\n",
    "\n",
    "**Ejercicio:** Con los datos obtenidos, identificar la configuración que logra en el menor tiempo una precisión de 50% y una precisión de 95%. **¿Es la misma configuración en un mismo dataset? ¿Es la misma configuración en ambos datasets?**"
   ]
  }
 ],
 "metadata": {
  "kernelspec": {
   "display_name": "Python 3 (ipykernel)",
   "language": "python",
   "name": "python3"
  },
  "language_info": {
   "codemirror_mode": {
    "name": "ipython",
    "version": 3
   },
   "file_extension": ".py",
   "mimetype": "text/x-python",
   "name": "python",
   "nbconvert_exporter": "python",
   "pygments_lexer": "ipython3",
   "version": "3.13.3"
  }
 },
 "nbformat": 4,
 "nbformat_minor": 4
}
