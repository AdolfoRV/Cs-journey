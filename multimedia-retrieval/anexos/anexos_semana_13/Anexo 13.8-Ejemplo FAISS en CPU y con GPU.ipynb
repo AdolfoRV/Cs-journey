{
 "cells": [
  {
   "cell_type": "markdown",
   "metadata": {},
   "source": [
    "# Ejemplo usando FAISS\n",
    "\n",
    "**Curso**: CC5213 - Recuperación de Información Multimedia  \n",
    "**Profesor**: Juan Manuel Barrios  \n",
    "**Fecha**: 21 de junio de 2025 "
   ]
  },
  {
   "cell_type": "markdown",
   "metadata": {},
   "source": [
    "# Parte 1: Faiss CPU\n",
    "\n",
    "Usaremos una librería publicada por Facebook Research llamada Faiss  https://github.com/facebookresearch/faiss/\n",
    "\n",
    "Es una librería para C++ que tiene un wrapper para python.  \n",
    "Tiene una versión que usa solo cpu (`faiss-cpu`) y una version que usa GPU (`faiss-gpu`).  \n",
    "\n",
    "Los pasos para instalar se pueden revisar acá: https://github.com/facebookresearch/faiss/blob/main/INSTALL.md\n",
    "\n",
    "```\n",
    "conda install -c pytorch faiss-cpu=1.11.0\n",
    "```\n",
    "\n",
    "Requiere instalar python `3.11`, por lo que puede ser necesario crear un nuevo ambiente:\n",
    "\n",
    "```\n",
    "conda create -n cc5213_v2 python=3.11\n",
    "conda activate cc5213_v2\n",
    "conda install -c pytorch faiss-cpu=1.11.0\n",
    "# para comparar\n",
    "conda install jupyter pyflann \n",
    "```\n"
   ]
  },
  {
   "cell_type": "markdown",
   "metadata": {},
   "source": [
    "### Leer los datos"
   ]
  },
  {
   "cell_type": "code",
   "execution_count": null,
   "metadata": {},
   "outputs": [],
   "source": [
    "import numpy\n",
    "import time\n",
    "\n",
    "\n",
    "class ResultadoBusqueda:\n",
    "    def __init__(self, nombre, distancias, nns, tiempo_indice, tiempo_busqueda):\n",
    "        self.nombre = nombre\n",
    "        self.distancias = distancias\n",
    "        self.nns = nns\n",
    "        self.tiempo_indice = tiempo_indice\n",
    "        self.tiempo_busqueda = tiempo_busqueda\n",
    "\n",
    "\n",
    "class Dataset:\n",
    "    def __init__(self, nombre, archivo_q, archivo_r):\n",
    "        self.nombre = nombre\n",
    "        self.q = numpy.load(archivo_q)\n",
    "        self.r = numpy.load(archivo_r)\n",
    "        print(\"Dataset {}: Q={} R={}\".format(self.nombre, self.q.shape, self.r.shape))\n",
    "\n",
    "\n",
    "datasetA = Dataset(\"DATASET_A\", \"dataset_a_q.npy\", \"dataset_a_r.npy\")"
   ]
  },
  {
   "cell_type": "markdown",
   "metadata": {},
   "source": [
    "## Búsqueda 1-NN usando linear scan de FLANN"
   ]
  },
  {
   "cell_type": "code",
   "execution_count": null,
   "metadata": {},
   "outputs": [],
   "source": [
    "import pyflann\n",
    "\n",
    "\n",
    "def linear_scan_pyflann(dataset):\n",
    "    # 1) crear indice\n",
    "    t0 = time.time()\n",
    "    flann = pyflann.FLANN()\n",
    "    flann.build_index(dataset.r, algorithm=\"linear\")\n",
    "    t1 = time.time()\n",
    "    # 2) busqueda del 1-NN\n",
    "    nns, dists = flann.nn_index(dataset.q, num_neighbors=1, cores=1)\n",
    "    t2 = time.time()\n",
    "    return ResultadoBusqueda(\"PyFlann\", dists, nns, t1 - t0, t2 - t1)\n",
    "\n",
    "\n",
    "# demora unos 25 a 35 segundos\n",
    "t1 = time.time()\n",
    "LS_flann = linear_scan_pyflann(datasetA)\n",
    "t2 = time.time()\n",
    "print(\"tiempo={:.1f} seg.\".format(t2 - t1))"
   ]
  },
  {
   "cell_type": "markdown",
   "metadata": {},
   "source": [
    "## Búsqueda 1-NN usando linear scan de Faiss"
   ]
  },
  {
   "cell_type": "code",
   "execution_count": null,
   "metadata": {},
   "outputs": [],
   "source": [
    "import faiss\n",
    "\n",
    "# para efectos de comparación de tiempos, se limita a usar un solo hilo\n",
    "# https://github.com/facebookresearch/faiss/wiki/Threads-and-asynchronous-calls\n",
    "faiss.omp_set_num_threads(1)\n",
    "\n",
    "\n",
    "def linear_scan_faiss_cpu(dataset):\n",
    "    # 1) crear indice\n",
    "    t0 = time.time()\n",
    "    index = faiss.IndexFlatL2(dataset.r.shape[1])\n",
    "    index.add(dataset.r)\n",
    "    t1 = time.time()\n",
    "    # 2) busqueda del 1-NN\n",
    "    dists, nns = index.search(dataset.q, 1)\n",
    "    t2 = time.time()\n",
    "    return ResultadoBusqueda(\"Faiss-Cpu\", dists, nns, t1 - t0, t2 - t1)\n",
    "\n",
    "\n",
    "t1 = time.time()\n",
    "LS_faiss_cpu = linear_scan_faiss_cpu(datasetA)\n",
    "t2 = time.time()\n",
    "print(\"tiempo={:.1f} seg.\".format(t2 - t1))"
   ]
  },
  {
   "cell_type": "markdown",
   "metadata": {},
   "source": [
    "#### Nota:\n",
    "Este linear scan, en mi computador demora menos de 1 segundo (!?).\n",
    "\n",
    "Es extraño, ya que el tiempo no cambia si se ajusta `omp_set_num_threads()`.  \n",
    "\n",
    "**Posible razón:** Al revisar el [código fuente de distances.cpp](https://github.com/facebookresearch/faiss/blob/main/faiss/utils/distances.cpp) se ve que usa la librería BLAS para distancia euclidiana, podría ser que esa librería está usando alguna optimización para el cálculo de distancias que las otras librerías no tienen.\n"
   ]
  },
  {
   "cell_type": "markdown",
   "metadata": {},
   "source": [
    "## Verificar que Faiss y PyFlann entregan los mismos NN\n",
    "\n",
    "Notar que Faiss entrega un array de arrays, mientras que PyFlann entrega un array.   \n",
    "Con `reshape()` se convierten ambos a un array que debe ser del mismo largo."
   ]
  },
  {
   "cell_type": "code",
   "execution_count": null,
   "metadata": {},
   "outputs": [],
   "source": [
    "def comparar(resultado_1, resultado_base):\n",
    "    array1 = resultado_1.nns.reshape(len(resultado_base.nns))\n",
    "    array2 = resultado_base.nns.reshape(len(resultado_base.nns))\n",
    "    assert len(array1) == len(array2)\n",
    "    total = len(array1)\n",
    "    iguales = 0\n",
    "    for i in range(total):\n",
    "        if array1[i] == array2[i]:\n",
    "            iguales += 1\n",
    "    print(\n",
    "        \"{} vs {}:  iguales={} ({:.1%})  tiempo_indexar=({:.2f} vs {:.2f} segs.)  tiempo_busqueda=({:.2f} vs {:.2f} segs.)\".format(\n",
    "            resultado_1.nombre,\n",
    "            resultado_base.nombre,\n",
    "            iguales,\n",
    "            iguales / total,\n",
    "            resultado_1.tiempo_indice,\n",
    "            resultado_base.tiempo_indice,\n",
    "            resultado_1.tiempo_busqueda,\n",
    "            resultado_base.tiempo_busqueda,\n",
    "        )\n",
    "    )\n",
    "\n",
    "\n",
    "comparar(LS_faiss_cpu, LS_flann)"
   ]
  },
  {
   "cell_type": "markdown",
   "metadata": {},
   "source": [
    "## Probando índice IndexIVFFlat\n",
    "\n",
    "Según la documentación en https://github.com/facebookresearch/faiss/wiki/Faiss-indexes el índice IndexIVFFlat significa: \"Inverted file with exact post-verification\"."
   ]
  },
  {
   "cell_type": "code",
   "execution_count": null,
   "metadata": {},
   "outputs": [],
   "source": [
    "def construir_indice_IVF_cpu(dataset, nlists):\n",
    "    quantizer = faiss.IndexFlatL2(dataset.r.shape[1])\n",
    "    index = faiss.IndexIVFFlat(quantizer, dataset.r.shape[1], nlists)\n",
    "    index.train(dataset.r)\n",
    "    index.add(dataset.r)\n",
    "    return index\n",
    "\n",
    "\n",
    "def buscar_IVF_cpu(dataset, nlists):\n",
    "    # 1) crear indice\n",
    "    t0 = time.time()\n",
    "    index = construir_indice_IVF_cpu(dataset, nlists)\n",
    "    t1 = time.time()\n",
    "    # 2) busqueda del 1-NN\n",
    "    dists, nns = index.search(dataset.q, 1)\n",
    "    t2 = time.time()\n",
    "    return ResultadoBusqueda(\n",
    "        \"IVF_cpu nlists-{:<3}\".format(nlists), dists, nns, t1 - t0, t2 - t1\n",
    "    )\n",
    "\n",
    "\n",
    "for nlists in 2, 5, 10, 20, 50, 100:\n",
    "    resultado = buscar_IVF_cpu(datasetA, nlists)\n",
    "    comparar(resultado, LS_flann)"
   ]
  },
  {
   "cell_type": "markdown",
   "metadata": {},
   "source": [
    "### Otros índices\n",
    "Se puede probar con otros índices y combinaciones de ellos usando la función `index_factory`. Por ejemplo:\n",
    "```\n",
    "index = faiss.index_factory(dataset.r.shape[1], \"IVF100,PQ8\")\n",
    "```\n",
    "Ver ejemplos algunos índices en https://github.com/facebookresearch/faiss/wiki/Lower-memory-footprint\n",
    "\n"
   ]
  },
  {
   "cell_type": "markdown",
   "metadata": {},
   "source": [
    "# Parte 2: Usando GPU\n",
    "\n",
    "Usaremos la versión GPU de Faiss:\n",
    "```\n",
    "  conda install -c pytorch -c nvidia faiss-gpu=1.11.0\n",
    "```\n",
    "\n",
    "No es posible tener instalado `faiss-cpu`y `faiss-gpu`simultáneamente.  \n",
    "Se puede crear un nuevo ambiente o desinstalar la versión cpu:\n",
    "```\n",
    "conda uninstall faiss-cpu\n",
    "```\n",
    "\n",
    "Para usar la GPU, el código fuente es el mismo que con cpu con la única diferencia es que hay que llamar a `faiss.index_cpu_to_all_gpus()` al construir un índice:\n",
    "```\n",
    "    index = ....\n",
    "    gpu_index = faiss.index_cpu_to_all_gpus(index)\n",
    "    gpu_index.add(....)\n",
    "    return gpu_index\n",
    "```\n",
    "Ver https://github.com/facebookresearch/faiss/wiki/Running-on-GPUs"
   ]
  },
  {
   "cell_type": "markdown",
   "metadata": {},
   "source": [
    "## Probar Linear Scan con GPU\n",
    "\n",
    "Si aparece el siguiente error:\n",
    "```\n",
    "NameError: name 'GpuResourcesVector' is not defined\n",
    "```\n",
    "es porque el ambiente tiene instalado `faiss-cpu` y no `faiss-gpu`. Crear el ambiente nuevo y abrir este notebook en un ambiente con `faiss-gpu`."
   ]
  },
  {
   "cell_type": "code",
   "execution_count": null,
   "metadata": {},
   "outputs": [],
   "source": [
    "import faiss\n",
    "\n",
    "ngpus = faiss.get_num_gpus()\n",
    "print(\"cantidad de GPUs: {}\".format(ngpus))\n",
    "\n",
    "\n",
    "def linear_scan_faiss_gpu(dataset):\n",
    "    # 1) crear indice\n",
    "    t0 = time.time()\n",
    "    index = faiss.IndexFlatL2(dataset.r.shape[1])\n",
    "    # convertir a un indice con gpu\n",
    "    gpu_index = faiss.index_cpu_to_all_gpus(index)\n",
    "    gpu_index.add(dataset.r)\n",
    "    t1 = time.time()\n",
    "    # 2) busqueda del 1-NN\n",
    "    dists, nns = gpu_index.search(dataset.q, 1)\n",
    "    t2 = time.time()\n",
    "    return ResultadoBusqueda(\"Faiss-GPU\", dists, nns, t1 - t0, t2 - t1)\n",
    "\n",
    "\n",
    "LS_faiss_gpu = linear_scan_faiss_gpu(datasetA)\n",
    "comparar(LS_faiss_gpu, LS_flann)"
   ]
  },
  {
   "cell_type": "markdown",
   "metadata": {},
   "source": [
    "Notar que la búsqueda del NN usando GPU es mucho más rápida que con CPU (en mi computador demora 0.2 segundos).  \n",
    "Es mucho más rápida porque la GPU hace cientos o miles de cálculos en paralelo (depende de los cores de la GPU), mientras que la CPU puede usar unos pocos hilos (y la limitamos a 1)."
   ]
  },
  {
   "cell_type": "markdown",
   "metadata": {},
   "source": [
    "## Probando índice IndexIVFFlat con GPU\n",
    "\n",
    "Según la documentación en https://github.com/facebookresearch/faiss/wiki/Faiss-indexes el índice IndexIVFFlat significa: \"Inverted file with exact post-verification\"."
   ]
  },
  {
   "cell_type": "code",
   "execution_count": null,
   "metadata": {},
   "outputs": [],
   "source": [
    "def construir_indice_IVF_gpu(dataset, nlists):\n",
    "    quantizer = faiss.IndexFlatL2(dataset.r.shape[1])\n",
    "    index = faiss.IndexIVFFlat(quantizer, dataset.r.shape[1], nlists)\n",
    "    gpu_index = faiss.index_cpu_to_all_gpus(index)\n",
    "    gpu_index.train(dataset.r)\n",
    "    gpu_index.add(dataset.r)\n",
    "    return gpu_index\n",
    "\n",
    "\n",
    "def buscar_IVF_gpu(dataset, nlists):\n",
    "    # 1) crear indice\n",
    "    t0 = time.time()\n",
    "    index = construir_indice_IVF_gpu(dataset, nlists)\n",
    "    t1 = time.time()\n",
    "    # 2) busqueda del 1-NN\n",
    "    dists, nns = index.search(dataset.q, 1)\n",
    "    t2 = time.time()\n",
    "    return ResultadoBusqueda(\n",
    "        \"IVF_GPU nlists-{:<3}\".format(nlists), dists, nns, t1 - t0, t2 - t1\n",
    "    )\n",
    "\n",
    "\n",
    "for nlists in 2, 5, 10, 20, 50, 100:\n",
    "    resultado = buscar_IVF_gpu(datasetA, nlists)\n",
    "    comparar(resultado, LS_flann)"
   ]
  },
  {
   "cell_type": "markdown",
   "metadata": {},
   "source": [
    "Al usar GPU el tiempo del linear scan baja mucho, por lo que es difícil probar otros índices más sofisticados como IVF porque no se alcanza a notar la ganancia en tiempo.\n"
   ]
  }
 ],
 "metadata": {
  "kernelspec": {
   "display_name": "Python 3 (ipykernel)",
   "language": "python",
   "name": "python3"
  },
  "language_info": {
   "codemirror_mode": {
    "name": "ipython",
    "version": 3
   },
   "file_extension": ".py",
   "mimetype": "text/x-python",
   "name": "python",
   "nbconvert_exporter": "python",
   "pygments_lexer": "ipython3",
   "version": "3.13.3"
  }
 },
 "nbformat": 4,
 "nbformat_minor": 4
}
