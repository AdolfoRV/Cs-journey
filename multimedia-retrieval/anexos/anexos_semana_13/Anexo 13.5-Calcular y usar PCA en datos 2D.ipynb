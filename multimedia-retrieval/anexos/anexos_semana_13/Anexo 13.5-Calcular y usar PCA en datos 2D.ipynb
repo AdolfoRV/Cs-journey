{
 "cells": [
  {
   "cell_type": "markdown",
   "id": "b6949c3e",
   "metadata": {},
   "source": [
    "# Calcular y usar PCA  (Análisis de Componentes Principales) en datos 2D\n",
    "**Curso**: CC5213 - Recuperación de Información Multimedia  \n",
    "**Profesor**: Juan Manuel Barrios  \n",
    "**Fecha**: 21 de junio de 2025  \n"
   ]
  },
  {
   "cell_type": "markdown",
   "id": "c42db3e8-59da-4bf8-b345-f0366b3ea420",
   "metadata": {},
   "source": [
    "### Gráficos interactivos\n",
    "\n",
    "Para los gráficos se usa matplotlib:\n",
    "```\n",
    "pip install matplotlib\n",
    "```\n",
    "\n",
    "Para gráficos interactivos (por ej. hacer zoom):\n",
    "\n",
    "  1. Instalar ipympl:  `pip install ipympl`\n",
    "  2. Reiniciar jupyter \n",
    "  3. Reemplazar `%matplotlib inline` por `%matplotlib widget`\n"
   ]
  },
  {
   "cell_type": "code",
   "execution_count": null,
   "id": "995cb729-baa9-4fd2-a0ce-1d0bccf01fa9",
   "metadata": {},
   "outputs": [],
   "source": [
    "import matplotlib.pyplot as plt\n",
    "\n",
    "%matplotlib inline\n",
    "\n",
    "## Descomentar esta linea para graficos interactivos\n",
    "## %matplotlib widget\n"
   ]
  },
  {
   "cell_type": "markdown",
   "id": "0d4ee991",
   "metadata": {},
   "source": [
    "## Cargar conjunto de referencia R (datos de búsqueda)"
   ]
  },
  {
   "cell_type": "code",
   "execution_count": null,
   "id": "51f8ed35",
   "metadata": {},
   "outputs": [],
   "source": [
    "import numpy\n",
    "\n",
    "dataset_r = numpy.array(\n",
    "    [\n",
    "        [41.94, 46.371],\n",
    "        [38.565, 62.975],\n",
    "        [64.492, 40.318],\n",
    "        [49.356, 46.11],\n",
    "        [94.171, 9.332],\n",
    "        [37.839, 58.573],\n",
    "        [72.596, 28.758],\n",
    "        [66.03, 34.948],\n",
    "        [98.65, 0.51],\n",
    "        [92.75, 7.154],\n",
    "        [15.849, 88.241],\n",
    "        [75.305, 24.771],\n",
    "        [44.565, 43.065],\n",
    "        [18.742, 72.566],\n",
    "        [81.323, 25.513],\n",
    "        [62.491, 38.015],\n",
    "        [62.775, 29.699],\n",
    "        [53.259, 40.689],\n",
    "        [88.158, 18.807],\n",
    "        [21.801, 76.334],\n",
    "        [83.757, 20.567],\n",
    "        [44.154, 51.959],\n",
    "        [22.309, 69.964],\n",
    "        [92.945, 13.903],\n",
    "        [70.989, 30.13],\n",
    "        [72.531, 23.106],\n",
    "        [40.964, 63.974],\n",
    "        [33.935, 66.08],\n",
    "        [90.294, 13.576],\n",
    "        [17.279, 80.112],\n",
    "        [7.616, 83.688],\n",
    "        [70.368, 23.538],\n",
    "        [78.898, 24.077],\n",
    "        [61.504, 41.521],\n",
    "        [28.986, 64.275],\n",
    "        [19.286, 83.615],\n",
    "        [59.819, 34.649],\n",
    "        [87.192, 14.297],\n",
    "        [30.06, 71.112],\n",
    "        [32.858, 68.683],\n",
    "        [88.202, 16.878],\n",
    "        [25.043, 71.219],\n",
    "        [74.758, 31.516],\n",
    "        [26.185, 58.557],\n",
    "        [94.252, 1.778],\n",
    "        [36.64, 69.521],\n",
    "        [80.523, 18.94],\n",
    "        [87.195, 11.386],\n",
    "        [85.189, 13.871],\n",
    "        [35.3, 62.118],\n",
    "    ]\n",
    ")\n",
    "\n",
    "print(\"Dataset R={}\".format(dataset_r.shape))"
   ]
  },
  {
   "cell_type": "code",
   "execution_count": null,
   "id": "5d626bae",
   "metadata": {},
   "outputs": [],
   "source": [
    "import matplotlib.pyplot as plt\n",
    "\n",
    "\n",
    "def dibujar_dataset(datar, dataq=None):\n",
    "    x = datar[:, 0]\n",
    "    y = datar[:, 1]\n",
    "    numpy.random.seed(5)\n",
    "    plt.scatter(x, y, color=numpy.random.rand(datar.shape[0], 3))\n",
    "    if dataq is not None:\n",
    "        xq = dataq[:, 0]\n",
    "        yq = dataq[:, 1]\n",
    "        plt.scatter(xq, yq, label=\"datos_q\", color=\"blue\", marker=\"^\", s=100)\n",
    "        plt.legend()\n",
    "    plt.show()\n",
    "\n",
    "\n",
    "dibujar_dataset(dataset_r)"
   ]
  },
  {
   "cell_type": "markdown",
   "id": "7c3a4bb2",
   "metadata": {},
   "source": [
    "## Centrar conjunto R"
   ]
  },
  {
   "cell_type": "code",
   "execution_count": null,
   "id": "53c68ae9",
   "metadata": {},
   "outputs": [],
   "source": [
    "promedios = dataset_r.mean(axis=0)\n",
    "print(\"promedio: {}\".format(promedios))\n",
    "\n",
    "datos_centrados = dataset_r - promedios\n",
    "dibujar_dataset(datos_centrados)"
   ]
  },
  {
   "cell_type": "markdown",
   "id": "ce08c994",
   "metadata": {},
   "source": [
    "## Matriz de covarianza del conjunto centrado"
   ]
  },
  {
   "cell_type": "code",
   "execution_count": null,
   "id": "7591af6f",
   "metadata": {},
   "outputs": [],
   "source": [
    "# se usa transpose() para que calcule una matriz de 128x128, bias=False para varianzas divididas por n-1\n",
    "matriz_covarianza = numpy.cov(datos_centrados.transpose(), bias=False)\n",
    "print(\"matriz de covarianza: {}\".format(matriz_covarianza.shape))\n",
    "print(matriz_covarianza)"
   ]
  },
  {
   "cell_type": "markdown",
   "id": "c2b4833b",
   "metadata": {},
   "source": [
    "## Valores y vectores propios de la matriz de covarianza"
   ]
  },
  {
   "cell_type": "code",
   "execution_count": null,
   "id": "ec6ac3bd",
   "metadata": {},
   "outputs": [],
   "source": [
    "eigenvalues, eigenvectors = numpy.linalg.eig(matriz_covarianza)\n",
    "print(\"eigenvalues: {}\".format(eigenvalues.shape))\n",
    "print(eigenvalues)\n",
    "print(\"eigenvectors: {}\".format(eigenvectors.shape))\n",
    "print(eigenvectors)"
   ]
  },
  {
   "cell_type": "markdown",
   "id": "a9136bb9",
   "metadata": {},
   "source": [
    "# Ordenar valores propios de de mayor a menor"
   ]
  },
  {
   "cell_type": "code",
   "execution_count": null,
   "id": "f26ac804",
   "metadata": {},
   "outputs": [],
   "source": [
    "# indices para ordenar\n",
    "indices_menor_a_mayor = eigenvalues.argsort()\n",
    "indices_mayor_a_menor = indices_menor_a_mayor[::-1]\n",
    "\n",
    "# obtener valores y vectores ordenados de mayor a menor\n",
    "eigenvalues_sorted = eigenvalues[indices_mayor_a_menor]\n",
    "eigenvectors_sorted = eigenvectors[:, indices_mayor_a_menor]\n",
    "\n",
    "for i in range(len(eigenvalues_sorted)):\n",
    "    print(\"componente principal #{}\".format(i))\n",
    "    print(\"    varianza = {:.2f}\".format(eigenvalues_sorted[i]))\n",
    "    print(\"    vector   = {}\".format(eigenvectors_sorted[:, i]))"
   ]
  },
  {
   "cell_type": "markdown",
   "id": "a1796e43",
   "metadata": {},
   "source": [
    "## Dibujar componentes principales"
   ]
  },
  {
   "cell_type": "code",
   "execution_count": null,
   "id": "371db2fc",
   "metadata": {},
   "outputs": [],
   "source": [
    "def dibujar_nuevos_ejes(datar, vector1, vector2, dataq=None):\n",
    "    x = datar[:, 0]\n",
    "    y = datar[:, 1]\n",
    "    numpy.random.seed(5)\n",
    "    plt.scatter(x, y, color=numpy.random.rand(datar.shape[0], 3))\n",
    "    plt.quiver(0, 0, vector1[0], vector1[1], color=\"red\", scale=5)\n",
    "    plt.quiver(0, 0, vector2[0], vector2[1], color=\"magenta\", scale=5)\n",
    "    plt.xlim(-70, 70)\n",
    "    plt.ylim(-70, 70)\n",
    "    if dataq is not None:\n",
    "        xq = dataq[:, 0]\n",
    "        yq = dataq[:, 1]\n",
    "        plt.scatter(xq, yq, label=\"datos_q\", color=\"blue\", marker=\"^\", s=100)\n",
    "        plt.legend()\n",
    "    plt.show()\n",
    "\n",
    "\n",
    "vector1 = eigenvectors_sorted[:, 0]\n",
    "vector2 = eigenvectors_sorted[:, 1]\n",
    "dibujar_nuevos_ejes(datos_centrados, vector1, vector2)"
   ]
  },
  {
   "cell_type": "markdown",
   "id": "9b9286d3",
   "metadata": {},
   "source": [
    "## Definir matriz de proyección (matriz de vectores propios) y rotar ejes"
   ]
  },
  {
   "cell_type": "code",
   "execution_count": null,
   "id": "e72229f3",
   "metadata": {},
   "outputs": [],
   "source": [
    "matriz_transformacion = eigenvectors_sorted\n",
    "\n",
    "datos_transformados = datos_centrados.dot(matriz_transformacion)\n",
    "\n",
    "vector1_transformado = vector1.dot(matriz_transformacion)\n",
    "vector2_transformado = vector2.dot(matriz_transformacion)\n",
    "\n",
    "# con la transformacion los eigenvector serán los ejes (1,0) y (0,1)\n",
    "print(\"vector1_transformado={}\".format(vector1_transformado))\n",
    "print(\"vector2_transformado={}\".format(vector2_transformado))\n",
    "\n",
    "dibujar_nuevos_ejes(datos_transformados, vector1_transformado, vector2_transformado)"
   ]
  },
  {
   "cell_type": "markdown",
   "id": "af2045a2",
   "metadata": {},
   "source": [
    "## Reducir dimensiones (convertir 2d a 1d quitando el eje de menor valor propio)"
   ]
  },
  {
   "cell_type": "code",
   "execution_count": null,
   "id": "604bafcf",
   "metadata": {},
   "outputs": [],
   "source": [
    "datos_proyectados1d = numpy.copy(datos_transformados)\n",
    "datos_proyectados1d[:, 1] = 0\n",
    "dibujar_nuevos_ejes(datos_proyectados1d, vector1_transformado, vector2_transformado)"
   ]
  },
  {
   "cell_type": "markdown",
   "id": "025a224a",
   "metadata": {},
   "source": [
    "## Opcional: Proyección inversa (espacio 1d a espacio 2d)"
   ]
  },
  {
   "cell_type": "code",
   "execution_count": null,
   "id": "bcfb80cc",
   "metadata": {},
   "outputs": [],
   "source": [
    "# invertir la matriz\n",
    "# notar que la inversa es la matriz transpose: matriz_transformacion.T\n",
    "transformacion_inversa = numpy.linalg.inv(matriz_transformacion)\n",
    "\n",
    "datos_revertidos = datos_proyectados1d.dot(transformacion_inversa) + promedios\n",
    "\n",
    "dibujar_dataset(datos_revertidos)"
   ]
  },
  {
   "cell_type": "markdown",
   "id": "68a3dddd",
   "metadata": {},
   "source": [
    "# Búsqueda en espacios reducidos con PCA"
   ]
  },
  {
   "cell_type": "markdown",
   "id": "e36e8930",
   "metadata": {},
   "source": [
    "## Conjunto de datos de consulta Q"
   ]
  },
  {
   "cell_type": "code",
   "execution_count": null,
   "id": "18dd083c",
   "metadata": {},
   "outputs": [],
   "source": [
    "dataset_q = numpy.array(\n",
    "    [\n",
    "        [68.184, 36.637],\n",
    "        [77.422, 19.473],\n",
    "        [18.947, 82.306],\n",
    "        [25.554, 65.87],\n",
    "        [91.477, 10.556],\n",
    "        [41.624, 52.677],\n",
    "    ]\n",
    ")\n",
    "\n",
    "print(\"Dataset Q={}\".format(dataset_q.shape))\n",
    "\n",
    "dibujar_dataset(dataset_r, dataset_q)"
   ]
  },
  {
   "cell_type": "markdown",
   "id": "e6cc4575",
   "metadata": {},
   "source": [
    "## Restar promedio a Q (usar el mismo centrado de los datos)"
   ]
  },
  {
   "cell_type": "code",
   "execution_count": null,
   "id": "c2cb151a",
   "metadata": {},
   "outputs": [],
   "source": [
    "datos_q_centrados = dataset_q - promedios\n",
    "\n",
    "dibujar_nuevos_ejes(datos_centrados, vector1, vector2, datos_q_centrados)"
   ]
  },
  {
   "cell_type": "markdown",
   "id": "359afdae",
   "metadata": {},
   "source": [
    "## Rotar el conjunto de consulta\n",
    "\n",
    "Notar que los vecinos más cercanos no cambian porque es solo un cambio de ejes."
   ]
  },
  {
   "cell_type": "code",
   "execution_count": null,
   "id": "777ef536",
   "metadata": {},
   "outputs": [],
   "source": [
    "datos_q_transformados = datos_q_centrados.dot(matriz_transformacion)\n",
    "\n",
    "dibujar_nuevos_ejes(\n",
    "    datos_transformados,\n",
    "    vector1_transformado,\n",
    "    vector2_transformado,\n",
    "    datos_q_transformados,\n",
    ")"
   ]
  },
  {
   "cell_type": "markdown",
   "id": "1978a077",
   "metadata": {},
   "source": [
    "## Reducir la dimensión de Q (quitar coordenada de menor valor propio)"
   ]
  },
  {
   "cell_type": "code",
   "execution_count": null,
   "id": "5c0769fb",
   "metadata": {},
   "outputs": [],
   "source": [
    "datos_q_proyectados1d = datos_q_transformados\n",
    "datos_q_proyectados1d[:, 1] = 0\n",
    "\n",
    "dibujar_nuevos_ejes(\n",
    "    datos_proyectados1d,\n",
    "    vector1_transformado,\n",
    "    vector2_transformado,\n",
    "    datos_q_proyectados1d,\n",
    ")"
   ]
  },
  {
   "cell_type": "markdown",
   "id": "c02198ef",
   "metadata": {},
   "source": [
    "## Comparar vecinos más cercanos entre espacio original y proyeccion 1d"
   ]
  },
  {
   "cell_type": "code",
   "execution_count": null,
   "id": "57451d0b",
   "metadata": {},
   "outputs": [],
   "source": [
    "from scipy.spatial import distance\n",
    "\n",
    "\n",
    "def comparar_cercanos(dataset_q, dataset_r, dataset_q_proyeccion, dataset_r_proyeccion):\n",
    "    # busqueda lineal\n",
    "    distancias_real = distance.cdist(dataset_q, dataset_r, metric=\"euclidean\")\n",
    "    distancias_proyeccion = distance.cdist(\n",
    "        dataset_q_proyeccion, dataset_r_proyeccion, metric=\"euclidean\"\n",
    "    )\n",
    "    # posicion del mas cercano\n",
    "    posicion_min_real = numpy.argmin(distancias_real, axis=1)\n",
    "    posicion_min_proyeccion = numpy.argmin(distancias_proyeccion, axis=1)\n",
    "    # comparar\n",
    "    bien = 0\n",
    "    for i in range(dataset_q.shape[0]):\n",
    "        print(\"Query #{}\".format(i))\n",
    "        query = dataset_q[i]\n",
    "        posicion_nn = posicion_min_real[i]\n",
    "        nn = dataset_r[posicion_nn]\n",
    "        print(\"    ORIGINAL  : q={} -> NN=#{} r={}\".format(query, posicion_nn, nn))\n",
    "        query_proyeccion = dataset_q_proyeccion[i]\n",
    "        posicion_nn_proyeccion = posicion_min_proyeccion[i]\n",
    "        proyeccion_nn = dataset_r_proyeccion[posicion_nn_proyeccion]\n",
    "        igual = \"¡distinto!\"\n",
    "        if posicion_nn == posicion_nn_proyeccion:\n",
    "            bien += 1\n",
    "            igual = \"igual NN\"\n",
    "        print(\n",
    "            \"    PROYECCION: q={}  -> NN=#{} r={}  ({})\".format(\n",
    "                query_proyeccion, posicion_nn_proyeccion, proyeccion_nn, igual\n",
    "            )\n",
    "        )\n",
    "    # resultado global\n",
    "    total = dataset_q.shape[0]\n",
    "    correctas = bien / total\n",
    "    print()\n",
    "    print(\"precision del NN={:.1f}% ({} de {})\".format(correctas * 100, bien, total))\n",
    "\n",
    "\n",
    "# descarto la segunda coordenada que vale 0\n",
    "dataset_q_1d = datos_q_proyectados1d[:, 0:-1]\n",
    "dataset_r_1d = datos_proyectados1d[:, 0:-1]\n",
    "\n",
    "comparar_cercanos(dataset_q, dataset_r, dataset_q_1d, dataset_r_1d)"
   ]
  }
 ],
 "metadata": {
  "kernelspec": {
   "display_name": "Python 3 (ipykernel)",
   "language": "python",
   "name": "python3"
  },
  "language_info": {
   "codemirror_mode": {
    "name": "ipython",
    "version": 3
   },
   "file_extension": ".py",
   "mimetype": "text/x-python",
   "name": "python",
   "nbconvert_exporter": "python",
   "pygments_lexer": "ipython3",
   "version": "3.13.3"
  }
 },
 "nbformat": 4,
 "nbformat_minor": 5
}
