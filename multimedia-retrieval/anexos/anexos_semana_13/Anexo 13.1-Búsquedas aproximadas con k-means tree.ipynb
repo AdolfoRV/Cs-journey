{
 "cells": [
  {
   "cell_type": "markdown",
   "metadata": {},
   "source": [
    "# Búsquedas aproximadas con Hierarchical K-means tree\n",
    "\n",
    "**Curso**: CC5213 - Recuperación de Información Multimedia  \n",
    "**Profesor**: Juan Manuel Barrios  \n",
    "**Fecha**: 21 de junio de 2025 "
   ]
  },
  {
   "cell_type": "markdown",
   "metadata": {},
   "source": [
    "Al igual que la semana anterior, usaremos la librería FLANN (Fast Library for Approximate Nearest Neighbors)\n",
    "https://github.com/flann-lib/flann\n",
    "\n",
    "Es una librería escrita en C++ que tiene un wrapper para python llamado PyFlann.\n",
    "\n",
    "Instalar PyFlann `1.9.2` con:\n",
    "\n",
    "```\n",
    "# instalar con conda\n",
    "conda install pyflann \n",
    "```\n",
    "\n",
    "**Nota: NO usar pip** porque instalará una versión antigua `1.6.14`.\n",
    "\n",
    "Si se está usando anaconda, instalar con: `conda install -c conda-forge pyflann`\n"
   ]
  },
  {
   "cell_type": "markdown",
   "metadata": {},
   "source": [
    "### Gráficos interactivos\n",
    "\n",
    "Para los gráficos se usa matplotlib:\n",
    "```\n",
    "pip install matplotlib\n",
    "```\n",
    "\n",
    "Para gráficos interactivos (por ej. hacer zoom):\n",
    "\n",
    "  1. Instalar ipympl:  `pip install ipympl`\n",
    "  2. Reiniciar jupyter \n",
    "  3. Reemplazar `%matplotlib inline` por `%matplotlib widget`\n"
   ]
  },
  {
   "cell_type": "code",
   "execution_count": null,
   "metadata": {},
   "outputs": [],
   "source": [
    "import matplotlib.pyplot as plt\n",
    "\n",
    "%matplotlib inline\n",
    "\n",
    "## Descomentar esta linea para graficos interactivos\n",
    "## %matplotlib widget\n"
   ]
  },
  {
   "cell_type": "markdown",
   "metadata": {},
   "source": [
    "## Funciones para evaluar"
   ]
  },
  {
   "cell_type": "code",
   "execution_count": null,
   "metadata": {},
   "outputs": [],
   "source": [
    "# primero cargar algunas funciones auxiliares\n",
    "import numpy\n",
    "import time\n",
    "import pyflann\n",
    "\n",
    "\n",
    "# calcular la calidad de la respuesta contra el resultado \"ideal\" dado por el linear scan\n",
    "class Experimento:\n",
    "    def __init__(self, nombre, archivo_dataset_q, archivo_dataset_r):\n",
    "        self.nombre = nombre\n",
    "        # cargar conjuntos de vectores Q y R\n",
    "        self.dataset_q = numpy.load(archivo_dataset_q)\n",
    "        self.dataset_r = numpy.load(archivo_dataset_r)\n",
    "        print(\n",
    "            \"{}: conjunto_Q={} conjunto_R={}\".format(\n",
    "                nombre, self.dataset_q.shape, self.dataset_r.shape\n",
    "            )\n",
    "        )\n",
    "\n",
    "    def respuesta_ideal(self, nns, distancias, segundos):\n",
    "        self.gt_nns = nns\n",
    "        self.gt_distancias = distancias\n",
    "        self.gt_tiempo = segundos\n",
    "        self.correctas = 0\n",
    "        self.incorrectas = 0\n",
    "        self.tiempo = 0\n",
    "        self.precision = 0\n",
    "        self.eficiencia = 0\n",
    "        print(\"{:<8}: Linear Scan toma {:.1f} segundos\".format(self.nombre, segundos))\n",
    "\n",
    "    def evaluar_busqueda(\n",
    "        self, nombre_indice, nombre_busqueda, nns, distancias, segundos\n",
    "    ):\n",
    "        self.last_nombre_indice = nombre_indice\n",
    "        self.last_nombre_busqueda = nombre_busqueda\n",
    "        self.last_nns = nns\n",
    "        self.last_distancias = distancias\n",
    "        self.correctas = 0\n",
    "        self.incorrectas = 0\n",
    "        for i in range(len(self.gt_nns)):\n",
    "            # es correcta si encontró el mismo elemento que el linear scan, o si\n",
    "            # encontró otro elemento que está a la misma distancia\n",
    "            if nns[i] == self.gt_nns[i] or distancias[i] == self.gt_distancias[i]:\n",
    "                self.correctas += 1\n",
    "            else:\n",
    "                self.incorrectas += 1\n",
    "        self.tiempo = segundos\n",
    "        self.precision = self.correctas / (self.correctas + self.incorrectas)\n",
    "        self.eficiencia = self.tiempo / self.gt_tiempo\n",
    "        print(\n",
    "            \"{:<8}: {:<8} precision={:>6.1%}  tiempo={:>5.2f} seg. ({:>5.1%} del tiempo de Linear Scan)\".format(\n",
    "                nombre_indice,\n",
    "                nombre_busqueda,\n",
    "                self.precision,\n",
    "                self.tiempo,\n",
    "                self.eficiencia,\n",
    "            )\n",
    "        )\n",
    "        return self.precision, self.eficiencia\n",
    "\n",
    "    def mostrar_respuesta(self, id_query):\n",
    "        numpy.set_printoptions(edgeitems=10, threshold=20, linewidth=200)\n",
    "        vector_q = self.dataset_q[id_query]\n",
    "        id_NN = self.last_nns[id_query]\n",
    "        vector_NN = self.dataset_r[id_NN]\n",
    "        dist_NN = self.last_distancias[id_query]\n",
    "        dist_euclid = numpy.linalg.norm(vector_q - vector_NN)\n",
    "        print()\n",
    "        print(\"Vector q_{}: {}\".format(id_query, vector_q))\n",
    "        print(\n",
    "            \"{} {} encontró que el más cercano a q_{} es r_{}, que está a distancia={} (pyflann calcula distancia euclidiana^2)\".format(\n",
    "                self.last_nombre_indice,\n",
    "                self.last_nombre_busqueda,\n",
    "                id_query,\n",
    "                id_NN,\n",
    "                dist_NN,\n",
    "            )\n",
    "        )\n",
    "        print(\"Vector r_{}: {}\".format(id_NN, vector_NN))\n",
    "        print(\n",
    "            \"distancia euclidiana real entre ambos vectores: {:.3f}\".format(dist_euclid)\n",
    "        )\n",
    "        if (\n",
    "            self.last_nns[id_query] == self.gt_nns[id_query]\n",
    "            or self.last_distancias[id_query] == self.gt_distancias[id_query]\n",
    "        ):\n",
    "            print(\"CORRECTO\")\n",
    "        else:\n",
    "            print(\n",
    "                \"INCORRECTO! (el más cercano es r_{} a distancia={})\".format(\n",
    "                    self.gt_nns[id_query], self.gt_distancias[id_query], dist_NN\n",
    "                )\n",
    "            )\n",
    "\n",
    "\n",
    "experimentoA = Experimento(\"DATASET_A\", \"dataset_a_q.npy\", \"dataset_a_r.npy\")"
   ]
  },
  {
   "cell_type": "markdown",
   "metadata": {},
   "source": [
    "# Parte 1: Linear Scan como línea base\n",
    "\n",
    "El resultado obtenido por linear scan (los vectores más cercanos) son usados como el modelo ideal para medir efectividad."
   ]
  },
  {
   "cell_type": "code",
   "execution_count": null,
   "metadata": {},
   "outputs": [],
   "source": [
    "# crear un objeto flann\n",
    "flann = pyflann.FLANN()\n",
    "\n",
    "# construir el indice para linear scan\n",
    "flann.build_index(experimentoA.dataset_r, algorithm=\"linear\")\n",
    "\n",
    "# ejecutar el linear scan\n",
    "t0 = time.time()\n",
    "\n",
    "# se usa un solo core, debiera demorar unos 25 a 35 segundos\n",
    "nns, dists = flann.nn_index(experimentoA.dataset_q, num_neighbors=1, cores=1)\n",
    "segundos = time.time() - t0\n",
    "\n",
    "# guardar las respuestas del linear scan\n",
    "experimentoA.respuesta_ideal(nns, dists, segundos)"
   ]
  },
  {
   "cell_type": "markdown",
   "metadata": {},
   "source": [
    "### Imprimir resultado del linear scan"
   ]
  },
  {
   "cell_type": "code",
   "execution_count": null,
   "metadata": {},
   "outputs": [],
   "source": [
    "# solo para probar, se evaluará la misma búsqueda exacta (por definición obtendrá un 100%)\n",
    "experimentoA.evaluar_busqueda(\"Linear Scan\", \"\", nns, dists, segundos)\n",
    "\n",
    "print(\n",
    "    \"respuestas_correctas  = {:4.0f} / {:4.0f}\".format(\n",
    "        experimentoA.correctas, experimentoA.correctas + experimentoA.incorrectas\n",
    "    )\n",
    ")\n",
    "print(\n",
    "    \"respuestas_incorrectas= {:4.0f} / {:4.0f}\".format(\n",
    "        experimentoA.incorrectas, experimentoA.correctas + experimentoA.incorrectas\n",
    "    )\n",
    ")"
   ]
  },
  {
   "cell_type": "markdown",
   "metadata": {},
   "source": [
    "### Revisar algunos resultados\n",
    "\n",
    "Se muestran algunos resultados específicos. Notar que PyFlann entrega el cuadrado de la distancia euclidiana."
   ]
  },
  {
   "cell_type": "code",
   "execution_count": null,
   "metadata": {},
   "outputs": [],
   "source": [
    "experimentoA.mostrar_respuesta(0)\n",
    "experimentoA.mostrar_respuesta(1)\n",
    "experimentoA.mostrar_respuesta(2)"
   ]
  },
  {
   "cell_type": "markdown",
   "metadata": {},
   "source": [
    "# Parte 2: Hierarchical K-means tree\n",
    "\n",
    "Notar que la construcción y uso del Hierarchical K-means tree es bastante similar al k-d tree del ejemplo de la semana anterior, es necesario seleccionar `algorithm=\"kmeans\"` y ajustar el parámetro ``branching`` (centroides de kmeans)."
   ]
  },
  {
   "cell_type": "code",
   "execution_count": null,
   "metadata": {},
   "outputs": [],
   "source": [
    "# construir el indice kmeans tree\n",
    "t0 = time.time()\n",
    "\n",
    "# Documentación de FLANN en LaTeX:\n",
    "#  https://github.com/mariusmuja/flann/tree/master/doc\n",
    "flann.build_index(experimentoA.dataset_r, algorithm=\"kmeans\", branching=5)\n",
    "\n",
    "segundos_construccion = time.time() - t0\n",
    "\n",
    "print(\"construcción k-means tree={:.2f} segundos\".format(segundos_construccion))"
   ]
  },
  {
   "cell_type": "markdown",
   "metadata": {},
   "source": [
    "### Evaluar la búsqueda aproximada"
   ]
  },
  {
   "cell_type": "code",
   "execution_count": null,
   "metadata": {},
   "outputs": [],
   "source": [
    "# busqueda exacta del 1-NN usando el ultimo indice construido (kmeans tree)\n",
    "t0 = time.time()\n",
    "\n",
    "nns, dists = flann.nn_index(experimentoA.dataset_q, num_neighbors=1, cores=1, checks=5)\n",
    "segundos = time.time() - t0\n",
    "\n",
    "experimentoA.evaluar_busqueda(\n",
    "    \"kmeans tree 5-branching\", \"checks=5\", nns, dists, segundos\n",
    ")\n",
    "\n",
    "print(\n",
    "    \"respuestas_correctas  = {:4.0f} / {:4.0f}\".format(\n",
    "        experimentoA.correctas, experimentoA.correctas + experimentoA.incorrectas\n",
    "    )\n",
    ")\n",
    "print(\n",
    "    \"respuestas_incorrectas= {:4.0f} / {:4.0f}\".format(\n",
    "        experimentoA.incorrectas, experimentoA.correctas + experimentoA.incorrectas\n",
    "    )\n",
    ")"
   ]
  },
  {
   "cell_type": "code",
   "execution_count": null,
   "metadata": {},
   "outputs": [],
   "source": [
    "experimentoA.mostrar_respuesta(0)\n",
    "experimentoA.mostrar_respuesta(1)\n",
    "experimentoA.mostrar_respuesta(2)"
   ]
  },
  {
   "cell_type": "markdown",
   "metadata": {},
   "source": [
    "### Calcular curva de efectividad versus eficiencia"
   ]
  },
  {
   "cell_type": "code",
   "execution_count": null,
   "metadata": {},
   "outputs": [],
   "source": [
    "precisiones = []\n",
    "tiempos = []\n",
    "\n",
    "# probar la búsqueda aproximada usando varios checks\n",
    "for checks in (1, 10, 20, 40, 60, 80, 100, 200, 400, 600, 800, 1000, 2000, 4000):\n",
    "    t0 = time.time()\n",
    "    nns, dists = flann.nn_index(\n",
    "        experimentoA.dataset_q, num_neighbors=1, cores=1, checks=checks\n",
    "    )\n",
    "    segundos = time.time() - t0\n",
    "\n",
    "    precision, eficiencia = experimentoA.evaluar_busqueda(\n",
    "        \"kmeans tree 5-branching\", \"checks={:>4}\".format(checks), nns, dists, segundos\n",
    "    )\n",
    "\n",
    "    precisiones.append(precision)\n",
    "    tiempos.append(eficiencia)"
   ]
  },
  {
   "cell_type": "markdown",
   "metadata": {},
   "source": [
    "### Mostrar curva de efectividad versus eficiencia"
   ]
  },
  {
   "cell_type": "code",
   "execution_count": null,
   "metadata": {},
   "outputs": [],
   "source": [
    "plt.plot(precisiones, tiempos, label='kmeans tree', color='b', linestyle='-', marker='o', markerfacecolor='g', markersize=8)\n",
    "plt.title(experimentoA.nombre)\n",
    "plt.xlabel('Precisión NN [comparado con LS]')\n",
    "plt.ylabel('Tiempos [comparado con LS]')\n",
    "plt.xlim(0, 1)\n",
    "plt.ylim(0, 1)\n",
    "plt.legend()\n",
    "plt.show()"
   ]
  },
  {
   "cell_type": "markdown",
   "metadata": {},
   "source": [
    "Al aumentar `checks` siempre aumenta el tiempo de búsqueda y mejora la precisión, sin embargo a tasas muy distintas como se ve en la forma de la curva del experimento anterior.\n",
    "\n",
    "En el ejemplo anterior, al pasar de `checks=1` a `checks=10` el tiempo **aumenta poco** (pocas décimas de segundo), pero la precisión **mejora mucho** (desde unos 50% a como 75%).\n",
    "\n",
    "Por otra parte, al pasar de `checks=1000` a `checks=2000` la precisión **mejora muy poco**, pero el tiempo **aumenta varios segundos**.\n",
    "\n",
    "Para encontrar un buen valor para `checks` se necesita fijar un objetivo, ya sea en tiempo o en precisión"
   ]
  },
  {
   "cell_type": "markdown",
   "metadata": {},
   "source": [
    "# Parte 3: Evaluar en otro dataset (Dataset_B)"
   ]
  },
  {
   "cell_type": "code",
   "execution_count": null,
   "metadata": {},
   "outputs": [],
   "source": [
    "experimentoB = Experimento(\"DATASET_B\", \"dataset_b_q.npy\", \"dataset_b_r.npy\")\n",
    "\n",
    "# construir el indice para linear scan para el nuevo dataset\n",
    "flann.build_index(experimentoB.dataset_r, algorithm=\"linear\")\n",
    "\n",
    "# ejecutar el linear scan\n",
    "t0 = time.time()\n",
    "nns, dists = flann.nn_index(experimentoB.dataset_q, num_neighbors=1, cores=1)\n",
    "segundos = time.time() - t0\n",
    "\n",
    "experimentoB.respuesta_ideal(nns, dists, segundos)\n",
    "\n",
    "# construir el indice k-means tree\n",
    "t0 = time.time()\n",
    "flann.build_index(experimentoB.dataset_r, algorithm=\"kmeans\", branching=5)\n",
    "segundos_construccion = time.time() - t0\n",
    "print(\"construcción kmeans tree={:.2f} segundos\".format(segundos_construccion))\n",
    "\n",
    "# probar con distintos checks y guardar los datos de efectividad vs eficiencia\n",
    "precisiones2 = []\n",
    "tiempos2 = []\n",
    "for checks in (1, 10, 20, 40, 60, 80, 100, 200, 400, 600, 800, 1000, 2000, 4000):\n",
    "    t0 = time.time()\n",
    "    nns, dists = flann.nn_index(\n",
    "        experimentoB.dataset_q, num_neighbors=1, cores=1, checks=checks\n",
    "    )\n",
    "    segundos = time.time() - t0\n",
    "\n",
    "    precision, eficiencia = experimentoB.evaluar_busqueda(\n",
    "        \"kmeans tree 5-branching\", \"checks={:>4}\".format(checks), nns, dists, segundos\n",
    "    )\n",
    "\n",
    "    precisiones2.append(precision)\n",
    "    tiempos2.append(eficiencia)"
   ]
  },
  {
   "cell_type": "markdown",
   "metadata": {},
   "source": [
    "### Comparar efectividad vs eficiencia lograda por k-means tree en ambos datasets"
   ]
  },
  {
   "cell_type": "code",
   "execution_count": null,
   "metadata": {},
   "outputs": [],
   "source": [
    "plt.plot(\n",
    "    precisiones,\n",
    "    tiempos,\n",
    "    label=\"kmeans tree-dataset A\",\n",
    "    color=\"b\",\n",
    "    linestyle=\"-\",\n",
    "    marker=\"o\",\n",
    "    markerfacecolor=\"g\",\n",
    "    markersize=8,\n",
    ")\n",
    "plt.plot(\n",
    "    precisiones2,\n",
    "    tiempos2,\n",
    "    label=\"kmeans tree-dataset B\",\n",
    "    color=\"r\",\n",
    "    linestyle=\"-\",\n",
    "    marker=\"o\",\n",
    "    markerfacecolor=\"m\",\n",
    "    markersize=8,\n",
    ")\n",
    "plt.title(experimentoB.nombre)\n",
    "plt.xlabel(\"Precisión NN   [% de LS]\")\n",
    "plt.ylabel(\"Tiempos   [% de LS]\")\n",
    "plt.xlim(0, 1)\n",
    "plt.ylim(0, 1)\n",
    "plt.legend()\n",
    "plt.show()"
   ]
  },
  {
   "cell_type": "markdown",
   "metadata": {},
   "source": [
    "Notar la diferencia de resultados que obtiene el mismo árbol (kmeans tree con `branching=5`) al indexar dos datasets distintos.\n",
    "Ambos datasets tienen la misma cantidad de vectores y dimensionalidad.\n",
    "\n",
    "En el dataset A es posible lograr mejores aproximaciones que en el dataset B. Por ejemplo, en el dataset A se puede reducir el tiempo de búsqueda al 4% del linear scan logrando un 95% de respuestas correctas, mientras que en el dataset B al reducir el tiempo de búsqueda a un 5% logra un 86% de respuestas correctas.\n",
    "\n",
    "La performance de las búsqueda aproximadas (esto es, la precisión lograda cuando se reduce el tiempo de búsqueda) y la performance de los índices en general **depende de cómo están distribudos los vectores en el espacio**. Hablaremos más sobre estos en las siguientes semanas."
   ]
  },
  {
   "cell_type": "markdown",
   "metadata": {},
   "source": [
    "# Parte 4: Probar distintos branching del k-means tree\n",
    "\n",
    "En un mismo dataset (DATASET_B) se probarán varios k-means tree con distintos branching para ver cuál logra mejores aproximaciones (esto es, el que logra reducir más el tiempo de búsqueda logrando mejor calidad de respuesta)."
   ]
  },
  {
   "cell_type": "code",
   "execution_count": null,
   "metadata": {},
   "outputs": [],
   "source": [
    "checks_a_probar = (1, 10, 20, 40, 60, 80, 100, 200, 400, 600, 800, 1000, 2000, 4000)\n",
    "precisiones1 = []\n",
    "tiempos1 = []\n",
    "precisiones2 = []\n",
    "tiempos2 = []\n",
    "precisiones3 = []\n",
    "tiempos3 = []\n",
    "\n",
    "##################\n",
    "# construir indice\n",
    "t0 = time.time()\n",
    "flann1 = pyflann.FLANN()\n",
    "flann1.build_index(experimentoB.dataset_r, algorithm=\"kmeans\", branching=5)\n",
    "segundos_construccion = time.time() - t0\n",
    "print(\n",
    "    \"construcción kmeans tree 5-branching  = {:.2f} segundos\".format(\n",
    "        segundos_construccion\n",
    "    )\n",
    ")\n",
    "\n",
    "# busquedas aproximadas\n",
    "for checks in checks_a_probar:\n",
    "    t0 = time.time()\n",
    "    nns, dists = flann1.nn_index(\n",
    "        experimentoB.dataset_q, num_neighbors=1, cores=1, checks=checks\n",
    "    )\n",
    "    segundos = time.time() - t0\n",
    "    precision, eficiencia = experimentoB.evaluar_busqueda(\n",
    "        \"kmeans tree 5-branching  \", \"checks={:>4}\".format(checks), nns, dists, segundos\n",
    "    )\n",
    "    precisiones1.append(precision)\n",
    "    tiempos1.append(eficiencia)\n",
    "\n",
    "##################\n",
    "# construir indice\n",
    "t0 = time.time()\n",
    "flann2 = pyflann.FLANN()\n",
    "flann2.build_index(experimentoB.dataset_r, algorithm=\"kmeans\", branching=20)\n",
    "segundos_construccion = time.time() - t0\n",
    "print(\n",
    "    \"construcción kmeans tree 20-branching = {:.2f} segundos\".format(\n",
    "        segundos_construccion\n",
    "    )\n",
    ")\n",
    "\n",
    "# busquedas aproximadas\n",
    "for checks in checks_a_probar:\n",
    "    t0 = time.time()\n",
    "    nns, dists = flann2.nn_index(\n",
    "        experimentoB.dataset_q, num_neighbors=1, cores=1, checks=checks\n",
    "    )\n",
    "    segundos = time.time() - t0\n",
    "    precision, eficiencia = experimentoB.evaluar_busqueda(\n",
    "        \"kmeans tree 20-branching \", \"checks={:>4}\".format(checks), nns, dists, segundos\n",
    "    )\n",
    "    precisiones2.append(precision)\n",
    "    tiempos2.append(eficiencia)\n",
    "\n",
    "##################\n",
    "# construir indice\n",
    "t0 = time.time()\n",
    "flann3 = pyflann.FLANN()\n",
    "flann3.build_index(experimentoB.dataset_r, algorithm=\"kmeans\", branching=200)\n",
    "segundos_construccion = time.time() - t0\n",
    "print(\n",
    "    \"construcción kmeans tree 200-branching= {:.2f} segundos\".format(\n",
    "        segundos_construccion\n",
    "    )\n",
    ")\n",
    "\n",
    "# busquedas aproximadas\n",
    "for checks in checks_a_probar:\n",
    "    t0 = time.time()\n",
    "    nns, dists = flann3.nn_index(\n",
    "        experimentoB.dataset_q, num_neighbors=1, cores=1, checks=checks\n",
    "    )\n",
    "    segundos = time.time() - t0\n",
    "    precision, eficiencia = experimentoB.evaluar_busqueda(\n",
    "        \"kmeans tree 200-branching\", \"checks={:>4}\".format(checks), nns, dists, segundos\n",
    "    )\n",
    "    precisiones3.append(precision)\n",
    "    tiempos3.append(eficiencia)"
   ]
  },
  {
   "cell_type": "markdown",
   "metadata": {},
   "source": [
    "### Graficar comparación"
   ]
  },
  {
   "cell_type": "code",
   "execution_count": null,
   "metadata": {},
   "outputs": [],
   "source": [
    "plt.plot(\n",
    "    precisiones1,\n",
    "    tiempos1,\n",
    "    label=\"kmeans tree 5-b  \",\n",
    "    color=\"b\",\n",
    "    linestyle=\"-\",\n",
    "    marker=\"o\",\n",
    "    markerfacecolor=\"g\",\n",
    "    markersize=8,\n",
    ")\n",
    "plt.plot(\n",
    "    precisiones2,\n",
    "    tiempos2,\n",
    "    label=\"kmeans tree 20-b \",\n",
    "    color=\"r\",\n",
    "    linestyle=\"-\",\n",
    "    marker=\"o\",\n",
    "    markerfacecolor=\"m\",\n",
    "    markersize=8,\n",
    ")\n",
    "plt.plot(\n",
    "    precisiones3,\n",
    "    tiempos3,\n",
    "    label=\"kmeans tree 200-b\",\n",
    "    color=\"g\",\n",
    "    linestyle=\"-\",\n",
    "    marker=\"o\",\n",
    "    markerfacecolor=\"y\",\n",
    "    markersize=8,\n",
    ")\n",
    "plt.title(experimentoB.nombre)\n",
    "plt.xlabel(\"Precisión NN   [% de LS]\")\n",
    "plt.ylabel(\"Tiempos   [% de LS]\")\n",
    "plt.xlim(0, 1)\n",
    "plt.ylim(0, 1)\n",
    "plt.legend()\n",
    "plt.plot([0.95, 0.95], [0.58, 0], linewidth=1, linestyle=\"-\", marker=\" \", color=\"r\")\n",
    "plt.text(0.9, 0.6, \"95% precisión\", ha=\"center\", fontsize=9, color=\"red\")\n",
    "plt.show()"
   ]
  },
  {
   "cell_type": "markdown",
   "metadata": {},
   "source": [
    "Si el branching es muy bajo el árbol tendrá mucha altura (porque tendrá que hacer muchas subdivisiones), y si el branching es muy grande el árbol quedará muy ancho (cada nodo tendrá demasiados hijos). Es necesario encontrar un buen balance para tener un árbol eficiente para buscar (esto depende del número de vectores y también de cómo están distribuidos los vectores).\n",
    "\n",
    "Un punto de comparación interesante es el **tiempo requerido para lograr un 95% de precisión** de la búsqueda aproximada. Según el experimento anterior (en mi computador, puede variar), para cada árbol estos son los puntos más cercanos al 95% de precisión:\n",
    "\n",
    "```\n",
    "kmeans tree 5-branching  :\tchecks=400\tprecision=93.6%\tsegundos=3.15\t(9.8% del tiempo de Linear Scan)\n",
    "kmeans tree 5-branching  :\tchecks=600\tprecision=96.2%\tsegundos=4.80\t(14.9% del tiempo de Linear Scan)\n",
    "\n",
    "kmeans tree 20-branching :\tchecks=600\tprecision=93.2%\tsegundos=1.49\t(4.6% del tiempo de Linear Scan)\n",
    "kmeans tree 20-branching :\tchecks=800\tprecision=95.4%\tsegundos=2.03\t(6.3% del tiempo de Linear Scan)\n",
    "\n",
    "kmeans tree 200-branching:\tchecks=600\tprecision=94.1%\tsegundos=1.83\t(5.7% del tiempo de Linear Scan)\n",
    "kmeans tree 200-branching:\tchecks=800\tprecision=96.3%\tsegundos=2.26\t(7.0% del tiempo de Linear Scan)\n",
    "```\n",
    "\n",
    "Según estos datos, k-means tree con `branching=20` alcanza un 95% de precisión en el menor tiempo, mientras que `branching=5` resulta ser un valor muy pequeño (la búsqueda es más lenta), y con `branching=200` resulta ser muy grande (la búsqueda es levemente más lenta).\n"
   ]
  }
 ],
 "metadata": {
  "kernelspec": {
   "display_name": "Python 3 (ipykernel)",
   "language": "python",
   "name": "python3"
  },
  "language_info": {
   "codemirror_mode": {
    "name": "ipython",
    "version": 3
   },
   "file_extension": ".py",
   "mimetype": "text/x-python",
   "name": "python",
   "nbconvert_exporter": "python",
   "pygments_lexer": "ipython3",
   "version": "3.13.3"
  }
 },
 "nbformat": 4,
 "nbformat_minor": 4
}
