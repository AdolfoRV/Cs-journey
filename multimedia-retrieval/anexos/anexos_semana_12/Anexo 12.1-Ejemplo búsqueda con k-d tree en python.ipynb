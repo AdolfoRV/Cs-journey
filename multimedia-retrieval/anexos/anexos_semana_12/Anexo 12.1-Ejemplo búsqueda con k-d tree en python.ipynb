{
 "cells": [
  {
   "cell_type": "markdown",
   "metadata": {},
   "source": [
    "# Ejemplo búsquedas con k-d tree\n",
    "\n",
    "**Curso**: CC5213 - Recuperación de Información Multimedia  \n",
    "**Profesor**: Juan Manuel Barrios  \n",
    "**Fecha**: 08 de junio de 2025 "
   ]
  },
  {
   "cell_type": "markdown",
   "metadata": {},
   "source": [
    "Usaremos la librería FLANN (Fast Library for Approximate Nearest Neighbors)\n",
    "https://github.com/flann-lib/flann\n",
    "\n",
    "Es una librería escrita en C++ que tiene un wrapper para python llamado PyFlann.\n",
    "\n",
    "Instalar PyFlann `1.9.2` con:\n",
    "\n",
    "```\n",
    "# instalar con conda (no usar pip)\n",
    "conda install pyflann \n",
    "\n",
    "```\n",
    "\n",
    "**Nota: NO usar pip** porque instalará una versión antigua `1.6.14`.\n",
    "\n",
    "Si se está usando anaconda, instalar con: `conda install -c conda-forge pyflann`\n"
   ]
  },
  {
   "cell_type": "code",
   "execution_count": null,
   "metadata": {},
   "outputs": [],
   "source": [
    "# primero cargar algunas funciones auxiliares\n",
    "import os\n",
    "import numpy\n",
    "import time\n",
    "import pyflann\n",
    "\n",
    "\n",
    "# calcular la calidad de la respuesta contra el resultado \"ideal\" dado por el linear scan\n",
    "class Evaluador:\n",
    "    def __init__(self, nns_ideal, distancias_ideal, tiempo_ideal):\n",
    "        self.nns_ideal = nns_ideal\n",
    "        self.distancias_ideal = distancias_ideal\n",
    "        self.tiempo_ideal = tiempo_ideal\n",
    "        self.correctas = 0\n",
    "        self.incorrectas = 0\n",
    "        self.tiempo = 0\n",
    "        self.precision = 0\n",
    "        self.eficiencia = 0\n",
    "\n",
    "    def evaluar_busqueda(self, nns, distancias, segundos):\n",
    "        self.correctas = 0\n",
    "        self.incorrectas = 0\n",
    "        for i in range(len(self.nns_ideal)):\n",
    "            if nns[i] == self.nns_ideal[i] or distancias[i] == self.distancias_ideal[i]:\n",
    "                self.correctas += 1\n",
    "            else:\n",
    "                self.incorrectas += 1\n",
    "        self.tiempo = segundos\n",
    "        self.precision = self.correctas / (self.correctas + self.incorrectas)\n",
    "        self.eficiencia = self.tiempo / self.tiempo_ideal"
   ]
  },
  {
   "cell_type": "markdown",
   "metadata": {},
   "source": [
    "# Ejemplo 1: Buscar en Dataset A"
   ]
  },
  {
   "cell_type": "code",
   "execution_count": null,
   "metadata": {},
   "outputs": [],
   "source": [
    "# cargar un conjunto de vectores\n",
    "datasetA_q = numpy.load(\"dataset_a_q.npy\")\n",
    "datasetA_r = numpy.load(\"dataset_a_r.npy\")\n",
    "\n",
    "print(\n",
    "    \"Dataset A: conjunto_Q={} conjunto_R={}\".format(datasetA_q.shape, datasetA_r.shape)\n",
    ")"
   ]
  },
  {
   "cell_type": "markdown",
   "metadata": {},
   "source": [
    "### Búsqueda de Q en R usando linear scan\n",
    "\n",
    "El resultado obtenido por linear scan (los vectores más cercanos) son usados como el modelo ideal para luego medir efectividad."
   ]
  },
  {
   "cell_type": "code",
   "execution_count": null,
   "metadata": {},
   "outputs": [],
   "source": [
    "# crear un objeto flann\n",
    "flann = pyflann.FLANN()\n",
    "\n",
    "# construir el indice para linear scan\n",
    "flann.build_index(datasetA_r, algorithm=\"linear\")\n",
    "\n",
    "# ejecutar el linear scan\n",
    "t0 = time.time()\n",
    "\n",
    "print(\n",
    "    \"iniciando linear scan de Q={} vectores de consulta de dimensión {}, buscando en R={} vectores de dimension {} ...\".format(\n",
    "        datasetA_q.shape[0],\n",
    "        datasetA_q.shape[1],\n",
    "        datasetA_r.shape[0],\n",
    "        datasetA_r.shape[1],\n",
    "    )\n",
    ")\n",
    "nns_LS, dists_LS = flann.nn_index(datasetA_q, num_neighbors=1, cores=1)\n",
    "\n",
    "segundos_LS = time.time() - t0\n",
    "\n",
    "print(\"Linear scan en Dataset A toma {:.1f} segundos\".format(segundos_LS))\n",
    "\n",
    "# objeto para evaluar las busquedas aproximadas\n",
    "evaluadorA = Evaluador(nns_LS, dists_LS, segundos_LS)"
   ]
  },
  {
   "cell_type": "markdown",
   "metadata": {},
   "source": [
    "### Guardar resultados en disco\n",
    "\n",
    "Se guarda una lista de largo Q, con el número del vector más parecido de R.  \n",
    "(se usará más adelante en otro ejemplo)"
   ]
  },
  {
   "cell_type": "code",
   "execution_count": null,
   "metadata": {},
   "outputs": [],
   "source": [
    "filename = \"dataset_a-nns-linear_scan.npy\"\n",
    "\n",
    "numpy.save(filename, nns_LS)\n",
    "print(\"resultados guardados en {}\".format(filename))\n",
    "\n",
    "print(nns_LS.shape)\n",
    "print(nns_LS)\n",
    "print(dists_LS)"
   ]
  },
  {
   "cell_type": "markdown",
   "metadata": {},
   "source": [
    "### Comprobar que la búsqueda obtiene efectividad 100% en un tiempo de 100%"
   ]
  },
  {
   "cell_type": "code",
   "execution_count": null,
   "metadata": {},
   "outputs": [],
   "source": [
    "# para probar, se evaluará la misma búsqueda exacta \n",
    "# obtendrá un 100% de correctas en un 100% del tiempo porque se está comparando consigo mismo\n",
    "evaluadorA.evaluar_busqueda(nns_LS, dists_LS, segundos_LS)\n",
    "\n",
    "print(\"Linear scan en dataset A:\")\n",
    "print(\n",
    "    \"  correctas={} incorrectas={} tiempo={:>.2f} segundos\".format(\n",
    "        evaluadorA.correctas, evaluadorA.incorrectas, evaluadorA.tiempo\n",
    "    )\n",
    ")\n",
    "print(\n",
    "    \"  precision={:.1%} tiempo={:.1%}\".format(\n",
    "        evaluadorA.precision, evaluadorA.eficiencia\n",
    "    )\n",
    ")"
   ]
  },
  {
   "cell_type": "markdown",
   "metadata": {},
   "source": [
    "### Construir un kd tree con el conjunto R"
   ]
  },
  {
   "cell_type": "code",
   "execution_count": null,
   "metadata": {},
   "outputs": [],
   "source": [
    "# construir el indice kdtree\n",
    "t0 = time.time()\n",
    "\n",
    "flann.build_index(datasetA_r, algorithm=\"kdtree\", trees=1)\n",
    "\n",
    "segundos_construccion = time.time() - t0\n",
    "\n",
    "print(\"construcción kd tree={:.2f} segundos\".format(segundos_construccion))"
   ]
  },
  {
   "cell_type": "markdown",
   "metadata": {},
   "source": [
    "### Búsqueda exacta de Q en R usando el kd tree\n",
    "\n",
    "Notar que hay una ganancia pequeña en el tiempo de búsqueda.\n",
    "Incluso a veces puede ser más lento que el linear scan."
   ]
  },
  {
   "cell_type": "code",
   "execution_count": null,
   "metadata": {},
   "outputs": [],
   "source": [
    "# busqueda exacta del 1-NN usando el ultimo indice construido (kd tree)\n",
    "t0 = time.time()\n",
    "\n",
    "nn, dist = flann.nn_index(datasetA_q, num_neighbors=1, cores=1, checks=-1)\n",
    "\n",
    "segundos = time.time() - t0\n",
    "\n",
    "evaluadorA.evaluar_busqueda(nn, dist, segundos)\n",
    "\n",
    "print(\n",
    "    \"kd tree EXACTO  precision={:.1%}  tiempo={:.2f} seg. ({:.1%} del tiempo de Linear scan)\".format(\n",
    "        evaluadorA.precision, evaluadorA.tiempo, evaluadorA.eficiencia\n",
    "    )\n",
    ")"
   ]
  },
  {
   "cell_type": "markdown",
   "metadata": {},
   "source": [
    "### Búsqueda aproximada usando el k-d tree\n",
    "\n",
    "El parámetro `checks` es la cantidad de hojas a visitar, lo que permite ajustar el tiempo de búsqueda y calidad de respuesta."
   ]
  },
  {
   "cell_type": "code",
   "execution_count": null,
   "metadata": {},
   "outputs": [],
   "source": [
    "# busqueda aproximada del 1-NN usando el ultimo indice construido (kd tree)\n",
    "t0 = time.time()\n",
    "\n",
    "# \"checks\" controla la velocidad de búsqueda y calidad de respuesta\n",
    "nn, dist = flann.nn_index(datasetA_q, num_neighbors=1, cores=1, checks=1)\n",
    "\n",
    "segundos = time.time() - t0\n",
    "\n",
    "evaluadorA.evaluar_busqueda(nn, dist, segundos)\n",
    "\n",
    "print(\n",
    "    \"kd tree APROX  precision={:6.1%} tiempo={:>5.2f} seg. ({:5.1f}% del tiempo de Linear scan)\".format(\n",
    "        evaluadorA.precision, evaluadorA.tiempo, evaluadorA.eficiencia\n",
    "    )\n",
    ")"
   ]
  },
  {
   "cell_type": "markdown",
   "metadata": {},
   "source": [
    "### Secuencia de búsquedas usando distintos valores de aproximación"
   ]
  },
  {
   "cell_type": "code",
   "execution_count": null,
   "metadata": {},
   "outputs": [],
   "source": [
    "# podemos hacer varios experimentos con el mismo índice, variando checks al buscar\n",
    "for checks in (1, 10, 100, 1000, -1):\n",
    "    t0 = time.time()\n",
    "    nn, dist = flann.nn_index(datasetA_q, num_neighbors=1, cores=1, checks=checks)\n",
    "    segundos = time.time() - t0\n",
    "\n",
    "    evaluadorA.evaluar_busqueda(nn, dist, segundos)\n",
    "    print(\n",
    "        \"kd tree checks={:>4}  precision={:>6.1%}  tiempo={:>5.2f} seg. ({:>5.1%} del tiempo de Linear Scan)\".format(\n",
    "            checks, evaluadorA.precision, evaluadorA.tiempo, evaluadorA.eficiencia\n",
    "        )\n",
    "    )"
   ]
  },
  {
   "cell_type": "markdown",
   "metadata": {},
   "source": [
    "# Ejemplo 2: Buscar en Dataset B\n",
    "\n",
    "### Primero usar linear scan para obtener el resultado ideal y el tiempo total"
   ]
  },
  {
   "cell_type": "code",
   "execution_count": null,
   "metadata": {},
   "outputs": [],
   "source": [
    "# este es otro conjunto de vectores (notar la diferencia de performance del indice)\n",
    "datasetB_q = numpy.load(\"dataset_b_q.npy\")\n",
    "datasetB_r = numpy.load(\"dataset_b_r.npy\")\n",
    "\n",
    "print(\n",
    "    \"Dataset B: conjunto_Q={} conjunto_R={}\".format(datasetB_q.shape, datasetB_r.shape)\n",
    ")\n",
    "\n",
    "# construir el indice para linear scan para el nuevo dataset\n",
    "flann.build_index(datasetB_r, algorithm=\"linear\")\n",
    "\n",
    "# ejecutar el linear scan\n",
    "t0 = time.time()\n",
    "nns_LS2, dists_LS2 = flann.nn_index(datasetB_q, num_neighbors=1, cores=1)\n",
    "segundos_LS2 = time.time() - t0\n",
    "print(\"Linear scan en Dataset B toma {:.1f} segundos\".format(segundos_LS2))\n",
    "\n",
    "# objeto para evaluar las busquedas aproximadas\n",
    "evaluadorB = Evaluador(nns_LS2, dists_LS2, segundos_LS2)"
   ]
  },
  {
   "cell_type": "markdown",
   "metadata": {},
   "source": [
    "### Crear un kd tree y hacer una serie de búsquedas con distintas aproximaciones"
   ]
  },
  {
   "cell_type": "code",
   "execution_count": null,
   "metadata": {},
   "outputs": [],
   "source": [
    "# construir el indice kdtree\n",
    "t0 = time.time()\n",
    "flann.build_index(datasetB_r, algorithm=\"kdtree\", trees=1)\n",
    "segundos_construccion = time.time() - t0\n",
    "print(\"construcción kd tree={:.2f} segundos\".format(segundos_construccion))\n",
    "\n",
    "for checks in (1, 10, 100, 1000, -1):\n",
    "    t0 = time.time()\n",
    "    nn, dist = flann.nn_index(datasetB_q, num_neighbors=1, cores=1, checks=checks)\n",
    "    segundos = time.time() - t0\n",
    "\n",
    "    evaluadorB.evaluar_busqueda(nn, dist, segundos)\n",
    "    print(\n",
    "        \"kd tree checks={:>4}  precision={:>6.1%}  tiempo={:>5.2f} seg. ({:>5.1%} del tiempo de Linear Scan)\".format(\n",
    "            checks, evaluadorB.precision, evaluadorB.tiempo, evaluadorB.eficiencia\n",
    "        )\n",
    "    )"
   ]
  },
  {
   "cell_type": "markdown",
   "metadata": {},
   "source": [
    "# Pregunta\n",
    "\n",
    "Notar que los dos datasets tienen la misma cantidad de vectores de la misma dimensionalidad (Q=5.000 vectores, R=100.000 vectores, vectores de 128-d). Además, en todas las búsquedas se usó `cores=1` para evitar sobrecargas que pudieran influir en los tiempos obtenidos.\n",
    "\n",
    "El Linear scan en ambos datasets demora el mismo tiempo. Sin embargo, los resultados de la búsqueda aproximada no son muy parecidos en ambos datasets. Por ejemplo, comparar la precision lograda y el tiempo que tomó en ambos datasets cuando se usó kd tree con `checks=1000`.\n",
    "\n",
    "**¿A qué se puede deber que un dataset obtenga mejores aproximaciones que el otro?**"
   ]
  }
 ],
 "metadata": {
  "kernelspec": {
   "display_name": "Python 3 (ipykernel)",
   "language": "python",
   "name": "python3"
  },
  "language_info": {
   "codemirror_mode": {
    "name": "ipython",
    "version": 3
   },
   "file_extension": ".py",
   "mimetype": "text/x-python",
   "name": "python",
   "nbconvert_exporter": "python",
   "pygments_lexer": "ipython3",
   "version": "3.13.3"
  }
 },
 "nbformat": 4,
 "nbformat_minor": 4
}
