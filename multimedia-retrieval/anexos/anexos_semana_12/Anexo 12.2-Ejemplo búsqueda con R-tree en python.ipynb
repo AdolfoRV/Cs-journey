{
 "cells": [
  {
   "cell_type": "markdown",
   "id": "traditional-savings",
   "metadata": {},
   "source": [
    "# Ejemplo búsquedas con R-Tree\n",
    "\n",
    "**Curso**: CC5213 - Recuperación de Información Multimedia  \n",
    "**Profesor**: Juan Manuel Barrios  \n",
    "**Fecha**: 08 de junio de 2025"
   ]
  },
  {
   "cell_type": "markdown",
   "id": "e1316e03",
   "metadata": {},
   "source": [
    "Para ejecutar el código en este notebook debe instalar dos librerías:\n",
    "```\n",
    "pip install rtree matplotlib\n",
    "```\n",
    "Ver documentación de la librería `rtree` en: https://rtree.readthedocs.io/en/latest/class.html\n",
    "\n",
    "Primero se realizará un ejemplo con datos de dos dimensiones. Luego se realizará un ejemplo con vectores 128 dimensiones."
   ]
  },
  {
   "cell_type": "markdown",
   "id": "44696af9",
   "metadata": {},
   "source": [
    "# Ejemplo 1: R-tree con datos 2D"
   ]
  },
  {
   "cell_type": "code",
   "execution_count": null,
   "id": "d3cde21c",
   "metadata": {},
   "outputs": [],
   "source": [
    "import numpy\n",
    "\n",
    "dataset_r = numpy.load(\"dataset_2d_r.npy\")\n",
    "dataset_q = numpy.load(\"dataset_2d_q.npy\")\n",
    "\n",
    "print(\"Dataset Q={} R={}\".format(dataset_q.shape, dataset_r.shape))"
   ]
  },
  {
   "cell_type": "code",
   "execution_count": null,
   "id": "ce9079d5",
   "metadata": {},
   "outputs": [],
   "source": [
    "import matplotlib.pyplot as plt\n",
    "\n",
    "def dibujar_dataset(datar, dataq):\n",
    "    x = datar[:,0]\n",
    "    y = datar[:,1]\n",
    "    plt.scatter(x, y, label=\"dataset_r\")\n",
    "    x2 = dataq[:,0]\n",
    "    y2 = dataq[:,1]\n",
    "    plt.scatter(x2, y2, label=\"dataset_q\")\n",
    "    plt.legend(bbox_to_anchor=(1,1))\n",
    "    plt.show()\n",
    "    \n",
    "dibujar_dataset(dataset_r, dataset_q)"
   ]
  },
  {
   "cell_type": "markdown",
   "id": "257fcf93",
   "metadata": {},
   "source": [
    "## Crear índice R-tree"
   ]
  },
  {
   "cell_type": "code",
   "execution_count": null,
   "id": "8e64b137",
   "metadata": {},
   "outputs": [],
   "source": [
    "import time \n",
    "import datetime\n",
    "from rtree import index\n",
    "\n",
    "def crear_indice(descriptores):\n",
    "    print(\"creando indice para r={}\".format(descriptores.shape))\n",
    "\n",
    "    p = index.Property()\n",
    "    p.dimension = descriptores.shape[1]\n",
    "\n",
    "    idx = index.Index(properties=p, interleaved=True)\n",
    "\n",
    "    descriptores_boxes = numpy.hstack((descriptores, descriptores))\n",
    "\n",
    "    for row in range(descriptores_boxes.shape[0]):\n",
    "        if (row+1) % 5000 == 0:\n",
    "            print(\"[{}]   {} / {}...\".format(datetime.datetime.now().strftime(\"%Y-%m-%d %H:%M:%S\"), row+1, descriptores.shape[0]))\n",
    "        idx.insert(id=row, coordinates=descriptores_boxes[row])\n",
    "        \n",
    "    return idx\n",
    "\n",
    "t0 = time.time()\n",
    "r_tree = crear_indice(dataset_r)\n",
    "t1 = time.time()\n",
    "print(\"tiempo creacion indice: {:.1f} segs\".format(t1-t0))"
   ]
  },
  {
   "cell_type": "markdown",
   "id": "754e350f",
   "metadata": {},
   "source": [
    "## Búsquedas del NN usando el R-tree"
   ]
  },
  {
   "cell_type": "code",
   "execution_count": null,
   "id": "69c79529",
   "metadata": {},
   "outputs": [],
   "source": [
    "import datetime\n",
    "\n",
    "def busqueda_nn(idx, descriptores):\n",
    "    print(\"busqueda del mas cercano q={}\".format(descriptores.shape))\n",
    "\n",
    "    descriptores_boxes = numpy.hstack((descriptores, descriptores))\n",
    "\n",
    "    all_nns = []\n",
    "    for row in range(descriptores_boxes.shape[0]):\n",
    "        if (row+1) % 100 == 0:\n",
    "            print(\"[{}]   {} / {}...\".format(datetime.datetime.now().strftime(\"%Y-%m-%d %H:%M:%S\"), row+1, descriptores.shape[0]))\n",
    "        nns = idx.nearest(coordinates=descriptores_boxes[row], num_results=1, objects=False)\n",
    "        nn = next(nns)\n",
    "        all_nns.append(nn)\n",
    "    \n",
    "    return all_nns\n",
    "\n",
    "t0 = time.time()\n",
    "nns = busqueda_nn(r_tree, dataset_q)\n",
    "t1 = time.time()\n",
    "print(\"tiempo busqueda NN: {:.1f} segs\".format(t1-t0))"
   ]
  },
  {
   "cell_type": "markdown",
   "id": "86abcb91",
   "metadata": {},
   "source": [
    "## Resultado de la búsqueda"
   ]
  },
  {
   "cell_type": "code",
   "execution_count": null,
   "id": "eca71720",
   "metadata": {},
   "outputs": [],
   "source": [
    "for row in range(dataset_q.shape[0]):\n",
    "    print(\"{} -> {}\".format(dataset_q[row], dataset_r[nns[row]]))"
   ]
  },
  {
   "cell_type": "markdown",
   "id": "4487f554",
   "metadata": {},
   "source": [
    "El R-tree funciona bien con datos espaciales (2D o 3D).  \n",
    "A continuación se prueba el R-tree con datos de mayor dimensión."
   ]
  },
  {
   "cell_type": "markdown",
   "id": "6ba9ce01",
   "metadata": {},
   "source": [
    "# Ejemplo 2: R-tree con dataset de alta dimensionalidad\n",
    "\n",
    "Se usa el mismo dataset para el ejemplo de kdtree (**Q** son 5 mil vectores y **R** son 100 mil vectores de dimensión 128).\n",
    "\n",
    "El R-tree funciona bien con datos espaciales (2D o 3D), sin embargo con datos de alta dimensión no tiene buena performance debido a que los MBRs tienden a aumentar mucho. Como toman el mínimo y máximo de cada dimensión, los rectángulos contienen mucho volumen.\n"
   ]
  },
  {
   "cell_type": "code",
   "execution_count": null,
   "id": "de0dc004",
   "metadata": {},
   "outputs": [],
   "source": [
    "import numpy\n",
    "import time\n",
    "\n",
    "datasetA_q = numpy.load(\"dataset_a_q.npy\")\n",
    "datasetA_r = numpy.load(\"dataset_a_r.npy\")\n",
    "\n",
    "print(\"Dataset A: conjunto_Q={} conjunto_R={}\".format(datasetA_q.shape, datasetA_r.shape))"
   ]
  },
  {
   "cell_type": "markdown",
   "id": "4ac3267e",
   "metadata": {},
   "source": [
    "## Crear R-tree (toma unos 5 minutos)"
   ]
  },
  {
   "cell_type": "code",
   "execution_count": null,
   "id": "ebac267a",
   "metadata": {},
   "outputs": [],
   "source": [
    "t0 = time.time()\n",
    "rtree_A = crear_indice(datasetA_r)\n",
    "t1 = time.time()\n",
    "print(\"tiempo creacion indice: {:.1f} segs ({:.1f} mins)\".format(t1-t0, (t1-t0)/60))"
   ]
  },
  {
   "cell_type": "markdown",
   "id": "8fcb161a",
   "metadata": {},
   "source": [
    "## Buscar en el R-tree (toma de 10 a 15 minutos)"
   ]
  },
  {
   "cell_type": "code",
   "execution_count": null,
   "id": "1c33eb86",
   "metadata": {},
   "outputs": [],
   "source": [
    "t0 = time.time()\n",
    "nns_A = busqueda_nn(rtree_A, datasetA_q)\n",
    "t1 = time.time()\n",
    "print(\"tiempo busqueda NN: {:.1f} segs ({:.1f} mins)\".format(t1-t0, (t1-t0)/60))"
   ]
  },
  {
   "cell_type": "markdown",
   "id": "370ffb50",
   "metadata": {},
   "source": [
    "## Comparar con linear scan del anexo anterior"
   ]
  },
  {
   "cell_type": "code",
   "execution_count": null,
   "id": "b6289609",
   "metadata": {},
   "outputs": [],
   "source": [
    "# cargar resultado del linear scan que fue guardado por el Anexo anterior\n",
    "nns_ideal = numpy.load('dataset_a-nns-linear_scan.npy')\n",
    "\n",
    "def evaluar_busqueda(nns):\n",
    "    correctas = 0\n",
    "    incorrectas = 0\n",
    "    for i in range(len(nns_ideal)):\n",
    "        if nns[i] == nns_ideal[i]: \n",
    "            correctas += 1\n",
    "        else:\n",
    "            incorrectas += 1 \n",
    "    precision = correctas / (correctas + incorrectas)\n",
    "    print(\"  correctas={} incorrectas={} precision={:.1%}\".format(correctas, incorrectas, precision))\n",
    "\n",
    "evaluar_busqueda(nns_A)"
   ]
  },
  {
   "cell_type": "markdown",
   "id": "1e11bd10-ed8d-4855-b551-354717fa88a2",
   "metadata": {},
   "source": [
    "\n",
    "Los resultados son idénticos en 4.881 de las 5.000 consultas. La diferencia en la respuesta de 119 consultas que se podría deber a que al calcular la distancia euclidiana entre floats, no obtuvo exactamente el mismo valor, por lo que encontró otro elemento que era el más cercano.\n",
    "\n",
    "En el Anexo anterior se ve que el Linear Scan demora cerca de 30 segundos en comparar todos los elementos. En este caso resolver la búsqueda exacta con R-tree demora más de 10 minutos (!!) por lo que no se ve como buena opción para reemplazar el linear scan."
   ]
  },
  {
   "cell_type": "markdown",
   "id": "acc407c9",
   "metadata": {},
   "source": [
    "# Pregunta\n",
    "\n",
    "Notar la diferencia en performance entre el R-Tree y el k-d tree cuando se usa un dataset de vectores de 128-d. En el anexo anterior se vio que el k-d tree para búsqueda exacta funciona levemente mejor que el Linear scan, mientras que en este ejemplo se ve que el R-tree es mucho más lento que el Linear Scan.\n",
    "\n",
    "**¿A que se puede deber que el R-Tree funcione tan mal en este dataset (mucho peor que linear scan y que k-d tree)? ¿Por qué el k-d tree no tiene ese efecto?** "
   ]
  }
 ],
 "metadata": {
  "kernelspec": {
   "display_name": "Python 3 (ipykernel)",
   "language": "python",
   "name": "python3"
  },
  "language_info": {
   "codemirror_mode": {
    "name": "ipython",
    "version": 3
   },
   "file_extension": ".py",
   "mimetype": "text/x-python",
   "name": "python",
   "nbconvert_exporter": "python",
   "pygments_lexer": "ipython3",
   "version": "3.13.3"
  }
 },
 "nbformat": 4,
 "nbformat_minor": 5
}
