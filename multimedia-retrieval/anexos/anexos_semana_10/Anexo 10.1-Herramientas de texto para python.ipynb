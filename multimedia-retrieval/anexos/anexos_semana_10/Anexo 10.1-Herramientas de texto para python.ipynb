{
 "cells": [
  {
   "cell_type": "markdown",
   "metadata": {},
   "source": [
    "# Herramientas de texto para python\n",
    "\n",
    "**Curso**: CC5213 - Recuperación de Información Multimedia  \n",
    "**Profesor**: Juan Manuel Barrios  \n",
    "**Fecha**: 21 de mayo de 2025\n",
    "\n",
    "Algunos ejemplos \n",
    "\n",
    "```\n",
    "pip install nltk\n",
    "```"
   ]
  },
  {
   "cell_type": "markdown",
   "metadata": {},
   "source": [
    "## Stopwords\n",
    "\n",
    "NLTK viene con listas de stop words para distintos idiomas."
   ]
  },
  {
   "cell_type": "code",
   "execution_count": null,
   "metadata": {},
   "outputs": [],
   "source": [
    "import nltk\n",
    "from nltk.corpus import stopwords\n",
    "\n",
    "nltk.download('stopwords')\n",
    "# son descargadas y guardadas en una carpeta \"nltk_data/corpora/\" en el home de usuario (se pueden modificar)\n",
    "\n",
    "stoplist = sorted(stopwords.words('spanish'))\n",
    "\n",
    "print(\"HAY {} STOP WORDS:\".format(len(stoplist)))\n",
    "print(\" \".join(stoplist))"
   ]
  },
  {
   "cell_type": "markdown",
   "metadata": {},
   "source": [
    "__Pregunta:__ ¿Son realmente estas +-300 palabras descartables?\n",
    "\n",
    "(buscando en la documentación de NLTK no encontré el criterio que se usó para definir estas palabras, ni quien las definió)"
   ]
  },
  {
   "cell_type": "markdown",
   "metadata": {},
   "source": [
    "## WordNet\n",
    "\n",
    "Se puede descargar la base de datos en: https://wordnet.princeton.edu/download/current-version\n",
    "\n",
    "Se puede ver la documentación de NLTK en: https://www.nltk.org/howto/wordnet.html"
   ]
  },
  {
   "cell_type": "code",
   "execution_count": null,
   "metadata": {},
   "outputs": [],
   "source": [
    "import nltk\n",
    "from nltk.corpus import wordnet\n",
    "\n",
    "nltk.download('wordnet')\n",
    "\n",
    "lista_synsets = wordnet.synsets('lion')\n",
    "\n",
    "for syn in lista_synsets:\n",
    "    print()\n",
    "    print(syn)\n",
    "    print(\"  -definicion: {}\".format(syn.definition()))\n",
    "    print(\"  -palabras: {}\".format(syn.lemma_names()))\n",
    "    print(\"  -padres: {}\".format(syn.hypernyms()))\n",
    "    print(\"  -hijos: {}\".format(syn.hyponyms()))\n",
    "\n"
   ]
  },
  {
   "cell_type": "markdown",
   "metadata": {},
   "source": [
    "## WordNet con español\n",
    "Se puede usar palabras en español que asocia a synsets en inglés."
   ]
  },
  {
   "cell_type": "code",
   "execution_count": null,
   "metadata": {},
   "outputs": [],
   "source": [
    "nltk.download('omw-1.4')\n",
    "\n",
    "lista_synsets = wordnet.synsets('gato', lang='spa')\n",
    "\n",
    "for syn in lista_synsets:\n",
    "    print()\n",
    "    print(syn)\n",
    "    print(\"  -definicion: {}\".format(syn.definition()))\n",
    "    print(\"  -palabras: {}\".format(syn.lemma_names()))\n",
    "    print(\"  -padres: {}\".format(syn.hypernyms()))\n",
    "    print(\"  -hijos: {}\".format(syn.hyponyms()))\n"
   ]
  },
  {
   "cell_type": "markdown",
   "metadata": {},
   "source": [
    "## Similitud entre conceptos (synsets)\n"
   ]
  },
  {
   "cell_type": "code",
   "execution_count": null,
   "metadata": {},
   "outputs": [],
   "source": [
    "synset1 = wordnet.synset('cat.n.01')\n",
    "synset2 = wordnet.synset('dog.n.01')\n",
    "\n",
    "print(synset1.path_similarity(synset2))\n"
   ]
  },
  {
   "cell_type": "code",
   "execution_count": null,
   "metadata": {},
   "outputs": [],
   "source": [
    "lista_synsets = wordnet.synsets('stem')\n",
    "\n",
    "for syn in lista_synsets:\n",
    "    print()\n",
    "    print(syn)\n",
    "    print(\"  -definicion: {}\".format(syn.definition()))\n",
    "    print(\"  -palabras: {}\".format(syn.lemma_names()))\n",
    "    print(\"  -padres: {}\".format(syn.hypernyms()))\n",
    "    print(\"  -hijos: {}\".format(syn.hyponyms()))"
   ]
  },
  {
   "cell_type": "markdown",
   "metadata": {},
   "source": [
    "Para la documentación de wordnet: https://www.nltk.org/howto/wordnet.html"
   ]
  }
 ],
 "metadata": {
  "kernelspec": {
   "display_name": "Python 3 (ipykernel)",
   "language": "python",
   "name": "python3"
  },
  "language_info": {
   "codemirror_mode": {
    "name": "ipython",
    "version": 3
   },
   "file_extension": ".py",
   "mimetype": "text/x-python",
   "name": "python",
   "nbconvert_exporter": "python",
   "pygments_lexer": "ipython3",
   "version": "3.13.3"
  }
 },
 "nbformat": 4,
 "nbformat_minor": 4
}
