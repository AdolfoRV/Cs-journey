{
  "nbformat": 4,
  "nbformat_minor": 0,
  "metadata": {
    "colab": {
      "provenance": [],
      "collapsed_sections": [
        "X1lbTIwKAFBT",
        "HjAGjcQPlQoA"
      ]
    },
    "kernelspec": {
      "name": "python3",
      "display_name": "Python 3"
    },
    "language_info": {
      "name": "python"
    }
  },
  "cells": [
    {
      "cell_type": "markdown",
      "source": [
        "# Tarea 4 Modelamiento y Optimización IN3171-1\n",
        "# Integrantes (sec 1): Adolfo Rojas Valenzuela, Diego E. Cristallini"
      ],
      "metadata": {
        "id": "i3sxRdQQEEGe"
      }
    },
    {
      "cell_type": "markdown",
      "source": [
        "# Parte 1)"
      ],
      "metadata": {
        "id": "X1lbTIwKAFBT"
      }
    },
    {
      "cell_type": "code",
      "execution_count": null,
      "metadata": {
        "id": "-CF03zkgtNUA",
        "colab": {
          "base_uri": "https://localhost:8080/"
        },
        "outputId": "bbcd8f63-c083-49c7-f707-3fa440079559"
      },
      "outputs": [
        {
          "output_type": "stream",
          "name": "stdout",
          "text": [
            "Collecting gurobipy\n",
            "  Downloading gurobipy-11.0.2-cp310-cp310-manylinux2014_x86_64.manylinux_2_17_x86_64.whl (13.4 MB)\n",
            "\u001b[2K     \u001b[90m━━━━━━━━━━━━━━━━━━━━━━━━━━━━━━━━━━━━━━━━\u001b[0m \u001b[32m13.4/13.4 MB\u001b[0m \u001b[31m63.2 MB/s\u001b[0m eta \u001b[36m0:00:00\u001b[0m\n",
            "\u001b[?25hInstalling collected packages: gurobipy\n",
            "Successfully installed gurobipy-11.0.2\n"
          ]
        }
      ],
      "source": [
        "!pip install gurobipy"
      ]
    },
    {
      "cell_type": "code",
      "source": [
        "from gurobipy import Model, GRB\n",
        "\n",
        "# Crear el modelo\n",
        "m = Model(\"Muebles3B\")\n",
        "\n",
        "# Parámetros\n",
        "H = {'A': (50, 60),\n",
        "     'B': (42, 48),\n",
        "     'C': (30, 35)}\n",
        "h_disponibles = {'A': 40, 'B': 30, 'C': 35}\n",
        "salario_h = {'A': 3.6, 'B': 4.2, 'C': 5.5}\n",
        "\n",
        "# Variables de decisión\n",
        "x = m.addVars(['A', 'B', 'C'], [1, 2], lb=0, name=\"x\")\n",
        "s = m.addVars([1, 2, 3], vtype=GRB.CONTINUOUS, lb=0, name=\"s\")\n",
        "\n",
        "# Restricciones\n",
        "m.addConstr(x.sum('*', 1) == 1, \"mesas\")\n",
        "m.addConstr(x.sum('*', 2) == 1, \"sillas\")\n",
        "\n",
        "k = 0\n",
        "for i, (h1, h2) in H.items():\n",
        "    k += 1\n",
        "    m.addConstr(h1 * x[i, 1] + h2 * x[i, 2] + s[k] == h_disponibles[i], f\"horas_{i}\")\n",
        "\n",
        "# Función objetivo\n",
        "m.setObjective(\n",
        "    sum(salario_h[i] * (H[i][0] * x[i, 1] + H[i][1] * x[i, 2]) for i in H),\n",
        "    GRB.MINIMIZE\n",
        ")\n",
        "\n",
        "# Optimizar el modelo\n",
        "m.optimize()\n",
        "\n",
        "# Resultados\n",
        "if m.status == GRB.OPTIMAL:\n",
        "    print(f\"Costo mínimo: ${m.objVal:.2f}\")\n",
        "    for v in m.getVars():\n",
        "        print(f\"{v.varName}: {v.x:.3f}\" if v.x != 0 else f\"{v.varName}: {v.x:.0f}\")\n",
        "else:\n",
        "    print(\"No se encontró una solución óptima\")"
      ],
      "metadata": {
        "id": "HiH_3lA6uBkD",
        "colab": {
          "base_uri": "https://localhost:8080/"
        },
        "outputId": "0b8a06f6-c4c2-4c10-8cde-e23ac10cffca"
      },
      "execution_count": null,
      "outputs": [
        {
          "output_type": "stream",
          "name": "stdout",
          "text": [
            "Gurobi Optimizer version 11.0.2 build v11.0.2rc0 (linux64 - \"Ubuntu 22.04.3 LTS\")\n",
            "\n",
            "CPU model: Intel(R) Xeon(R) CPU @ 2.20GHz, instruction set [SSE2|AVX|AVX2]\n",
            "Thread count: 1 physical cores, 2 logical processors, using up to 2 threads\n",
            "\n",
            "Optimize a model with 5 rows, 9 columns and 15 nonzeros\n",
            "Model fingerprint: 0x332bff03\n",
            "Coefficient statistics:\n",
            "  Matrix range     [1e+00, 6e+01]\n",
            "  Objective range  [2e+02, 2e+02]\n",
            "  Bounds range     [0e+00, 0e+00]\n",
            "  RHS range        [1e+00, 4e+01]\n",
            "Presolve removed 0 rows and 3 columns\n",
            "Presolve time: 0.01s\n",
            "Presolved: 5 rows, 6 columns, 12 nonzeros\n",
            "\n",
            "Iteration    Objective       Primal Inf.    Dual Inf.      Time\n",
            "       0    3.5750000e+02   3.750000e+00   0.000000e+00      0s\n",
            "       3    3.6725000e+02   0.000000e+00   0.000000e+00      0s\n",
            "\n",
            "Solved in 3 iterations and 0.02 seconds (0.00 work units)\n",
            "Optimal objective  3.672500000e+02\n",
            "Costo mínimo: $367.25\n",
            "x[A,1]: 0.271\n",
            "x[A,2]: 0\n",
            "x[B,1]: 0\n",
            "x[B,2]: 0.625\n",
            "x[C,1]: 0.729\n",
            "x[C,2]: 0.375\n",
            "s[1]: 26.458\n",
            "s[2]: 0\n",
            "s[3]: 0\n"
          ]
        }
      ]
    },
    {
      "cell_type": "code",
      "source": [
        "from gurobipy import Model, GRB\n",
        "\n",
        "# Crear el modelo\n",
        "m = Model(\"dualMuebles3B\")\n",
        "\n",
        "# Variables de decisión\n",
        "y1 = m.addVar(name=\"y1\")\n",
        "y2 = m.addVar(name=\"y2\")\n",
        "yA = m.addVar(name=\"yA\", lb=0)\n",
        "yB = m.addVar(name=\"yB\", lb=0)\n",
        "yC = m.addVar(name=\"yC\", lb=0)\n",
        "\n",
        "# Restricciones\n",
        "m.addConstr(y1 - 50*yA <= 180, \"constraint1\")\n",
        "m.addConstr(y2 - 60*yA <= 216, \"constraint2\")\n",
        "m.addConstr(y1 - 42*yB <= 176.4, \"constraint3\")\n",
        "m.addConstr(y2 - 48*yB <= 201.6, \"constraint4\")\n",
        "m.addConstr(y1 - 30*yC <= 165, \"constraint5\")\n",
        "m.addConstr(y2 - 35*yC <= 192.5, \"constraint6\")\n",
        "\n",
        "# Función objetivo\n",
        "m.setObjective(y1 + y2 - 40*yA - 30*yB - 35*yC, GRB.MAXIMIZE)\n",
        "\n",
        "# Optimizar el modelo\n",
        "m.optimize()\n",
        "\n",
        "# Resultados\n",
        "if m.status == GRB.OPTIMAL:\n",
        "    print(\"Valor óptimo de la función objetivo: \", m.objVal)\n",
        "    for v in m.getVars():\n",
        "        print(f\"{v.varName}: {v.x}\")\n",
        "else:\n",
        "    print(\"No se encontró una solución óptima\")\n"
      ],
      "metadata": {
        "colab": {
          "base_uri": "https://localhost:8080/"
        },
        "id": "BG5Td8WPLLtN",
        "outputId": "32e2925f-0f58-429c-f2cd-6d4aa20e9a05"
      },
      "execution_count": null,
      "outputs": [
        {
          "output_type": "stream",
          "name": "stdout",
          "text": [
            "Gurobi Optimizer version 11.0.2 build v11.0.2rc0 (linux64 - \"Ubuntu 22.04.3 LTS\")\n",
            "\n",
            "CPU model: Intel(R) Xeon(R) CPU @ 2.20GHz, instruction set [SSE2|AVX|AVX2]\n",
            "Thread count: 1 physical cores, 2 logical processors, using up to 2 threads\n",
            "\n",
            "Optimize a model with 6 rows, 5 columns and 12 nonzeros\n",
            "Model fingerprint: 0x435f2962\n",
            "Coefficient statistics:\n",
            "  Matrix range     [1e+00, 6e+01]\n",
            "  Objective range  [1e+00, 4e+01]\n",
            "  Bounds range     [0e+00, 0e+00]\n",
            "  RHS range        [2e+02, 2e+02]\n",
            "Presolve time: 0.02s\n",
            "Presolved: 6 rows, 5 columns, 12 nonzeros\n",
            "\n",
            "Iteration    Objective       Primal Inf.    Dual Inf.      Time\n",
            "       0    1.2000000e+31   5.000000e+30   1.200000e+01      0s\n",
            "       5    3.6725000e+02   0.000000e+00   0.000000e+00      0s\n",
            "\n",
            "Solved in 5 iterations and 0.04 seconds (0.00 work units)\n",
            "Optimal objective  3.672500000e+02\n",
            "Valor óptimo de la función objetivo:  367.25\n",
            "y1: 180.0\n",
            "y2: 210.0\n",
            "yA: 0.0\n",
            "yB: 0.17500000000000013\n",
            "yC: 0.5\n"
          ]
        }
      ]
    },
    {
      "cell_type": "markdown",
      "source": [
        "# Parte 2)"
      ],
      "metadata": {
        "id": "HjAGjcQPlQoA"
      }
    },
    {
      "cell_type": "code",
      "source": [
        "from gurobipy import Model, GRB\n",
        "\n",
        "# Conjuntos de vértices y aristas\n",
        "V = [1, 2, 3, 4, 5]\n",
        "I = [1, 2, 3, 4, 5, 6]\n",
        "E = [(1, 2), (1, 4), (2, 4), (2, 3), (3, 4), (3, 5)]\n",
        "Cliques = [[1, 2, 4], [2, 3, 4]]\n",
        "\n",
        "# Crear el modelo\n",
        "model = Model('Maximal Independent Set')\n",
        "\n",
        "# Crear las variables\n",
        "# x = model.addVars(V, vtype=GRB.BINARY, name=\"x\")\n",
        "x = model.addVars(V, vtype=GRB.CONTINUOUS, lb=0, name=\"x\")\n",
        "# s = model.addVars(I, vtype=GRB.CONTINUOUS, lb=0, name=\"s\")\n",
        "\n",
        "# Establecer la función objetivo\n",
        "model.setObjective(x.sum(), GRB.MAXIMIZE)\n",
        "\n",
        "# Agregar las restricciones de adyacencia\n",
        "k = 0\n",
        "for (i, j) in E:\n",
        "    k += 1\n",
        "    try:\n",
        "      model.addConstr(x[i] + x[j] + s[k] == 1, f\"edge_{i}_{j}\")\n",
        "    except:\n",
        "      model.addConstr(x[i] + x[j] <= 1, f\"edge_{i}_{j}\")\n",
        "\n",
        "# Agregar las restricciones de los cliques\n",
        "try:\n",
        "    for C in Cliques:\n",
        "        model.addConstr(sum(x[i] for i in C) <= 1, f\"clique_{'_'.join(map(str, C))}\")\n",
        "except:\n",
        "    pass\n",
        "\n",
        "# Optimizar el modelo\n",
        "model.optimize()\n",
        "\n",
        "# Imprimir los resultados\n",
        "if model.status == GRB.OPTIMAL:\n",
        "    print(\"Óptimo: $\", model.objVal)\n",
        "    for v in model.getVars():\n",
        "        if v.x == 0:\n",
        "            print(f\"{v.varName}: 0\")\n",
        "        else:\n",
        "            print(f\"{v.varName}: {v.x}\")\n",
        "else:\n",
        "    print(\"No hay óptimo\")"
      ],
      "metadata": {
        "colab": {
          "base_uri": "https://localhost:8080/"
        },
        "id": "RrJ4cSyblUmE",
        "outputId": "5c717c0d-9329-4480-cc71-72d20d9d97c0"
      },
      "execution_count": null,
      "outputs": [
        {
          "output_type": "stream",
          "name": "stdout",
          "text": [
            "Gurobi Optimizer version 11.0.2 build v11.0.2rc0 (linux64 - \"Ubuntu 22.04.3 LTS\")\n",
            "\n",
            "CPU model: Intel(R) Xeon(R) CPU @ 2.20GHz, instruction set [SSE2|AVX|AVX2]\n",
            "Thread count: 1 physical cores, 2 logical processors, using up to 2 threads\n",
            "\n",
            "Optimize a model with 8 rows, 5 columns and 18 nonzeros\n",
            "Model fingerprint: 0xc5ac3206\n",
            "Coefficient statistics:\n",
            "  Matrix range     [1e+00, 1e+00]\n",
            "  Objective range  [1e+00, 1e+00]\n",
            "  Bounds range     [0e+00, 0e+00]\n",
            "  RHS range        [1e+00, 1e+00]\n",
            "Presolve removed 4 rows and 2 columns\n",
            "Presolve time: 0.01s\n",
            "Presolved: 4 rows, 3 columns, 9 nonzeros\n",
            "\n",
            "Iteration    Objective       Primal Inf.    Dual Inf.      Time\n",
            "       0    3.0000000e+00   2.000000e+00   0.000000e+00      0s\n",
            "       2    2.0000000e+00   0.000000e+00   0.000000e+00      0s\n",
            "\n",
            "Solved in 2 iterations and 0.02 seconds (0.00 work units)\n",
            "Optimal objective  2.000000000e+00\n",
            "Óptimo: $ 2.0\n",
            "x[1]: 0\n",
            "x[2]: 0\n",
            "x[3]: 0\n",
            "x[4]: 1.0\n",
            "x[5]: 1.0\n"
          ]
        }
      ]
    },
    {
      "cell_type": "code",
      "source": [
        "from gurobipy import Model, GRB\n",
        "\n",
        "# Crear el modelo dual sin clique\n",
        "dual = Model('Dual')\n",
        "\n",
        "V = [1, 2, 3, 4, 5, 6]\n",
        "\n",
        "# Crear las variables\n",
        "y = dual.addVars(V, vtype=GRB.CONTINUOUS, lb=0, name=\"y\")\n",
        "\n",
        "# Establecer la función objetivo\n",
        "dual.setObjective(y.sum(), GRB.MINIMIZE)\n",
        "\n",
        "# Agregar las restricciones\n",
        "dual.addConstr(y[1] + y[2] >= 1, 'd1')\n",
        "dual.addConstr(y[1] + y[3] + y[4] >= 1, 'd2')\n",
        "dual.addConstr(y[3] + y[5] + y[6] >= 1, 'd3')\n",
        "dual.addConstr(y[2] + y[4] + y[5] >= 1, 'd4')\n",
        "dual.addConstr(y[6] >= 1, 'd5')\n",
        "\n",
        "# Optimizar el modelo\n",
        "dual.optimize()\n",
        "\n",
        "# Imprimir los resultados\n",
        "if dual.status == GRB.OPTIMAL:\n",
        "    print(\"Óptimo: $\", dual.objVal)\n",
        "    for v in dual.getVars():\n",
        "        if v.x == 0:\n",
        "            print(f\"{v.varName}: 0\")\n",
        "        else:\n",
        "            print(f\"{v.varName}: {v.x}\")"
      ],
      "metadata": {
        "colab": {
          "base_uri": "https://localhost:8080/"
        },
        "id": "EqBnaeT0aTxf",
        "outputId": "d2a51689-3ecc-45f5-f5f2-a1764c2dc2b8"
      },
      "execution_count": null,
      "outputs": [
        {
          "output_type": "stream",
          "name": "stdout",
          "text": [
            "Gurobi Optimizer version 11.0.2 build v11.0.2rc0 (linux64 - \"Ubuntu 22.04.3 LTS\")\n",
            "\n",
            "CPU model: Intel(R) Xeon(R) CPU @ 2.20GHz, instruction set [SSE2|AVX|AVX2]\n",
            "Thread count: 1 physical cores, 2 logical processors, using up to 2 threads\n",
            "\n",
            "Optimize a model with 5 rows, 6 columns and 12 nonzeros\n",
            "Model fingerprint: 0x5922c23a\n",
            "Coefficient statistics:\n",
            "  Matrix range     [1e+00, 1e+00]\n",
            "  Objective range  [1e+00, 1e+00]\n",
            "  Bounds range     [0e+00, 0e+00]\n",
            "  RHS range        [1e+00, 1e+00]\n",
            "Presolve removed 2 rows and 1 columns\n",
            "Presolve time: 0.03s\n",
            "Presolved: 3 rows, 5 columns, 8 nonzeros\n",
            "\n",
            "Iteration    Objective       Primal Inf.    Dual Inf.      Time\n",
            "       0    1.0000000e+00   3.000000e+00   0.000000e+00      0s\n",
            "       3    2.5000000e+00   0.000000e+00   0.000000e+00      0s\n",
            "\n",
            "Solved in 3 iterations and 0.04 seconds (0.00 work units)\n",
            "Optimal objective  2.500000000e+00\n",
            "Óptimo: $ 2.5\n",
            "y[1]: 0.5\n",
            "y[2]: 0.5\n",
            "y[3]: 0\n",
            "y[4]: 0.5\n",
            "y[5]: 0\n",
            "y[6]: 1.0\n"
          ]
        }
      ]
    },
    {
      "cell_type": "markdown",
      "source": [
        "# Parte 3)\n",
        "Mátriz $A$ del primal para el grafo propuesto\n",
        "$\\left(\\begin{matrix}\n",
        "-1 & 1 & 1 & 0 & 0 & 0 & 0 & 0 & 0 & 0 \\\\\n",
        "0 & -1 & 0 & 1 & 1 & 0 & 0 & 0 & 0 & 0 \\\\\n",
        "0 & 0 & -1 & -1 & 0 & 1 & 1 & 0 & 0 & 0 \\\\\n",
        "0 & 0 & 0 & 0 & -1 & -1 & 0 & 1 & 1 & 0 \\\\\n",
        "0 & 0 & 0 & 0 & 0 & 0 & -1 & -1 & 0 & 1 \\\\\n",
        "1 & 0 & 0 & 0 & 0 & 0 & 0 & 0 & -1 & -1 \\\\\n",
        "0 & 1 & 0 & 0 & 0 & 0 & 0 & 0 & 0 & 0 \\\\\n",
        "0 & 0 & 1 & 0 & 0 & 0 & 0 & 0 & 0 & 0 \\\\\n",
        "0 & 0 & 0 & 1 & 0 & 0 & 0 & 0 & 0 & 0 \\\\\n",
        "0 & 0 & 0 & 0 & 1 & 0 & 0 & 0 & 0 & 0 \\\\\n",
        "0 & 0 & 0 & 0 & 0 & 1 & 0 & 0 & 0 & 0 \\\\\n",
        "0 & 0 & 0 & 0 & 0 & 0 & 1 & 0 & 0 & 0 \\\\\n",
        "0 & 0 & 0 & 0 & 0 & 0 & 0 & 1 & 0 & 0 \\\\\n",
        "0 & 0 & 0 & 0 & 0 & 0 & 0 & 0 & 1 & 0 \\\\\n",
        "0 & 0 & 0 & 0 & 0 & 0 & 0 & 0 & 0 & 1\n",
        "\\end{matrix}\\right)$"
      ],
      "metadata": {
        "id": "UfJK6gViG9rJ"
      }
    },
    {
      "cell_type": "code",
      "source": [
        "import gurobipy as gp\n",
        "from gurobipy import GRB\n",
        "\n",
        "# Conjuntos de nodos y aristas\n",
        "N = ['s', '1', '2', '3', '4', 't']\n",
        "A = [('s', '1'), ('s', '2'), ('1', '2'), ('1', '3'), ('2', '3'), ('2', '4'), ('3', '4'), ('3', 't'), ('4', 't')]\n",
        "\n",
        "# Capacidad de las aristas\n",
        "u = {\n",
        "    ('1', '3'): 2, ('3', '4'): 2,\n",
        "    ('2', '3'): 3, ('2', '4'): 3,\n",
        "    ('s', '1'): 4, ('1', '2'): 4, ('3', 't'): 4,\n",
        "    ('s', '2'): 5, ('4', 't'): 5\n",
        "}\n",
        "\n",
        "# Crear un nuevo modelo\n",
        "m = gp.Model(\"max_flow\")\n",
        "\n",
        "# Crear variables de flujo x_ij para cada arco (i, j) en A\n",
        "x = m.addVars(A, lb=0, name=\"x\")\n",
        "\n",
        "# Crear la variable de flujo total v\n",
        "v = m.addVar(name=\"v\")\n",
        "\n",
        "# Establecer el objetivo: maximizar v\n",
        "m.setObjective(v, GRB.MAXIMIZE)\n",
        "\n",
        "# Restricciones de flujo\n",
        "# Restricción de flujo en el nodo fuente 's'\n",
        "m.addConstr(v == x[('s', '1')] + x[('s', '2')], \"flow_conservation_s\")\n",
        "\n",
        "# Restricciones de conservación de flujo en los nodos intermedios\n",
        "m.addConstr(x[('s', '1')] == x[('1', '2')] + x[('1', '3')], \"flow_conservation_1\")\n",
        "m.addConstr(x[('s', '2')] + x[('1', '2')] == x[('2', '3')] + x[('2', '4')], \"flow_conservation_2\")\n",
        "m.addConstr(x[('1', '3')] + x[('2', '3')] == x[('3', '4')] + x[('3', 't')], \"flow_conservation_3\")\n",
        "m.addConstr(x[('2', '4')] + x[('3', '4')] == x[('4', 't')], \"flow_conservation_4\")\n",
        "\n",
        "# Restricción de flujo en el nodo sumidero 't'\n",
        "m.addConstr(x[('3', 't')] + x[('4', 't')] == v, \"flow_conservation_t\")\n",
        "\n",
        "# Restricciones de capacidad para cada arco\n",
        "m.addConstrs((x[i, j] <= u[i, j] for i, j in A), \"capacity\")\n",
        "\n",
        "# Optimizar el modelo\n",
        "m.optimize()\n",
        "\n",
        "# Imprimir los resultados\n",
        "if m.status == GRB.OPTIMAL:\n",
        "    print(\"Optimal value (maximum flow):\", v.X)\n",
        "    for (i, j) in A:\n",
        "        print(f\"Flow on arc ({i}, {j}): {x[i,j].X}\")\n",
        "else:\n",
        "    print(\"No optimal solution found.\")"
      ],
      "metadata": {
        "colab": {
          "base_uri": "https://localhost:8080/"
        },
        "id": "yP4OXs6XfuKu",
        "outputId": "26078173-391e-4ddb-d3bf-5f9fe254cc8d"
      },
      "execution_count": null,
      "outputs": [
        {
          "output_type": "stream",
          "name": "stdout",
          "text": [
            "Gurobi Optimizer version 11.0.2 build v11.0.2rc0 (linux64 - \"Ubuntu 22.04.3 LTS\")\n",
            "\n",
            "CPU model: Intel(R) Xeon(R) CPU @ 2.20GHz, instruction set [SSE2|AVX|AVX2]\n",
            "Thread count: 1 physical cores, 2 logical processors, using up to 2 threads\n",
            "\n",
            "Optimize a model with 15 rows, 10 columns and 29 nonzeros\n",
            "Model fingerprint: 0x7c222b61\n",
            "Coefficient statistics:\n",
            "  Matrix range     [1e+00, 1e+00]\n",
            "  Objective range  [1e+00, 1e+00]\n",
            "  Bounds range     [0e+00, 0e+00]\n",
            "  RHS range        [2e+00, 5e+00]\n",
            "Presolve removed 12 rows and 4 columns\n",
            "Presolve time: 0.01s\n",
            "Presolved: 3 rows, 6 columns, 9 nonzeros\n",
            "\n",
            "Iteration    Objective       Primal Inf.    Dual Inf.      Time\n",
            "       0    9.0000000e+00   3.000000e+00   0.000000e+00      0s\n",
            "       2    8.0000000e+00   0.000000e+00   0.000000e+00      0s\n",
            "\n",
            "Solved in 2 iterations and 0.02 seconds (0.00 work units)\n",
            "Optimal objective  8.000000000e+00\n",
            "Optimal value (maximum flow): 8.0\n",
            "Flow on arc (s, 1): 4.0\n",
            "Flow on arc (s, 2): 4.0\n",
            "Flow on arc (1, 2): 2.0\n",
            "Flow on arc (1, 3): 2.0\n",
            "Flow on arc (2, 3): 3.0\n",
            "Flow on arc (2, 4): 3.0\n",
            "Flow on arc (3, 4): 1.0\n",
            "Flow on arc (3, t): 4.0\n",
            "Flow on arc (4, t): 4.0\n"
          ]
        }
      ]
    },
    {
      "cell_type": "code",
      "source": [
        "m = gp.Model(\"dual_max_flow\")\n",
        "\n",
        "# Crear variables duales y_ij para cada restricción de conservación de flujo y z_ij para cada restricción de capacidad\n",
        "y = m.addVars(N, lb=-GRB.INFINITY, name=\"y\")\n",
        "z = m.addVars(A, lb=0, name=\"z\")\n",
        "\n",
        "# Establecer el objetivo: minimizar la suma ponderada de las capacidades u_ij por las variables duales z_ij\n",
        "m.setObjective(gp.quicksum(u[i, j] * z[i, j] for i, j in A), GRB.MINIMIZE)\n",
        "\n",
        "# Restricción del valor del flujo total\n",
        "m.addConstr(y['t'] - y['s'] == 1, \"total_flow\")\n",
        "\n",
        "# Restricciones duales para cada arco (i, j)\n",
        "for i, j in A:\n",
        "    m.addConstr(y[i] - y[j] + z[i, j] >= 0, f\"dual_constraint_{i}_{j}\")\n",
        "\n",
        "# Optimizar el modelo\n",
        "m.optimize()\n",
        "\n",
        "# Imprimir los resultados\n",
        "if m.status == GRB.OPTIMAL:\n",
        "    print(\"Optimal value (minimum cost):\", m.objVal)\n",
        "    for i in N:\n",
        "        print(f\"Dual variable y[{i}]: {y[i].X}\")\n",
        "    for (i, j) in A:\n",
        "        print(f\"Dual variable z[{i},{j}]: {z[i,j].X}\")\n",
        "else:\n",
        "    print(\"No optimal solution found.\")"
      ],
      "metadata": {
        "colab": {
          "base_uri": "https://localhost:8080/"
        },
        "id": "pJFYrb2-f5BI",
        "outputId": "c5e8b9cf-3375-48a8-f0b9-d174b4c4680b"
      },
      "execution_count": null,
      "outputs": [
        {
          "output_type": "stream",
          "name": "stdout",
          "text": [
            "Gurobi Optimizer version 11.0.2 build v11.0.2rc0 (linux64 - \"Ubuntu 22.04.3 LTS\")\n",
            "\n",
            "CPU model: Intel(R) Xeon(R) CPU @ 2.20GHz, instruction set [SSE2|AVX|AVX2]\n",
            "Thread count: 1 physical cores, 2 logical processors, using up to 2 threads\n",
            "\n",
            "Optimize a model with 10 rows, 15 columns and 29 nonzeros\n",
            "Model fingerprint: 0x6f9e50cb\n",
            "Coefficient statistics:\n",
            "  Matrix range     [1e+00, 1e+00]\n",
            "  Objective range  [2e+00, 5e+00]\n",
            "  Bounds range     [0e+00, 0e+00]\n",
            "  RHS range        [1e+00, 1e+00]\n",
            "Presolve removed 5 rows and 4 columns\n",
            "Presolve time: 0.01s\n",
            "Presolved: 5 rows, 11 columns, 27 nonzeros\n",
            "\n",
            "Iteration    Objective       Primal Inf.    Dual Inf.      Time\n",
            "       0    0.0000000e+00   3.000000e+00   0.000000e+00      0s\n",
            "       5    8.0000000e+00   0.000000e+00   0.000000e+00      0s\n",
            "\n",
            "Solved in 5 iterations and 0.02 seconds (0.00 work units)\n",
            "Optimal objective  8.000000000e+00\n",
            "Optimal value (minimum cost): 8.0\n",
            "Dual variable y[s]: -1.0\n",
            "Dual variable y[1]: -1.0\n",
            "Dual variable y[2]: -1.0\n",
            "Dual variable y[3]: 0.0\n",
            "Dual variable y[4]: 0.0\n",
            "Dual variable y[t]: 0.0\n",
            "Dual variable z[s,1]: 0.0\n",
            "Dual variable z[s,2]: 0.0\n",
            "Dual variable z[1,2]: 0.0\n",
            "Dual variable z[1,3]: 1.0\n",
            "Dual variable z[2,3]: 1.0\n",
            "Dual variable z[2,4]: 1.0\n",
            "Dual variable z[3,4]: 0.0\n",
            "Dual variable z[3,t]: 0.0\n",
            "Dual variable z[4,t]: 0.0\n"
          ]
        }
      ]
    }
  ]
}