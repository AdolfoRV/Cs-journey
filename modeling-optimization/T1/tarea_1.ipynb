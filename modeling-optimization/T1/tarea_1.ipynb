{
  "nbformat": 4,
  "nbformat_minor": 0,
  "metadata": {
    "colab": {
      "provenance": []
    },
    "kernelspec": {
      "name": "python3",
      "display_name": "Python 3"
    },
    "language_info": {
      "name": "python"
    }
  },
  "cells": [
    {
      "cell_type": "markdown",
      "source": [
        "# Tarea 1 Modelamiento y Optimización IN3171-1\n",
        "# Integrantes (sec 1): Adolfo Rojas Valenzuela, Diego E. Cristallini\n",
        "# Fecha de entrega: 01 de abril de 2024"
      ],
      "metadata": {
        "id": "i3sxRdQQEEGe"
      }
    },
    {
      "cell_type": "markdown",
      "source": [
        "# Parte a)"
      ],
      "metadata": {
        "id": "X1lbTIwKAFBT"
      }
    },
    {
      "cell_type": "code",
      "execution_count": 2,
      "metadata": {
        "colab": {
          "base_uri": "https://localhost:8080/"
        },
        "id": "-CF03zkgtNUA",
        "outputId": "d9725b47-4cd1-4882-a0c6-75d89217f55a"
      },
      "outputs": [
        {
          "output_type": "stream",
          "name": "stdout",
          "text": [
            "Collecting gurobipy\n",
            "  Downloading gurobipy-11.0.1-cp310-cp310-manylinux2014_x86_64.manylinux_2_17_x86_64.whl (13.4 MB)\n",
            "\u001b[2K     \u001b[90m━━━━━━━━━━━━━━━━━━━━━━━━━━━━━━━━━━━━━━━━\u001b[0m \u001b[32m13.4/13.4 MB\u001b[0m \u001b[31m34.0 MB/s\u001b[0m eta \u001b[36m0:00:00\u001b[0m\n",
            "\u001b[?25hInstalling collected packages: gurobipy\n",
            "Successfully installed gurobipy-11.0.1\n"
          ]
        }
      ],
      "source": [
        "#Se instala la extensión de Gurobi\n",
        "!pip install gurobipy"
      ]
    },
    {
      "cell_type": "code",
      "source": [
        "from gurobipy import *\n",
        "import numpy as np\n",
        "import time\n",
        "\n",
        "trabajadores = range(5) #Se define la cantidad de trabajadores\n",
        "estaciones = range(5) #Se define la cantidad de estaciones\n",
        "clientes = range(3) #Se define la cantidad de clientes\n",
        "\n",
        "# Cantidad de producto pedido por el cliente k\n",
        "demanda = [250, 150, 120]\n",
        "\n",
        "# Matríz de productividad asociado a lo producido por el trabajador i si fuese contratado en la estación j\n",
        "S = [[100, 180, 150,  90, 0],\n",
        "    [80,   120,  90, 100, 0],\n",
        "    [130,   80,  90,  85, 0],\n",
        "    [200,   80, 120, 150, 0],\n",
        "    [70,   130,  80, 130, 0]]\n",
        "\n",
        "# Matríz de costos asociados a transportar producto desde la estación j al cliente k\n",
        "C = [[10,  5,   5],\n",
        "    [8,    5,   6],\n",
        "    [8,    7,  10],\n",
        "    [6,    3,   4],\n",
        "    [0,    0,   0]]"
      ],
      "metadata": {
        "id": "DUAzl03W1Idd"
      },
      "execution_count": 3,
      "outputs": []
    },
    {
      "cell_type": "markdown",
      "source": [
        "# Parte b)"
      ],
      "metadata": {
        "id": "niCz8ndgAKEL"
      }
    },
    {
      "cell_type": "code",
      "source": [
        "# Crear el modelo\n",
        "modelov1 = Model(\"Optitalia v1\")\n",
        "\n",
        "## Variables de decisión:\n",
        "w = modelov1.addVars(trabajadores, estaciones, vtype='B', name=\"w\")\n",
        "x = modelov1.addVars(estaciones, clientes, lb=0, vtype='I', name=\"x\")\n",
        "\n",
        "## Restricciones:\n",
        "\n",
        "# Asignación:\n",
        "modelov1.addConstrs((w.sum('*', j) == 1 for j in estaciones))                   # Cada estación debe tener 1 solo trabajador (la igualdad puede ser relajada, siempre será más óptimo tener las estaciones ocupadas)\n",
        "modelov1.addConstrs((w.sum(i, '*') == 1 for i in trabajadores))                 # Cada trabajador solo puede ser asignado a 1 única estación (en caso de trabajar con 4 estaciones se necesita trabajar con <= pues no hay relación 1 a 1 posible)\n",
        "\n",
        "# Demanda:\n",
        "modelov1.addConstrs((x.sum('*', k) >= demanda[k] for k in clientes))            # La cantidad enviada a cada cliente debe ser a lo menos lo que este exige (de todas formas nunca se enviará más pues esto tiene un costo asociado)\n",
        "\n",
        "# Relación entre variables:\n",
        "for j in estaciones:\n",
        "    modelov1.addConstr((quicksum(x[j,k] for k in clientes)) <= quicksum(w[i,j]*S[i][j] for i in trabajadores))    # Como no hay inventario previo, lo que vende/produce cada estación no puede ser más de lo que el trabajador contratado en dicha estación podría producir\n",
        "\n",
        "## Función objetivo:\n",
        "FO1 = quicksum(x[j,k]*C[j][k] for j in estaciones for k in clientes)\n",
        "modelov1.setObjective(FO1, GRB.MINIMIZE)\n",
        "\n",
        "# Medir el tiempo de ejecución antes de optimizar\n",
        "start_time = time.time()\n",
        "\n",
        "# Ocultar el texto y optimizar el modelo\n",
        "modelov1.Params.LogToConsole = 0\n",
        "modelov1.optimize()\n",
        "\n",
        "# Medir el tiempo de ejecución después de optimizar\n",
        "end_time = time.time()\n",
        "\n",
        "# Verificar si se encontró una solución óptima\n",
        "if modelov1.status == GRB.OPTIMAL:\n",
        "    print(\"\\nSolución óptima encontrada:\")\n",
        "    print()\n",
        "    for i in trabajadores:\n",
        "        for j in estaciones:\n",
        "            if w[i, j].x == 1:\n",
        "                if j+1 != 5:\n",
        "                    print(f\"Trabajador {i+1} fue asignado a la estación {j+1}\")\n",
        "                else:\n",
        "                    print(f\"Trabajador {i+1} no fue contratado\")\n",
        "    print()\n",
        "    for k in clientes:\n",
        "        for j in estaciones:\n",
        "            if x[j, k].x > 0:\n",
        "                print(f\"Cantidad enviada desde estación {j+1} al cliente {k+1}: {int(x[j, k].X)}\")\n",
        "\n",
        "    # Imprimir el costo total\n",
        "    costo_total = modelov1.objVal\n",
        "    print(f\"\\nCosto total de la solución óptima: {costo_total}\")\n",
        "\n",
        "else:\n",
        "    print(\"No se encontró solución óptima.\")\n",
        "\n",
        "# Calcular y mostrar el tiempo de ejecución\n",
        "print(f\"\\nTiempo de ejecución: {end_time - start_time} segundos.\")"
      ],
      "metadata": {
        "id": "HiH_3lA6uBkD",
        "colab": {
          "base_uri": "https://localhost:8080/"
        },
        "outputId": "d2139122-5728-4b3d-a4fd-b73d101e5b55"
      },
      "execution_count": 5,
      "outputs": [
        {
          "output_type": "stream",
          "name": "stdout",
          "text": [
            "\n",
            "Solución óptima encontrada:\n",
            "\n",
            "Trabajador 1 fue asignado a la estación 3\n",
            "Trabajador 2 no fue contratado\n",
            "Trabajador 3 fue asignado a la estación 1\n",
            "Trabajador 4 fue asignado a la estación 4\n",
            "Trabajador 5 fue asignado a la estación 2\n",
            "\n",
            "Cantidad enviada desde estación 2 al cliente 1: 100\n",
            "Cantidad enviada desde estación 3 al cliente 1: 150\n",
            "Cantidad enviada desde estación 4 al cliente 2: 150\n",
            "Cantidad enviada desde estación 1 al cliente 3: 120\n",
            "\n",
            "Costo total de la solución óptima: 3050.0\n",
            "\n",
            "Tiempo de ejecución: 0.0033996105194091797 segundos.\n"
          ]
        }
      ]
    },
    {
      "cell_type": "markdown",
      "source": [
        "# Parte c)"
      ],
      "metadata": {
        "id": "mVxukp6SAOF9"
      }
    },
    {
      "cell_type": "code",
      "source": [
        "# Matrices de producción y costo\n",
        "P = [130, 180, 120, 100, 0]  # Ajuste para que coincida con el número de estaciones\n",
        "\n",
        "# Crear el modelo\n",
        "modelocf = Model(\"Optitalia Capacidades Fijas\")\n",
        "\n",
        "# Variables de decisión\n",
        "x = modelocf.addVars(estaciones, clientes, lb=0, vtype='I', name=\"x\")\n",
        "\n",
        "# Restricciones de demanda\n",
        "modelocf.addConstrs((x.sum('*', k) >= demanda[k] for k in clientes))\n",
        "\n",
        "# Restricciones de capacidades fijas\n",
        "for j in estaciones:\n",
        "    modelocf.addConstr(x.sum(j, '*') <= P[j])\n",
        "\n",
        "# Función objetivo\n",
        "FO2 = quicksum(x[j, k] * C[j][k] for j in estaciones for k in clientes)\n",
        "modelocf.setObjective(FO2, GRB.MINIMIZE)\n",
        "\n",
        "# Medir el tiempo de ejecución antes de optimizar\n",
        "start_time = time.time()\n",
        "\n",
        "# Ocultar el texto y optimizar el modelo\n",
        "modelocf.Params.LogToConsole = 0\n",
        "modelocf.optimize()\n",
        "\n",
        "# Medir el tiempo de ejecución después de optimizar\n",
        "end_time = time.time()\n",
        "\n",
        "# Mostrar la solución y el costo\n",
        "if modelocf.status == GRB.OPTIMAL:\n",
        "    print(\"\\nSolución óptima encontrada:\")\n",
        "    print()\n",
        "    for j in estaciones:\n",
        "        for k in clientes:\n",
        "            if x[j, k].x > 0:\n",
        "                print(f\"La cantidad enviada desde estación {j+1} al cliente {k+1}: {int(x[j, k].X)}\")\n",
        "    print(f\"\\nCosto total de la solución óptima: {modelocf.ObjVal}\")\n",
        "    print(f\"Diferencia de costo Optitalia Capacidades Fijas y Optitalia v1: {abs(modelov1.ObjVal-modelocf.ObjVal)}\")\n",
        "else:\n",
        "    print(\"No se encontró solución óptima.\")\n",
        "\n",
        "# Calcular y mostrar el tiempo de ejecución\n",
        "print(f\"\\nTiempo de ejecución: {end_time - start_time} segundos.\")"
      ],
      "metadata": {
        "colab": {
          "base_uri": "https://localhost:8080/"
        },
        "id": "gOdakkdIk-IA",
        "outputId": "ae88c482-d4ec-411f-8152-0066e89f1d3c"
      },
      "execution_count": null,
      "outputs": [
        {
          "output_type": "stream",
          "name": "stdout",
          "text": [
            "\n",
            "Solución óptima encontrada:\n",
            "\n",
            "La cantidad enviada desde estación 1 al cliente 2: 10\n",
            "La cantidad enviada desde estación 1 al cliente 3: 120\n",
            "La cantidad enviada desde estación 2 al cliente 1: 130\n",
            "La cantidad enviada desde estación 2 al cliente 2: 40\n",
            "La cantidad enviada desde estación 3 al cliente 1: 120\n",
            "La cantidad enviada desde estación 4 al cliente 2: 100\n",
            "\n",
            "Costo total de la solución óptima: 3150.0\n",
            "Diferencia de costo Optitalia Capacidades Fijas y Optitalia v1: 100.0\n",
            "\n",
            "Tiempo de ejecución: 0.001965761184692383 segundos.\n"
          ]
        }
      ]
    },
    {
      "cell_type": "markdown",
      "source": [
        "# Parte d)"
      ],
      "metadata": {
        "id": "tYJzu_NJAPit"
      }
    },
    {
      "cell_type": "code",
      "source": [
        "# Crear el modelo\n",
        "modelo = Model(\"Optitalia v2\")\n",
        "\n",
        "## Variables de decisión:\n",
        "w = modelo.addVars(trabajadores, estaciones, vtype='B', name=\"w\")\n",
        "x = modelo.addVars(estaciones, clientes, lb=0, vtype='I', name=\"x\")\n",
        "u = modelo.addVar(vtype='B', name=\"u\")                                          # Esta es la variable binaria auxiliar que \"detecta\" si trabajadores 1 y 4 fueron asignados a la vez\n",
        "\n",
        "## Restricciones:\n",
        "\n",
        "# Asignación:\n",
        "modelo.addConstrs((w.sum('*', j) == 1 for j in estaciones))\n",
        "modelo.addConstrs((w.sum(i, '*') == 1 for i in trabajadores))\n",
        "\n",
        "# Demanda:\n",
        "modelo.addConstrs((x.sum('*', k) >= demanda[k] for k in clientes))\n",
        "\n",
        "# Relación entre variables:\n",
        "chambea1 = quicksum(w[1-1,j] for j in estaciones[:-1])                          # El [:-1] es para no contar la 5ta estación de desempleo\n",
        "chambea4 = quicksum(w[4-1,j] for j in estaciones[:-1])\n",
        "\n",
        "modelo.addConstr(u <= chambea1)                                                 # Si 1 no trabaja, no nos preocupamos. Caso contrario faltaría ver al trabajador 4\n",
        "modelo.addConstr(u <= chambea4)                                                 # Análogo a la restricción anterior\n",
        "modelo.addConstr(u >= chambea1 + chambea4 - 1)                                  # En caso de que ambos estén asignados, obligar a la variable que se active\n",
        "\n",
        "for j in estaciones:\n",
        "  if j+1 != 5:\n",
        "    modelo.addConstr((quicksum(x[j,k] for k in clientes)) <= quicksum(w[i,j]*S[i][j] for i in trabajadores) - 10*u) # Por cada iteración restamos 10 de producción si u es 1\n",
        "  # En el caso de que estemos en la estación de desempleo y los trabajadores 1, 4 estén asignados, obligamos a que la venta en el resto de estaciones no se vea afectada\n",
        "  else:\n",
        "    modelo.addConstr((quicksum(x[j,k] for k in clientes)) == 0)\n",
        "\n",
        "## Función objetivo:\n",
        "FO3 = quicksum(x[j,k]*C[j][k] for j in estaciones for k in clientes)\n",
        "modelo.Params.LogToConsole = 0\n",
        "modelo.setObjective(FO3, GRB.MINIMIZE)\n",
        "modelo.optimize()\n",
        "\n",
        "# Medir el tiempo de ejecución antes de optimizar\n",
        "start_time = time.time()\n",
        "\n",
        "if modelo.status == GRB.OPTIMAL:\n",
        "  print(f\"Solución óptima encontrada:\")\n",
        "  print()\n",
        "  for i in trabajadores:\n",
        "    for j in estaciones:\n",
        "      if w[i, j].x == 1:\n",
        "        if j+1 != 5:\n",
        "          print(f\"Trabajador {i+1} fue asignado a la estación {j+1}\")\n",
        "        else:\n",
        "          print(f\"Trabajador {i+1} no fue contratado\")\n",
        "        break\n",
        "  print()\n",
        "  for k in clientes:\n",
        "    for j in estaciones:\n",
        "      if x[j, k].x > 0:\n",
        "        print(f\"Cantidad enviada desde estación {j+1} al cliente {k+1}: {int(x[j, k].x)}\")\n",
        "  print(f\"\\nCosto total de la solución óptima: {modelo.ObjVal}\")\n",
        "else:\n",
        "  print(\"No se encontró solución óptima.\")\n",
        "\n",
        "# Medir el tiempo de ejecución después de optimizar\n",
        "end_time = time.time()\n",
        "\n",
        "# Calcular y mostrar el tiempo de ejecución\n",
        "print(f\"\\nTiempo de ejecución: {end_time - start_time} segundos.\")"
      ],
      "metadata": {
        "id": "IHgjAYh8NLoO",
        "colab": {
          "base_uri": "https://localhost:8080/"
        },
        "outputId": "ca05d89a-af4b-4891-980d-bf949807b137"
      },
      "execution_count": null,
      "outputs": [
        {
          "output_type": "stream",
          "name": "stdout",
          "text": [
            "Solución óptima encontrada:\n",
            "\n",
            "Trabajador 1 fue asignado a la estación 3\n",
            "Trabajador 2 no fue contratado\n",
            "Trabajador 3 fue asignado a la estación 1\n",
            "Trabajador 4 fue asignado a la estación 4\n",
            "Trabajador 5 fue asignado a la estación 2\n",
            "\n",
            "Cantidad enviada desde estación 2 al cliente 1: 110\n",
            "Cantidad enviada desde estación 3 al cliente 1: 140\n",
            "Cantidad enviada desde estación 2 al cliente 2: 10\n",
            "Cantidad enviada desde estación 4 al cliente 2: 140\n",
            "Cantidad enviada desde estación 1 al cliente 3: 120\n",
            "\n",
            "Costo total de la solución óptima: 3070.0\n",
            "\n",
            "Tiempo de ejecución: 0.011181116104125977 segundos.\n"
          ]
        }
      ]
    }
  ]
}