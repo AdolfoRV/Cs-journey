{
  "nbformat": 4,
  "nbformat_minor": 0,
  "metadata": {
    "colab": {
      "provenance": []
    },
    "kernelspec": {
      "name": "python3",
      "display_name": "Python 3"
    },
    "language_info": {
      "name": "python"
    }
  },
  "cells": [
    {
      "cell_type": "code",
      "source": [
        "%pip install -i https://pypi.gurobi.com gurobipy\n",
        "from gurobipy import *"
      ],
      "metadata": {
        "id": "CJT7Yz0RKGNT"
      },
      "execution_count": null,
      "outputs": []
    },
    {
      "cell_type": "code",
      "execution_count": null,
      "metadata": {
        "colab": {
          "base_uri": "https://localhost:8080/"
        },
        "id": "HiSF6hRCIp27",
        "outputId": "47207b66-a348-44a7-c749-5be1c943b3ef"
      },
      "outputs": [
        {
          "output_type": "stream",
          "name": "stdout",
          "text": [
            "Gurobi Optimizer version 11.0.1 build v11.0.1rc0 (linux64 - \"Ubuntu 22.04.3 LTS\")\n",
            "\n",
            "CPU model: Intel(R) Xeon(R) CPU @ 2.20GHz, instruction set [SSE2|AVX|AVX2]\n",
            "Thread count: 1 physical cores, 2 logical processors, using up to 2 threads\n",
            "\n",
            "Optimize a model with 4 rows, 2 columns and 6 nonzeros\n",
            "Model fingerprint: 0xce91defc\n",
            "Coefficient statistics:\n",
            "  Matrix range     [1e+00, 4e+00]\n",
            "  Objective range  [7e+00, 8e+00]\n",
            "  Bounds range     [0e+00, 0e+00]\n",
            "  RHS range        [2e+01, 2e+01]\n",
            "Presolve removed 2 rows and 0 columns\n",
            "Presolve time: 0.01s\n",
            "Presolved: 2 rows, 2 columns, 4 nonzeros\n",
            "\n",
            "Iteration    Objective       Primal Inf.    Dual Inf.      Time\n",
            "       0    7.2000000e+01   2.996500e+00   0.000000e+00      0s\n",
            "       2    5.2000000e+01   0.000000e+00   0.000000e+00      0s\n",
            "\n",
            "Solved in 2 iterations and 0.02 seconds (0.00 work units)\n",
            "Optimal objective  5.200000000e+01\n",
            "\n",
            "Optimal value= 52.0\n",
            "x1= 3.0\n",
            "x2= 4.0\n"
          ]
        }
      ],
      "source": [
        "model = Model(\"SimpleLP\")\n",
        "x1 = model.addVar(vtype=\"C\", name = \"x1\")\n",
        "x2 = model.addVar(vtype=\"C\", name = \"x2\")\n",
        "model.addConstr(2*x1 + 3*x2 <= 18)\n",
        "model.addConstr(4*x1 + 3*x2 <= 24)\n",
        "model.addConstr(x1 >= 0)\n",
        "model.addConstr(x2 >= 0)\n",
        "model.setObjective(8*x1 + 7*x2, GRB.MAXIMIZE)\n",
        "model.update()\n",
        "model.optimize()\n",
        "print()\n",
        "print(\"Optimal value=\", model.ObjVal)\n",
        "print(\"x1=\", x1.X)\n",
        "print(\"x2=\", x2.X)"
      ]
    }
  ]
}