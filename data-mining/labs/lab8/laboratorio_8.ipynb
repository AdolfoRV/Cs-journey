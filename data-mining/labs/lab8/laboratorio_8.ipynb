{
 "cells": [
  {
   "cell_type": "markdown",
   "metadata": {
    "id": "p_XcuC2rXQWb",
    "pycharm": {}
   },
   "source": [
    "# Laboratorio Recuperativo: Redes Neuronales"
   ]
  },
  {
   "cell_type": "markdown",
   "metadata": {
    "id": "SHpR6V832KCZ"
   },
   "source": [
    "Integrantes: Adolfo Ignacio Rojas Valenzuela (sección 2), Emilia Chávez Salamanca (sección 1)"
   ]
  },
  {
   "cell_type": "markdown",
   "metadata": {
    "heading_collapsed": true,
    "id": "bxEPucKhXQWg",
    "pycharm": {}
   },
   "source": [
    "# Instrucciones\n",
    "\n",
    "\n",
    "1. Trabajen en equipos de dos personas. Salvo excepciones, no se corregirá entregas con menos de dos integrantes.\n",
    "\n",
    "2. Modifiquen este archivo `.ipynb` agregando sus respuestas donde corresponda.\n",
    "\n",
    "3. Cuando finalicen el laboratorio, **generen un archivo HTML** usando jupyter (ver tutorial 3) y súbanlo a U-Cursos. El laboratorio debe ser entregado sólo por 1 integrante. Si se entrega por más de un integrante, se revisará cualquiera de éstos."
   ]
  },
  {
   "cell_type": "code",
   "execution_count": 1,
   "metadata": {
    "id": "QfO8OR5zQ96k"
   },
   "outputs": [],
   "source": [
    "# pip install scipy scikit-learn numpy pandas torch"
   ]
  },
  {
   "cell_type": "markdown",
   "metadata": {
    "id": "jTuloXfOjXak"
   },
   "source": [
    "# **Redes Neuronales con Scikit-learn**\n",
    "\n",
    "**Objetivo**\n",
    "\n",
    "En este laboratorio, trabajarán con el dataset Fashion-MNIST para entrenar y evaluar modelos de redes neuronales usando tanto scikit-learn como PyTorch. Aprenderán a explorar datos, entrenar modelos, y analizar sus resultados."
   ]
  },
  {
   "cell_type": "markdown",
   "metadata": {
    "id": "UhtsGjQMQ96m"
   },
   "source": [
    "Primero preparamos el dataset y vemos cómo se ven las imágenes."
   ]
  },
  {
   "cell_type": "code",
   "execution_count": 2,
   "metadata": {
    "id": "hRVFDAHpQ96n"
   },
   "outputs": [
    {
     "name": "stdout",
     "output_type": "stream",
     "text": [
      "El dataset tiene 5000 ejemplos y 784 características\n",
      "El dataset tiene 10 clases: ['0' '1' '2' '3' '4' '5' '6' '7' '8' '9']\n"
     ]
    },
    {
     "data": {
      "image/png": "[encoded data removed]",
      "text/plain": [
       "<Figure size 2000x2000 with 10 Axes>"
      ]
     },
     "metadata": {},
     "output_type": "display_data"
    }
   ],
   "source": [
    "import numpy as np\n",
    "import matplotlib.pyplot as plt\n",
    "import seaborn as sns\n",
    "from IPython.display import display, Markdown\n",
    "from sklearn.model_selection import train_test_split\n",
    "from sklearn.datasets import fetch_openml\n",
    "\n",
    "sns.set_theme()\n",
    "\n",
    "# Cargar el dataset Fashion-MNIST\n",
    "X, y = fetch_openml(\"Fashion-MNIST\", version=1, return_X_y=True, as_frame=False)\n",
    "\n",
    "# El dataset es muy grande por lo que tomamos solo una muestra\n",
    "np.random.seed(42)\n",
    "idx = np.random.choice(len(X), 5000, replace=False)\n",
    "X = X[idx]\n",
    "y = y[idx]\n",
    "\n",
    "n_features = X.shape[1]\n",
    "n_classes = len(np.unique(y))\n",
    "print(f\"El dataset tiene {X.shape[0]} ejemplos y {n_features} características\")\n",
    "print(f\"El dataset tiene {n_classes} clases: {np.unique(y)}\")\n",
    "\n",
    "unique_labels = np.unique(y)\n",
    "\n",
    "\n",
    "# Normalizar los datos\n",
    "X = X / 255.0  # Normalizar\n",
    "y = y.astype(int)  # Asegurar que las etiquetas son enteros\n",
    "\n",
    "# Dividir el dataset en entrenamiento (70%), validación (15%) y test (15%)\n",
    "X_train, X_temp, y_train, y_temp = train_test_split(X, y, test_size=0.3, random_state=42)\n",
    "X_val, X_test, y_val, y_test = train_test_split(X_temp, y_temp, test_size=0.5, random_state=42)\n",
    "\n",
    "# Mostramos un ejemplo por cada clase\n",
    "fig, axes = plt.subplots(1, len(unique_labels), figsize=(20, 20))\n",
    "for i, label in enumerate(unique_labels):\n",
    "    axes[i].imshow(X_train[y_train == i][0].reshape(28, 28), cmap=\"gray\")\n",
    "    axes[i].set_title(label)\n",
    "    axes[i].axis(\"off\")\n",
    "plt.show()"
   ]
  },
  {
   "cell_type": "markdown",
   "metadata": {
    "id": "zzDAhFS7Q96o"
   },
   "source": [
    "### **Entrenamiento de un MLP con scikit-learn**"
   ]
  },
  {
   "cell_type": "markdown",
   "metadata": {
    "id": "eSg3Pk71Q96p"
   },
   "source": [
    "**Pregunta 1**\n",
    "\n",
    "Crea 2 MLPs con sklearn con los siguientes parámetros:\n",
    "\n",
    "El primero debe tener:\n",
    "- 3 capas ocultas de 32, 16 y 16 neuronas respectivamente.\n",
    "- Función de activación ReLU.\n",
    "- El modelo debe tener un máximo de 300 iteraciones.\n",
    "\n",
    "y debes guardarlo en la variable `mlp1`.\n",
    "\n",
    "El segundo debe tener:\n",
    "- 3 capas ocultas de 64, 32 y 16 neuronas respectivamente.\n",
    "- Función de activación ReLU.\n",
    "- El modelo debe tener un máximo de 300 iteraciones.\n",
    "\n",
    "y debes guardarlo en la variable `mlp2`.\n",
    "\n",
    "**Recuerda setear un random_state para que los resultados sean reproducibles.**"
   ]
  },
  {
   "cell_type": "code",
   "execution_count": 3,
   "metadata": {},
   "outputs": [],
   "source": [
    "# Random state seed\n",
    "rs = 42"
   ]
  },
  {
   "cell_type": "code",
   "execution_count": 4,
   "metadata": {
    "id": "AhgvDxOTQ96p"
   },
   "outputs": [],
   "source": [
    "from sklearn.neural_network import MLPClassifier\n",
    "\n",
    "mlp1 = MLPClassifier(\n",
    "    hidden_layer_sizes=(32, 16, 16),\n",
    "    activation='relu',\n",
    "    max_iter=300,\n",
    "    random_state=rs\n",
    ")\n",
    "\n",
    "mlp2 = MLPClassifier(\n",
    "    hidden_layer_sizes=(64, 32, 16),\n",
    "    activation='relu',\n",
    "    max_iter=300,\n",
    "    random_state=rs\n",
    ")"
   ]
  },
  {
   "cell_type": "markdown",
   "metadata": {
    "id": "f9B3WVI8Q96q"
   },
   "source": [
    "**Pregunta 2**\n",
    "\n",
    "Para cada modelo\n",
    "\n",
    "- Entrena el MLP\n",
    "- Evalúa su desempeño en el conjunto de validación mostrando el accuracy.\n",
    "- Contestar las siguientes preguntas: ¿Qué modelo tiene mejor desempeño en accuracy? ¿A qué crees que se debe esto?\n",
    "- Crea una variable llamada mlp_best y guarda en ella el mejor modelo."
   ]
  },
  {
   "cell_type": "code",
   "execution_count": 5,
   "metadata": {
    "id": "TyzAod5xQ96q"
   },
   "outputs": [
    {
     "name": "stderr",
     "output_type": "stream",
     "text": [
      "/home/cc5205-labs/venv/lib/python3.13/site-packages/sklearn/neural_network/_multilayer_perceptron.py:691: ConvergenceWarning: Stochastic Optimizer: Maximum iterations (300) reached and the optimization hasn't converged yet.\n",
      "  warnings.warn(\n"
     ]
    },
    {
     "data": {
      "text/markdown": [
       "Métricas de performance en el conjunto de validación para MLP1:"
      ],
      "text/plain": [
       "<IPython.core.display.Markdown object>"
      ]
     },
     "metadata": {},
     "output_type": "display_data"
    },
    {
     "name": "stdout",
     "output_type": "stream",
     "text": [
      "              precision    recall  f1-score   support\n",
      "\n",
      "           0     0.8143    0.7125    0.7600        80\n",
      "           1     0.9036    0.9615    0.9317        78\n",
      "           2     0.7200    0.7500    0.7347        72\n",
      "           3     0.8049    0.8148    0.8098        81\n",
      "           4     0.7051    0.7143    0.7097        77\n",
      "           5     0.9189    0.8193    0.8662        83\n",
      "           6     0.6125    0.6203    0.6164        79\n",
      "           7     0.8615    0.9333    0.8960        60\n",
      "           8     0.9265    0.9545    0.9403        66\n",
      "           9     0.9200    0.9324    0.9262        74\n",
      "\n",
      "    accuracy                         0.8160       750\n",
      "   macro avg     0.8187    0.8213    0.8191       750\n",
      "weighted avg     0.8167    0.8160    0.8154       750\n",
      "\n"
     ]
    },
    {
     "data": {
      "text/markdown": [
       "----"
      ],
      "text/plain": [
       "<IPython.core.display.Markdown object>"
      ]
     },
     "metadata": {},
     "output_type": "display_data"
    },
    {
     "data": {
      "text/markdown": [
       "Métricas de performance en el conjunto de validación para MLP2:"
      ],
      "text/plain": [
       "<IPython.core.display.Markdown object>"
      ]
     },
     "metadata": {},
     "output_type": "display_data"
    },
    {
     "name": "stdout",
     "output_type": "stream",
     "text": [
      "              precision    recall  f1-score   support\n",
      "\n",
      "           0     0.8056    0.7250    0.7632        80\n",
      "           1     0.9740    0.9615    0.9677        78\n",
      "           2     0.6786    0.7917    0.7308        72\n",
      "           3     0.8052    0.7654    0.7848        81\n",
      "           4     0.6875    0.7143    0.7006        77\n",
      "           5     0.9733    0.8795    0.9241        83\n",
      "           6     0.6538    0.6456    0.6497        79\n",
      "           7     0.9062    0.9667    0.9355        60\n",
      "           8     0.9701    0.9848    0.9774        66\n",
      "           9     0.9211    0.9459    0.9333        74\n",
      "\n",
      "    accuracy                         0.8320       750\n",
      "   macro avg     0.8375    0.8380    0.8367       750\n",
      "weighted avg     0.8352    0.8320    0.8325       750\n",
      "\n"
     ]
    },
    {
     "data": {
      "text/markdown": [
       "----"
      ],
      "text/plain": [
       "<IPython.core.display.Markdown object>"
      ]
     },
     "metadata": {},
     "output_type": "display_data"
    }
   ],
   "source": [
    "from sklearn.metrics import classification_report\n",
    "\n",
    "redes = {\n",
    "    \"MLP1\": mlp1,\n",
    "    \"MLP2\": mlp2\n",
    "}\n",
    "\n",
    "for nombre, red in redes.items():\n",
    "    red.fit(X_train, y_train)\n",
    "    \n",
    "    # Evaluar en el conjunto de validación\n",
    "    y_pred = red.predict(X_val)\n",
    "\n",
    "    display(Markdown(f\"Métricas de performance en el conjunto de validación para {nombre}:\"))\n",
    "    print(classification_report(y_val, y_pred, digits=4))\n",
    "    display(Markdown(f\"----\"))"
   ]
  },
  {
   "cell_type": "markdown",
   "metadata": {
    "id": "p3EkGtMQQ96q"
   },
   "source": [
    "**Respuesta:** Nuestro mlp con mejor desempeño es el 2do, esto se puede explicar por la cantidad de epochs/iterations bajo el óptimo y la complejidad extra que tiene mlp2 en comparación con mlp1 (mlp2 es más \"profunda\" lo que si bien escala mal con la cantidad de parámetros entrenables y riesgo de overfitting, al menos permite que el modelo se ajuste mejor a los datos de entrenamiento en caso de tener patrones complejos y converja más rápido para el caso de epochs sub óptimas)"
   ]
  },
  {
   "cell_type": "code",
   "execution_count": 6,
   "metadata": {
    "id": "-WOP_hffQ96r"
   },
   "outputs": [],
   "source": [
    "mlp_best = mlp2"
   ]
  },
  {
   "cell_type": "markdown",
   "metadata": {
    "id": "64hUrOE5Q96r"
   },
   "source": [
    "**Pregunta 3**\n",
    "\n",
    "Para el mejor modelo encontrado en la pregunta anterior (el guardado en la variable `mlp_best`)\n",
    "\n",
    "- Muestra la matriz de confusión para el conjunto de validación\n",
    "- Constete: ¿Qué clase se confunden más entre sí? ¿Por qué crees que ocurre esto? Relacionalo con los productos de cada clase que viste anteriormente (mostrado al cargar los datos)."
   ]
  },
  {
   "cell_type": "code",
   "execution_count": 7,
   "metadata": {},
   "outputs": [
    {
     "data": {
      "image/png": "[encoded data removed]",
      "text/plain": [
       "<Figure size 640x480 with 2 Axes>"
      ]
     },
     "metadata": {},
     "output_type": "display_data"
    },
    {
     "data": {
      "text/markdown": [
       "Cantidad de errores: 126"
      ],
      "text/plain": [
       "<IPython.core.display.Markdown object>"
      ]
     },
     "metadata": {},
     "output_type": "display_data"
    }
   ],
   "source": [
    "import plotly.express as px\n",
    "from sklearn.metrics import confusion_matrix\n",
    "\n",
    "def plot_confusion_matrix(true_label, pred_label, design=0):\n",
    "    mat = confusion_matrix(true_label, pred_label)\n",
    "\n",
    "    if design == 1:\n",
    "        hmap = px.imshow(\n",
    "            mat,\n",
    "            title=\"Matríz de Confusión\",\n",
    "            text_auto=\".0f\",\n",
    "            labels={\"x\": \"Predicted Label\", \"y\": \"True Label\", \"color\": \"Cantidad\"},\n",
    "            color_continuous_scale=\"Reds\"\n",
    "        )\n",
    "    \n",
    "        hmap.show()\n",
    "        \n",
    "    else:\n",
    "        fig, ax = plt.subplots()\n",
    "\n",
    "        ax = sns.heatmap(mat, annot=True, cmap='Reds')\n",
    "        ax.set_ylabel(\"True Label\")\n",
    "        ax.set_xlabel(\"Predicted Label\")\n",
    "    \n",
    "        plt.show()\n",
    "\n",
    "y_pred_best = mlp_best.predict(X_val)\n",
    "plot_confusion_matrix(y_val, y_pred_best)\n",
    "\n",
    "errors = X_val[y_val != y_pred_best]\n",
    "errors_labels = y_pred_best[y_val != y_pred_best]\n",
    "\n",
    "display(Markdown(f\"Cantidad de errores: {errors.shape[0]}\"))"
   ]
  },
  {
   "cell_type": "markdown",
   "metadata": {
    "id": "2tXO_b0EQ96r"
   },
   "source": [
    "**Respuesta**: La mayoría de las confusiones ocurren entre prendas del tren superior, en particular entre los pares {polera (0), camisa (6)}, {camisa (6), polerón/polera manga larga (2)}, {camisa (6), abrigo (4)}, {abrigo (4), polerón (2)}, {vestido (3), abrigo (4)}, entre otros. Esto tiene sentido, ya que las prendas del tren inferior (como pantalones) y los accesorios (como bolsos y calzado) son visualmente más distinguibles, mientras que las prendas del tren superior comparten varias características visuales como el largo de las mangas, forma general y tonalidades. Dada la baja resolución de las imágenes (muy pocos pixeles/datos), es difícil obtener descriptores lo suficientemente robustos para diferenciar entre prendas similares. es dificil que este tipo de red neuronal simple logre mejor desempeño"
   ]
  },
  {
   "cell_type": "markdown",
   "metadata": {
    "id": "QwM5qNeJQ96s"
   },
   "source": [
    "### **Entrenamiento de un MLP con PyTorch**"
   ]
  },
  {
   "cell_type": "code",
   "execution_count": 8,
   "metadata": {
    "id": "1EHnOu62Q96s"
   },
   "outputs": [],
   "source": [
    "import torch\n",
    "import torch.nn as nn\n",
    "from torch.utils.data import DataLoader, TensorDataset\n",
    "import torch.optim as optim"
   ]
  },
  {
   "cell_type": "markdown",
   "metadata": {
    "id": "1sBeOrEGQ96s"
   },
   "source": [
    "**Pregunta 4**\n",
    "\n",
    "Convierta los datos al formato de PyTorch para usar los DataLoader\n",
    "\n",
    "- Transforme los splits de train, val y test a tensores de PyTorch\n",
    "- Cree Datasets de PyTorch con los tensores creados\n",
    "- Cree DataLoaders de PyTorch con los Datasets creados con un batch_size de 64"
   ]
  },
  {
   "cell_type": "code",
   "execution_count": 9,
   "metadata": {
    "id": "TZpCntsnQ96s"
   },
   "outputs": [],
   "source": [
    "# Transformar a tensores de PyTorch\n",
    "X_train_tensor = torch.tensor(X_train, dtype=torch.float32)\n",
    "y_train_tensor = torch.tensor(y_train, dtype=torch.long)\n",
    "X_val_tensor = torch.tensor(X_val, dtype=torch.float32)\n",
    "y_val_tensor = torch.tensor(y_val, dtype=torch.long)\n",
    "X_test_tensor = torch.tensor(X_test, dtype=torch.float32)\n",
    "y_test_tensor = torch.tensor(y_test, dtype=torch.long)\n",
    "\n",
    "# Crear Datasets\n",
    "train_dataset = TensorDataset(X_train_tensor, y_train_tensor)\n",
    "val_dataset = TensorDataset(X_val_tensor, y_val_tensor)\n",
    "test_dataset = TensorDataset(X_test_tensor, y_test_tensor)\n",
    "\n",
    "# Crear DataLoaders\n",
    "train_loader = DataLoader(train_dataset, batch_size=64, shuffle=True)\n",
    "val_loader = DataLoader(val_dataset, batch_size=64)\n",
    "test_loader = DataLoader(test_dataset, batch_size=64)"
   ]
  },
  {
   "cell_type": "markdown",
   "metadata": {
    "id": "xy53LjNaQ96s"
   },
   "source": [
    "**Pregunta 5**\n",
    "\n",
    "Crea un modelo de MLP con PyTorch con la siguiente arquitectura:\n",
    "\n",
    "- 1 capa ocultas de 64 neuronas respectivamente.\n",
    "- Función de activación ReLU.\n",
    "\n",
    "**Recuerda setear un random_state para que los resultados sean reproducibles.**\n",
    "\n",
    "**Hint**: Recuerda que la dimensión de input depende de la cantidad de features que tienes, y la dimensión de output depende de la cantidad de clases que tienes."
   ]
  },
  {
   "cell_type": "code",
   "execution_count": 10,
   "metadata": {},
   "outputs": [
    {
     "data": {
      "text/plain": [
       "<torch._C.Generator at 0xffff5f1f0a70>"
      ]
     },
     "execution_count": 10,
     "metadata": {},
     "output_type": "execute_result"
    }
   ],
   "source": [
    "# Random state pytorch seed\n",
    "torch.manual_seed(rs)"
   ]
  },
  {
   "cell_type": "code",
   "execution_count": 11,
   "metadata": {
    "id": "THiVg-yzQ96s"
   },
   "outputs": [],
   "source": [
    "class MLP(nn.Module):\n",
    "    def __init__(self, input_dim, hidden_dim, output_dim):\n",
    "        super(MLP, self).__init__()\n",
    "        # hidden layer\n",
    "        self.hl = nn.Linear(input_dim, hidden_dim)\n",
    "        # output layer\n",
    "        self.ol = nn.Linear(hidden_dim, output_dim)\n",
    "\n",
    "        self.relu = nn.ReLU()\n",
    "\n",
    "    def forward(self, x):\n",
    "        z = self.relu(self.hl(x))\n",
    "        y = self.ol(z)\n",
    "        return y"
   ]
  },
  {
   "cell_type": "markdown",
   "metadata": {
    "id": "1yT-ylHnQ96t"
   },
   "source": [
    "La siguiente función no debes modificarla, la tendrás que usar en la siguiente pregunta."
   ]
  },
  {
   "cell_type": "code",
   "execution_count": 12,
   "metadata": {
    "id": "dKvuiM2PQ96t"
   },
   "outputs": [],
   "source": [
    "def train_model(model, train_loader, val_loader, criterion, optimizer, epochs, device='cpu'):\n",
    "    \"\"\"\n",
    "    Función general para entrenar modelos en PyTorch, con seguimiento de pérdidas y métricas.\n",
    "\n",
    "    Args:\n",
    "        model: Modelo de PyTorch a entrenar.\n",
    "        train_loader: DataLoader para los datos de entrenamiento.\n",
    "        val_loader: DataLoader para los datos de validación.\n",
    "        criterion: Función de pérdida.\n",
    "        optimizer: Optimizador para el modelo.\n",
    "        epochs: Número de épocas a entrenar.\n",
    "        device: CPU o GPU.\n",
    "\n",
    "    Returns:\n",
    "        metrics: Diccionario con las pérdidas y métricas de validación.\n",
    "    \"\"\"\n",
    "    model.to(device)\n",
    "    train_losses = []\n",
    "    val_losses = []\n",
    "    val_accuracies = []\n",
    "\n",
    "    for epoch in range(epochs):\n",
    "        # Modo de entrenamiento\n",
    "        model.train()\n",
    "        total_train_loss = 0\n",
    "\n",
    "        for X_batch, y_batch in train_loader:\n",
    "            X_batch, y_batch = X_batch.to(device), y_batch.to(device)\n",
    "            optimizer.zero_grad()\n",
    "            outputs = model(X_batch)\n",
    "            loss = criterion(outputs, y_batch)\n",
    "            loss.backward()\n",
    "            optimizer.step()\n",
    "            total_train_loss += loss.item()\n",
    "\n",
    "        # Promediar la pérdida de entrenamiento\n",
    "        avg_train_loss = total_train_loss / len(train_loader)\n",
    "        train_losses.append(avg_train_loss)\n",
    "\n",
    "        # Modo de evaluación\n",
    "        model.eval()\n",
    "        total_val_loss = 0\n",
    "        correct = 0\n",
    "        total = 0\n",
    "        with torch.no_grad():\n",
    "            for X_val_batch, y_val_batch in val_loader:\n",
    "                X_val_batch, y_val_batch = X_val_batch.to(device), y_val_batch.to(device)\n",
    "                val_outputs = model(X_val_batch)\n",
    "                val_loss = criterion(val_outputs, y_val_batch)\n",
    "                total_val_loss += val_loss.item()\n",
    "\n",
    "                _, predicted = torch.max(val_outputs, 1)\n",
    "                correct += (predicted == y_val_batch).sum().item()\n",
    "                total += y_val_batch.size(0)\n",
    "\n",
    "        avg_val_loss = total_val_loss / len(val_loader)\n",
    "        val_losses.append(avg_val_loss)\n",
    "\n",
    "        val_accuracy = correct / total\n",
    "        val_accuracies.append(val_accuracy)\n",
    "\n",
    "        print(f\"Epoch {epoch+1}/{epochs}, Training Loss: {avg_train_loss:.4f}, Validation Loss: {avg_val_loss:.4f}, Validation Accuracy: {val_accuracy:.4f}\")\n",
    "\n",
    "    # Graficar las pérdidas\n",
    "    plt.figure(figsize=(10, 6))\n",
    "    plt.plot(range(1, epochs+1), train_losses, label='Training Loss')\n",
    "    plt.plot(range(1, epochs+1), val_losses, label='Validation Loss', linestyle='--')\n",
    "    plt.xlabel('Epochs')\n",
    "    plt.ylabel('Loss')\n",
    "    plt.title('Loss Evolution During Training')\n",
    "    plt.legend()\n",
    "    plt.grid()\n",
    "    plt.show()\n",
    "\n",
    "    return {'train_loss': train_losses, 'val_loss': val_losses, 'val_accuracy': val_accuracies}"
   ]
  },
  {
   "cell_type": "markdown",
   "metadata": {
    "id": "MV_Sc-AeQ96t"
   },
   "source": [
    "**Pregunta 6**\n",
    "\n",
    "Primero, guarda el modelo creado en la variable `mlp_torch`.\n",
    "\n",
    "Usa la función `train_model` para entrenar tu modelo con los siguientes parámetros:\n",
    "\n",
    "- `model`: tu modelo de MLP de PyTorch\n",
    "- `train_loader`: tu DataLoader de entrenamiento\n",
    "- `val_loader`: tu DataLoader de validación\n",
    "- `criterion` (la función de pérdida): Usa `nn.CrossEntropyLoss()`\n",
    "- `optimizer` (el optimizador): : Usa `optim.Adam(mlp_torch.parameters(), lr=0.001)`\n",
    "- `epochs`: 30\n",
    "\n",
    "y contesta: ¿por qué la loss de entrenamiento es menor que la loss de validación?"
   ]
  },
  {
   "cell_type": "code",
   "execution_count": 14,
   "metadata": {
    "id": "cniMfe6kQ96t"
   },
   "outputs": [
    {
     "name": "stdout",
     "output_type": "stream",
     "text": [
      "Epoch 1/30, Training Loss: 1.3349, Validation Loss: 0.9053, Validation Accuracy: 0.6800\n",
      "Epoch 2/30, Training Loss: 0.7453, Validation Loss: 0.7586, Validation Accuracy: 0.7267\n",
      "Epoch 3/30, Training Loss: 0.6333, Validation Loss: 0.6728, Validation Accuracy: 0.7520\n",
      "Epoch 4/30, Training Loss: 0.5654, Validation Loss: 0.6098, Validation Accuracy: 0.7827\n",
      "Epoch 5/30, Training Loss: 0.5190, Validation Loss: 0.5998, Validation Accuracy: 0.7920\n",
      "Epoch 6/30, Training Loss: 0.4960, Validation Loss: 0.5769, Validation Accuracy: 0.7933\n",
      "Epoch 7/30, Training Loss: 0.4630, Validation Loss: 0.5347, Validation Accuracy: 0.8093\n",
      "Epoch 8/30, Training Loss: 0.4381, Validation Loss: 0.5293, Validation Accuracy: 0.8093\n",
      "Epoch 9/30, Training Loss: 0.4231, Validation Loss: 0.5213, Validation Accuracy: 0.8173\n",
      "Epoch 10/30, Training Loss: 0.4077, Validation Loss: 0.5057, Validation Accuracy: 0.8253\n",
      "Epoch 11/30, Training Loss: 0.4014, Validation Loss: 0.5114, Validation Accuracy: 0.8187\n",
      "Epoch 12/30, Training Loss: 0.3727, Validation Loss: 0.4889, Validation Accuracy: 0.8253\n",
      "Epoch 13/30, Training Loss: 0.3609, Validation Loss: 0.4950, Validation Accuracy: 0.8280\n",
      "Epoch 14/30, Training Loss: 0.3514, Validation Loss: 0.4875, Validation Accuracy: 0.8293\n",
      "Epoch 15/30, Training Loss: 0.3468, Validation Loss: 0.4931, Validation Accuracy: 0.8253\n",
      "Epoch 16/30, Training Loss: 0.3472, Validation Loss: 0.4836, Validation Accuracy: 0.8387\n",
      "Epoch 17/30, Training Loss: 0.3198, Validation Loss: 0.4817, Validation Accuracy: 0.8373\n",
      "Epoch 18/30, Training Loss: 0.3144, Validation Loss: 0.5179, Validation Accuracy: 0.8173\n",
      "Epoch 19/30, Training Loss: 0.3056, Validation Loss: 0.4899, Validation Accuracy: 0.8280\n",
      "Epoch 20/30, Training Loss: 0.2895, Validation Loss: 0.5081, Validation Accuracy: 0.8200\n",
      "Epoch 21/30, Training Loss: 0.2988, Validation Loss: 0.4868, Validation Accuracy: 0.8267\n",
      "Epoch 22/30, Training Loss: 0.2804, Validation Loss: 0.4728, Validation Accuracy: 0.8347\n",
      "Epoch 23/30, Training Loss: 0.2798, Validation Loss: 0.4689, Validation Accuracy: 0.8347\n",
      "Epoch 24/30, Training Loss: 0.2690, Validation Loss: 0.4942, Validation Accuracy: 0.8307\n",
      "Epoch 25/30, Training Loss: 0.2690, Validation Loss: 0.4691, Validation Accuracy: 0.8373\n",
      "Epoch 26/30, Training Loss: 0.2499, Validation Loss: 0.4897, Validation Accuracy: 0.8280\n",
      "Epoch 27/30, Training Loss: 0.2428, Validation Loss: 0.5206, Validation Accuracy: 0.8173\n",
      "Epoch 28/30, Training Loss: 0.2444, Validation Loss: 0.4841, Validation Accuracy: 0.8333\n",
      "Epoch 29/30, Training Loss: 0.2374, Validation Loss: 0.4647, Validation Accuracy: 0.8373\n",
      "Epoch 30/30, Training Loss: 0.2445, Validation Loss: 0.5122, Validation Accuracy: 0.8187\n"
     ]
    },
    {
     "data": {
      "image/png": "[encoded data removed]",
      "text/plain": [
       "<Figure size 1000x600 with 1 Axes>"
      ]
     },
     "metadata": {},
     "output_type": "display_data"
    }
   ],
   "source": [
    "mlp_torch = MLP(input_dim=n_features, hidden_dim=64, output_dim=n_classes)\n",
    "\n",
    "criterion = nn.CrossEntropyLoss()\n",
    "optimizer = optim.Adam(mlp_torch.parameters(), lr=0.001)\n",
    "\n",
    "metrics_mlp = train_model(\n",
    "    model=mlp_torch,\n",
    "    train_loader=train_loader,\n",
    "    val_loader=val_loader,\n",
    "    criterion=criterion,\n",
    "    optimizer=optimizer,\n",
    "    epochs=30\n",
    ")"
   ]
  },
  {
   "cell_type": "markdown",
   "metadata": {
    "id": "gxiRiFRHQ96u"
   },
   "source": [
    "**Respuesta**: Porque nuestro modelo se entrena directamente sobre el conjunto de entrenamiento, ajustando sus parámetros para minimizar la loss function en ese conjunto (este toma el train_loader como ground truth)"
   ]
  },
  {
   "cell_type": "markdown",
   "metadata": {
    "id": "GJeRFopYQ96u"
   },
   "source": [
    "La siguiente función no debes modificarla, la tendrás que usar en la siguiente pregunta."
   ]
  },
  {
   "cell_type": "code",
   "execution_count": 15,
   "metadata": {
    "id": "DMuLGfpFQ96u"
   },
   "outputs": [],
   "source": [
    "# Evaluar el modelo en el conjunto de prueba\n",
    "def evaluate_model(model, data_loader, criterion, device='cpu'):\n",
    "    model.eval()\n",
    "    model.to(device)\n",
    "    data_loss = 0\n",
    "    correct = 0\n",
    "    total = 0\n",
    "\n",
    "    with torch.no_grad():\n",
    "        for X_batch, y_batch in data_loader:\n",
    "            X_batch, y_batch = X_batch.to(device), y_batch.to(device)\n",
    "            outputs = model(X_batch)\n",
    "            loss = criterion(outputs, y_batch)\n",
    "            data_loss += loss.item()\n",
    "\n",
    "            _, predicted = torch.max(outputs, 1)\n",
    "            correct += (predicted == y_batch).sum().item()\n",
    "            total += y_batch.size(0)\n",
    "\n",
    "    accuracy = correct / total\n",
    "    print(f\"Data Accuracy: {accuracy:.4f}\")\n",
    "\n",
    "    avg_loss = data_loss / len(data_loader)\n",
    "    print(f\"Data Loss: {avg_loss:.4f}\")\n",
    "\n",
    "    return {'loss': avg_loss, 'accuracy': accuracy}"
   ]
  },
  {
   "cell_type": "markdown",
   "metadata": {
    "id": "4Hozv8i3Q96u"
   },
   "source": [
    "**Pregunta 7**\n",
    "\n",
    "Usa la función `evaluate_model` para evaluar tu modelo en los conjuntos de entrenamiento, validación y test.\n",
    "\n",
    "Muestra la loss y el accuracy para cada conjunto y contesta: ¿Qué conjunto tiene el mejor desempeño? ¿Por qué crees que es así?\n",
    "\n",
    "La función recibe los siguientes parámetros:\n",
    "\n",
    "- `model`: tu modelo de MLP de PyTorch\n",
    "- `data_loader`: el dataloader de los datos que quieres evaluar\n",
    "- `criterion` (la función de pérdida): Usa `nn.CrossEntropyLoss()`\n",
    "\n",
    "y retorna la loss y el accuracy."
   ]
  },
  {
   "cell_type": "code",
   "execution_count": 20,
   "metadata": {
    "id": "p7ue-HkDQ96v"
   },
   "outputs": [
    {
     "data": {
      "text/markdown": [
       "Evaluación del MLP con el set de entrenamiento:"
      ],
      "text/plain": [
       "<IPython.core.display.Markdown object>"
      ]
     },
     "metadata": {},
     "output_type": "display_data"
    },
    {
     "name": "stdout",
     "output_type": "stream",
     "text": [
      "Data Accuracy: 0.9211\n",
      "Data Loss: 0.2327\n"
     ]
    },
    {
     "data": {
      "text/markdown": [
       "----"
      ],
      "text/plain": [
       "<IPython.core.display.Markdown object>"
      ]
     },
     "metadata": {},
     "output_type": "display_data"
    },
    {
     "data": {
      "text/markdown": [
       "Evaluación del MLP con el set de validación:"
      ],
      "text/plain": [
       "<IPython.core.display.Markdown object>"
      ]
     },
     "metadata": {},
     "output_type": "display_data"
    },
    {
     "name": "stdout",
     "output_type": "stream",
     "text": [
      "Data Accuracy: 0.8187\n",
      "Data Loss: 0.5122\n"
     ]
    },
    {
     "data": {
      "text/markdown": [
       "----"
      ],
      "text/plain": [
       "<IPython.core.display.Markdown object>"
      ]
     },
     "metadata": {},
     "output_type": "display_data"
    },
    {
     "data": {
      "text/markdown": [
       "Evaluación del MLP con el set de test:"
      ],
      "text/plain": [
       "<IPython.core.display.Markdown object>"
      ]
     },
     "metadata": {},
     "output_type": "display_data"
    },
    {
     "name": "stdout",
     "output_type": "stream",
     "text": [
      "Data Accuracy: 0.8200\n",
      "Data Loss: 0.5260\n"
     ]
    },
    {
     "data": {
      "text/markdown": [
       "----"
      ],
      "text/plain": [
       "<IPython.core.display.Markdown object>"
      ]
     },
     "metadata": {},
     "output_type": "display_data"
    }
   ],
   "source": [
    "criterion = nn.CrossEntropyLoss()\n",
    "\n",
    "conjuntos = {\n",
    "    \"entrenamiento\": train_loader,\n",
    "    \"validación\": val_loader,\n",
    "    \"test\": test_loader\n",
    "}\n",
    "\n",
    "for nombre, conjunto in conjuntos.items():\n",
    "    display(Markdown(f\"Evaluación del MLP con el set de {nombre}:\"))\n",
    "    evaluate_model(mlp_torch, conjunto, criterion)\n",
    "    display(Markdown(f\"----\"))"
   ]
  },
  {
   "cell_type": "markdown",
   "metadata": {
    "id": "xJjldKJuQ96v"
   },
   "source": [
    "**Respuesta**: Como el modelo desconoce los sets de validación y testeo (como mencionamos previamente, la optimización se hace respecto a la loss function usando al conjunto de entrenamiento como referencia) es intuitivo que evaluando con el train_loader se obtendrá el mejor desempeño "
   ]
  }
 ],
 "metadata": {
  "anaconda-cloud": {},
  "colab": {
   "provenance": []
  },
  "hide_input": false,
  "kernelspec": {
   "display_name": "venv",
   "language": "python",
   "name": "venv"
  },
  "language_info": {
   "codemirror_mode": {
    "name": "ipython",
    "version": 3
   },
   "file_extension": ".py",
   "mimetype": "text/x-python",
   "name": "python",
   "nbconvert_exporter": "python",
   "pygments_lexer": "ipython3",
   "version": "3.13.3"
  },
  "toc": {
   "base_numbering": 1,
   "nav_menu": {},
   "number_sections": true,
   "sideBar": true,
   "skip_h1_title": false,
   "title_cell": "Table of Contents",
   "title_sidebar": "Contents",
   "toc_cell": false,
   "toc_position": {},
   "toc_section_display": true,
   "toc_window_display": false
  },
  "varInspector": {
   "cols": {
    "lenName": 16,
    "lenType": 16,
    "lenVar": 40
   },
   "kernels_config": {
    "python": {
     "delete_cmd_postfix": "",
     "delete_cmd_prefix": "del ",
     "library": "var_list.py",
     "varRefreshCmd": "print(var_dic_list())"
    },
    "r": {
     "delete_cmd_postfix": ") ",
     "delete_cmd_prefix": "rm(",
     "library": "var_list.r",
     "varRefreshCmd": "cat(var_dic_list()) "
    }
   },
   "types_to_exclude": [
    "module",
    "function",
    "builtin_function_or_method",
    "instance",
    "_Feature"
   ],
   "window_display": false
  }
 },
 "nbformat": 4,
 "nbformat_minor": 0
}
